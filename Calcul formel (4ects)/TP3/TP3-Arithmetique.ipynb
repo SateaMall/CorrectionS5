{
 "cells": [
  {
   "cell_type": "code",
   "execution_count": 3,
   "metadata": {
    "tags": [
     "sujet"
    ]
   },
   "outputs": [],
   "source": [
    "%display latex"
   ]
  },
  {
   "cell_type": "markdown",
   "metadata": {
    "deletable": false,
    "editable": false,
    "run_control": {
     "frozen": true
    }
   },
   "source": [
    "# TP arithmétique et cryptographie\n",
    "\n",
    "Durant cette séance nous nous intéressons à faire des calculs dans des structures mathématiques classiques qui sont d'une grande importance dans les applications en cryptographie.\n",
    "\n",
    "## Introduction\n",
    "\n",
    "Tout d'abord nous allons revenir sur la notion de calcul, et plus particulièrement sur la notion de certains *domaines de calcul*. En effet, dans SageMath nous pouvons calculer avec des entiers ou des nombres rationnels assez facilement à partir d'expression mathématiques.\n"
   ]
  },
  {
   "cell_type": "code",
   "execution_count": 4,
   "metadata": {
    "tags": [
     "sujet"
    ]
   },
   "outputs": [
    {
     "data": {
      "text/html": [
       "<html>\\(\\displaystyle 4\\)</html>"
      ],
      "text/latex": [
       "$\\displaystyle 4$"
      ],
      "text/plain": [
       "4"
      ]
     },
     "execution_count": 4,
     "metadata": {},
     "output_type": "execute_result"
    }
   ],
   "source": [
    "2+2 # calcul avec des entiers"
   ]
  },
  {
   "cell_type": "code",
   "execution_count": 5,
   "metadata": {
    "tags": [
     "sujet"
    ]
   },
   "outputs": [
    {
     "data": {
      "text/html": [
       "<html>\\(\\displaystyle \\frac{29}{21}\\)</html>"
      ],
      "text/latex": [
       "$\\displaystyle \\frac{29}{21}$"
      ],
      "text/plain": [
       "29/21"
      ]
     },
     "execution_count": 5,
     "metadata": {},
     "output_type": "execute_result"
    }
   ],
   "source": [
    "2/3+5/7 # calcul avec des nombres rationnels"
   ]
  },
  {
   "cell_type": "markdown",
   "metadata": {
    "deletable": false,
    "editable": false,
    "run_control": {
     "frozen": true
    }
   },
   "source": [
    "En fait, la notion de calcul sur les entiers ou les rationnels est associé à la notion de *structure mathématique* $\\mathbb Z$ et $\\mathbb{Q}$ pour lesquels les opérations telles que l'addition et la multiplication sont *bien définies*. Par *bien définie*, on entend que l'opération est calculable et que le résultat reste dans le même ensemble de valeurs que celui des entrées : pour $\\star\\in\\{+,\\times\\}$,\n",
    "- $\\forall x,y \\in \\mathbb{Z} \\longrightarrow (x\\star y)\\in\\mathbb{Z}$, et \n",
    "- $\\forall x,y \\in \\mathbb{Q} \\longrightarrow (x \\star y)\\in\\mathbb{Q}$\n",
    "\n",
    "Dans SageMath, les structures $\\mathbb Z$ et $\\mathbb Q$ sont nommées `ZZ` et `QQ`. Par exemple `QQ(3)` construit le *rationnel* $3$ alors que `ZZ(3)` construit l'entier $3$."
   ]
  },
  {
   "cell_type": "markdown",
   "metadata": {
    "deletable": false,
    "editable": false,
    "run_control": {
     "frozen": true
    }
   },
   "source": [
    "### Question\n",
    "Vérifier au travers d'exemples que les résultats des opérations `+` et `*` sur les rationnels sont bien des rationnels. *Essayer de deviner la réponse aux questions qui suivent, puis vérifier avec l'instruction `type(...)` qui fournit le type de son argument.*\n",
    "- Quels sont les types de retour de `ZZ(3)+ZZ(5)` et `QQ(3)+QQ(5)`.\n",
    "- Quelle est la valeur de $\\frac{6}{5}\\times\\frac{35}{3}$ ? Et son type de retour ?\n",
    "- Que se passe-t-il si on tape `ZZ(4) * QQ(6)` ?"
   ]
  },
  {
   "cell_type": "code",
   "execution_count": 6,
   "metadata": {},
   "outputs": [
    {
     "data": {
      "text/html": [
       "<html>\\(\\displaystyle \\verb|&lt;class|\\verb| |\\verb|'sage.rings.integer.Integer'>|\\)</html>"
      ],
      "text/latex": [
       "$\\displaystyle \\verb|<class|\\verb| |\\verb|'sage.rings.integer.Integer'>|$"
      ],
      "text/plain": [
       "<class 'sage.rings.integer.Integer'>"
      ]
     },
     "execution_count": 6,
     "metadata": {},
     "output_type": "execute_result"
    }
   ],
   "source": [
    "type(ZZ(3)+ZZ(5)) ### Entier"
   ]
  },
  {
   "cell_type": "code",
   "execution_count": 7,
   "metadata": {},
   "outputs": [
    {
     "data": {
      "text/html": [
       "<html>\\(\\displaystyle \\verb|&lt;class|\\verb| |\\verb|'sage.rings.rational.Rational'>|\\)</html>"
      ],
      "text/latex": [
       "$\\displaystyle \\verb|<class|\\verb| |\\verb|'sage.rings.rational.Rational'>|$"
      ],
      "text/plain": [
       "<class 'sage.rings.rational.Rational'>"
      ]
     },
     "execution_count": 7,
     "metadata": {},
     "output_type": "execute_result"
    }
   ],
   "source": [
    "type((6/5)*(35/3)) ### Rationnel"
   ]
  },
  {
   "cell_type": "code",
   "execution_count": 8,
   "metadata": {},
   "outputs": [
    {
     "data": {
      "text/html": [
       "<html>\\(\\displaystyle \\verb|&lt;class|\\verb| |\\verb|'sage.rings.rational.Rational'>|\\)</html>"
      ],
      "text/latex": [
       "$\\displaystyle \\verb|<class|\\verb| |\\verb|'sage.rings.rational.Rational'>|$"
      ],
      "text/plain": [
       "<class 'sage.rings.rational.Rational'>"
      ]
     },
     "execution_count": 8,
     "metadata": {},
     "output_type": "execute_result"
    }
   ],
   "source": [
    "type(ZZ(4)*QQ(6)) ### Rationnel, car ZZ est inclus dans QQ"
   ]
  },
  {
   "cell_type": "markdown",
   "metadata": {
    "deletable": false,
    "editable": false,
    "run_control": {
     "frozen": true
    }
   },
   "source": [
    "## Opérations modulaires\n",
    "\n",
    "<!-- On peut facilement définir la notion d'inverse pour l'addition et la multiplication à partir d'un élément neutre.\n",
    "\n",
    "- En effet, 0 étant neutre pour l'addition $(x+0= 0+x = x$),  l'inverse de l'addition est définie comme l'opération qui donne 0 par l'addition de x et de son inverse. Cela donne $ x + \\mathsf{inv}_+(x) = 0 \\longrightarrow \\mathsf{inv}_+(x)= -x$. On voit facilement que l'inverse de l'addition est bien définie pour $\\mathbb{Q}$ et $\\mathbb{Z}$: $\\forall x \\in \\mathbb{Q,Z} \\longrightarrow -x \\in \\mathbb{Q,Z}$\n",
    "\n",
    "\n",
    "- Cela marche pareil pour définir la multiplication en remarquant que 1 est le neutre pour la multiplication. Cela donne $ x * \\mathsf{inv}_*(x) = 1 \\longrightarrow \\mathsf{inv}_*(x)= 1/x$. Malheureuresement, on peut voir que cette inverse n'est pas bien définie pour tout  $x \\in \\mathbb{Q,Z}$. En effet, dans $\\mathbb{Z}$ seul 1 et -1 sont inversibles alors que pour $\\mathbb{Q}$ tout les éléments sauf zero sont inversibles.\n",
    "\n",
    "\n",
    "\n",
    "C'est à partir de cette notion d'inverse que l'on peut définir les opérations de soustraction et de division.\n",
    "- la soustraction est la composition de l'addition et de son inverse: $x-y = x + (-y)$\n",
    "- la division est la composition de la multiplication et de son inverse: $x/y = x * (1/y)$\n",
    "\n",
    "\n",
    "Pour retrouver des propriétés d'inversibilité pour les entiers similaires à celles des nombres rationnels de $ \\mathbb{Q}$ (tous les éléments hormis 0 ont un inverse.), il faut se ramener à des sous-ensemble des entiers.\n",
    "\n",
    "-->\n"
   ]
  },
  {
   "cell_type": "markdown",
   "metadata": {
    "deletable": false,
    "editable": false,
    "run_control": {
     "frozen": true
    }
   },
   "source": [
    "En cryptographie, on a besoin de travailler avec des ensembles *finis* de nombres. Pour cela, on utilise l'opération *modulo*. L'ensemble des entiers *modulo* $N$ est l'ensemble des entiers entre $0$ et $N-1$, et les opérations d'addition et de multiplication se font *modulo* $N$. <!--Le sous-ensemble des entiers à $N$ élements peut être identifié par la classe des entiers modulo $N$, câd l'ensemble des entiers compris entre $0$ et $N-1$. Pour--> Concrètement, pour calculer dans cet ensemble il suffit de faire le calcul dans $\\mathbb{Z}$ et de réduire le résultat *modulo* $N$ (prendre le reste de la division par $N$).\n",
    "\n",
    "Avec ce mode de calcul les opérations  $+$ et $\\times$ sont bien définies : pour $\\star\\in\\{+,\\times\\}$,\n",
    "$$\\forall x,y \\in\\{0,1,\\dots, N-1\\} \\longrightarrow (x\\star y) \\bmod N \\in \\{0,1,\\dots, N-1\\}$$\n",
    "\n",
    "<!--- l'inverse de l'addition étant définie par $\\mathsf{inv}_+(x) = N-x \\bmod N$, cette opération est bien définie on a que $x-y=x+N-y \\bmod N$  est bien un entier compris entre 0 et N-1.\n",
    "\n",
    "Nous reviendrons un peu plus loin sur l'inverse de la multiplication.-->\n",
    "\n",
    "Dans les questions qui suivent, on s'intéressent aux tables d'addition et de multiplication des entiers *modulo* $N$."
   ]
  },
  {
   "cell_type": "markdown",
   "metadata": {
    "deletable": false,
    "editable": false,
    "run_control": {
     "frozen": true
    }
   },
   "source": [
    "### Question  \n",
    "Donner la table d'addition <!--et de soustraction--> de l'ensemble $\\{0,1,2,3,4\\}$ des entiers *modulo* $5$ : représenter la table par une matrice `Ma5` telle que $Ma5[i,j]= i+j \\bmod 5$<!--et $Mb5[i,j]= i+5-j \\bmod 5$-->.  *L'instruction `Matrix(n,n)` permet de construire une matrice de taille $n \\times n$.*"
   ]
  },
  {
   "cell_type": "code",
   "execution_count": 9,
   "metadata": {},
   "outputs": [
    {
     "data": {
      "text/html": [
       "<html>\\(\\displaystyle \\left(\\begin{array}{rrrrr}\n",
       "0 & 1 & 2 & 3 & 4 \\\\\n",
       "1 & 2 & 3 & 4 & 0 \\\\\n",
       "2 & 3 & 4 & 0 & 1 \\\\\n",
       "3 & 4 & 0 & 1 & 2 \\\\\n",
       "4 & 0 & 1 & 2 & 3\n",
       "\\end{array}\\right)\\)</html>"
      ],
      "text/latex": [
       "$\\displaystyle \\left(\\begin{array}{rrrrr}\n",
       "0 & 1 & 2 & 3 & 4 \\\\\n",
       "1 & 2 & 3 & 4 & 0 \\\\\n",
       "2 & 3 & 4 & 0 & 1 \\\\\n",
       "3 & 4 & 0 & 1 & 2 \\\\\n",
       "4 & 0 & 1 & 2 & 3\n",
       "\\end{array}\\right)$"
      ],
      "text/plain": [
       "[0 1 2 3 4]\n",
       "[1 2 3 4 0]\n",
       "[2 3 4 0 1]\n",
       "[3 4 0 1 2]\n",
       "[4 0 1 2 3]"
      ]
     },
     "execution_count": 9,
     "metadata": {},
     "output_type": "execute_result"
    }
   ],
   "source": [
    "Ma5 = matrix(5,5)\n",
    "for i in range(0,5):\n",
    "    for j in range(0,5):\n",
    "        Ma5[i,j] = (i + j) % 5\n",
    "Ma5"
   ]
  },
  {
   "cell_type": "markdown",
   "metadata": {
    "deletable": false,
    "editable": false,
    "run_control": {
     "frozen": true
    }
   },
   "source": [
    "Pour effectuer des additions dans l'ensemble des entiers modulo 5, on peut utiliser cette matrice. <!-- qui donnent les tables d'addition et de sopustraction des entiers modulo 5.-->\n",
    "Par exemple, taper `Ma5[2,3]` pour obtenir $2+3 \\bmod 5$. <!--  et Ms5[2,3] pour obtenir $2-3 \\bmod 5$.-->"
   ]
  },
  {
   "cell_type": "code",
   "execution_count": 10,
   "metadata": {},
   "outputs": [
    {
     "data": {
      "text/html": [
       "<html>\\(\\displaystyle 0\\)</html>"
      ],
      "text/latex": [
       "$\\displaystyle 0$"
      ],
      "text/plain": [
       "0"
      ]
     },
     "execution_count": 10,
     "metadata": {},
     "output_type": "execute_result"
    }
   ],
   "source": [
    "Ma5[2,3]"
   ]
  },
  {
   "cell_type": "markdown",
   "metadata": {
    "deletable": false,
    "editable": false,
    "run_control": {
     "frozen": true
    }
   },
   "source": [
    "### Question \n",
    "Construire la matrice `Mp5` de multiplication des entiers modulo $5$ et utiliser cette matrice pour calculer $3^{98} \\bmod 5$. *Vérifier votre résultat en comparant avec l'instruction `pow(3,n,5)`.* "
   ]
  },
  {
   "cell_type": "code",
   "execution_count": 11,
   "metadata": {},
   "outputs": [
    {
     "data": {
      "text/html": [
       "<html>\\(\\displaystyle \\left(\\begin{array}{rrrrr}\n",
       "0 & 0 & 0 & 0 & 0 \\\\\n",
       "0 & 1 & 2 & 3 & 4 \\\\\n",
       "0 & 2 & 4 & 1 & 3 \\\\\n",
       "0 & 3 & 1 & 4 & 2 \\\\\n",
       "0 & 4 & 3 & 2 & 1\n",
       "\\end{array}\\right)\\)</html>"
      ],
      "text/latex": [
       "$\\displaystyle \\left(\\begin{array}{rrrrr}\n",
       "0 & 0 & 0 & 0 & 0 \\\\\n",
       "0 & 1 & 2 & 3 & 4 \\\\\n",
       "0 & 2 & 4 & 1 & 3 \\\\\n",
       "0 & 3 & 1 & 4 & 2 \\\\\n",
       "0 & 4 & 3 & 2 & 1\n",
       "\\end{array}\\right)$"
      ],
      "text/plain": [
       "[0 0 0 0 0]\n",
       "[0 1 2 3 4]\n",
       "[0 2 4 1 3]\n",
       "[0 3 1 4 2]\n",
       "[0 4 3 2 1]"
      ]
     },
     "execution_count": 11,
     "metadata": {},
     "output_type": "execute_result"
    }
   ],
   "source": [
    "Mp5 = matrix(5,5)\n",
    "for i in range(0,5):\n",
    "    for j in range(0,5):\n",
    "        Mp5[i,j] = (i * j) % 5\n",
    "Mp5"
   ]
  },
  {
   "cell_type": "code",
   "execution_count": 12,
   "metadata": {},
   "outputs": [
    {
     "data": {
      "text/html": [
       "<html>\\(\\displaystyle 4\\)</html>"
      ],
      "text/latex": [
       "$\\displaystyle 4$"
      ],
      "text/plain": [
       "4"
      ]
     },
     "metadata": {},
     "output_type": "display_data"
    },
    {
     "data": {
      "text/html": [
       "<html>\\(\\displaystyle 4\\)</html>"
      ],
      "text/latex": [
       "$\\displaystyle 4$"
      ],
      "text/plain": [
       "4"
      ]
     },
     "metadata": {},
     "output_type": "display_data"
    }
   ],
   "source": [
    "show(Mp5[3,3]^97 % 5)\n",
    "show(pow(3,98,5))"
   ]
  },
  {
   "cell_type": "markdown",
   "metadata": {
    "deletable": false,
    "editable": false,
    "run_control": {
     "frozen": true
    }
   },
   "source": [
    "### Question\n",
    "\n",
    "On a vu que le domaine des entiers de $\\mathbb{Z}$ se nomme `ZZ` dans SageMath. <!-- et x=ZZ(13) définit x comme l'entier 13 dans $\\mathbb{Z}$.--> De manière similaire, SageMath définit l'objet représentant l'ensemble des entiers *modulo* $N$ par `Integers(N)` pour un entier `N` donné. Mathématiquement, cet ensemble est noté $\\mathbb Z/N\\mathbb Z$.\n",
    "\n",
    "Par exemple, `A=Integers(50)` définit la structure mathématique correspondant aux entiers *modulo* $50$. Pour construire un élément de cette ensemble, il suffit de lui passer en paramètre un entier :\n",
    "- `A(10)` construit l'entier $10$ dans cet ensemble, càd $10 \\bmod 50 \\rightarrow 10$ ;\n",
    "- `A(57)` construit l'entier $57$ dans cet ensemble, càd $57 \\bmod 50 \\rightarrow 7$.\n",
    "\n",
    "**Dans toute la suite, on travaillera avec des éléments de `Integers(N)` pour différentes valeurs de $N$ : on ne devra donc plus utiliser le *modulo* (symbole `%`) car les opérations sont automatiquement faites *modulo* $N$ dans `Integers(N)`.\n",
    "\n",
    "**À vous de jouer :** \n",
    "- Définissez la variable `I10` définissant l'ensemble des entiers *modulo* $10$ et faite le calcul de $7\\times 5$ dans cet ensemble. \n",
    "- En utilisant la méthode `random_element()` de `I10`, calculer et afficher la somme et le produit de deux élements de `I10` choisis aléatoirement. \n",
    "- Refaites le calcul de $3^{98} \\bmod 5$ en utilisant la classe des entiers *modulo* $5$ de SageMath."
   ]
  },
  {
   "cell_type": "code",
   "execution_count": 13,
   "metadata": {},
   "outputs": [
    {
     "data": {
      "text/html": [
       "<html>\\(\\displaystyle 5\\)</html>"
      ],
      "text/latex": [
       "$\\displaystyle 5$"
      ],
      "text/plain": [
       "5"
      ]
     },
     "execution_count": 13,
     "metadata": {},
     "output_type": "execute_result"
    }
   ],
   "source": [
    "I10 = Integers(10)\n",
    "I10(7)*I10(5)"
   ]
  },
  {
   "cell_type": "code",
   "execution_count": 14,
   "metadata": {},
   "outputs": [
    {
     "data": {
      "text/html": [
       "<html>\\(\\displaystyle 9\\)</html>"
      ],
      "text/latex": [
       "$\\displaystyle 9$"
      ],
      "text/plain": [
       "9"
      ]
     },
     "execution_count": 14,
     "metadata": {},
     "output_type": "execute_result"
    }
   ],
   "source": [
    "I10.random_element()*I10.random_element()"
   ]
  },
  {
   "cell_type": "code",
   "execution_count": 15,
   "metadata": {},
   "outputs": [
    {
     "data": {
      "text/html": [
       "<html>\\(\\displaystyle 4\\)</html>"
      ],
      "text/latex": [
       "$\\displaystyle 4$"
      ],
      "text/plain": [
       "4"
      ]
     },
     "execution_count": 15,
     "metadata": {},
     "output_type": "execute_result"
    }
   ],
   "source": [
    "I5 = Integers(5)\n",
    "I5(3^98)"
   ]
  },
  {
   "cell_type": "markdown",
   "metadata": {
    "deletable": false,
    "editable": false,
    "run_control": {
     "frozen": true
    }
   },
   "source": [
    "### Question\n",
    "\n",
    "Définir deux fonctions `genMatrixAdd` et `genMatrixMul` qui prennent en paramètre un entier $N$ et qui calculent la matrice correspondant à la table d'addition et de multiplication des entiers *modulo* $N$. Remarque : on souhaite que les matrices contiennent des éléments de `Integers(N)`. *Vérifiez que vos fonctions sont correctes (vous pouvez comparez le résultat avec les matrices `Ma5` et `Mp5` définies précédemment).*"
   ]
  },
  {
   "cell_type": "code",
   "execution_count": 16,
   "metadata": {},
   "outputs": [],
   "source": [
    "def genMatrixAdd(N):\n",
    "    ZN = Integers(N)\n",
    "    A = matrix(ZN,N,N)\n",
    "    for i in range(ZN.cardinality()):\n",
    "        for j in range(ZN.cardinality()):\n",
    "            A[i,j] = ZN(i) + ZN(j)\n",
    "    return A"
   ]
  },
  {
   "cell_type": "code",
   "execution_count": 17,
   "metadata": {},
   "outputs": [
    {
     "data": {
      "text/html": [
       "<html>\\(\\displaystyle \\left(\\begin{array}{rrrrr}\n",
       "0 & 1 & 2 & 3 & 4 \\\\\n",
       "1 & 2 & 3 & 4 & 0 \\\\\n",
       "2 & 3 & 4 & 0 & 1 \\\\\n",
       "3 & 4 & 0 & 1 & 2 \\\\\n",
       "4 & 0 & 1 & 2 & 3\n",
       "\\end{array}\\right)\\)</html>"
      ],
      "text/latex": [
       "$\\displaystyle \\left(\\begin{array}{rrrrr}\n",
       "0 & 1 & 2 & 3 & 4 \\\\\n",
       "1 & 2 & 3 & 4 & 0 \\\\\n",
       "2 & 3 & 4 & 0 & 1 \\\\\n",
       "3 & 4 & 0 & 1 & 2 \\\\\n",
       "4 & 0 & 1 & 2 & 3\n",
       "\\end{array}\\right)$"
      ],
      "text/plain": [
       "[0 1 2 3 4]\n",
       "[1 2 3 4 0]\n",
       "[2 3 4 0 1]\n",
       "[3 4 0 1 2]\n",
       "[4 0 1 2 3]"
      ]
     },
     "metadata": {},
     "output_type": "display_data"
    },
    {
     "data": {
      "text/html": [
       "<html>\\(\\displaystyle \\left(\\begin{array}{rrrrr}\n",
       "0 & 1 & 2 & 3 & 4 \\\\\n",
       "1 & 2 & 3 & 4 & 0 \\\\\n",
       "2 & 3 & 4 & 0 & 1 \\\\\n",
       "3 & 4 & 0 & 1 & 2 \\\\\n",
       "4 & 0 & 1 & 2 & 3\n",
       "\\end{array}\\right)\\)</html>"
      ],
      "text/latex": [
       "$\\displaystyle \\left(\\begin{array}{rrrrr}\n",
       "0 & 1 & 2 & 3 & 4 \\\\\n",
       "1 & 2 & 3 & 4 & 0 \\\\\n",
       "2 & 3 & 4 & 0 & 1 \\\\\n",
       "3 & 4 & 0 & 1 & 2 \\\\\n",
       "4 & 0 & 1 & 2 & 3\n",
       "\\end{array}\\right)$"
      ],
      "text/plain": [
       "[0 1 2 3 4]\n",
       "[1 2 3 4 0]\n",
       "[2 3 4 0 1]\n",
       "[3 4 0 1 2]\n",
       "[4 0 1 2 3]"
      ]
     },
     "metadata": {},
     "output_type": "display_data"
    }
   ],
   "source": [
    "show(genMatrixAdd(5))\n",
    "show(Ma5)"
   ]
  },
  {
   "cell_type": "code",
   "execution_count": 18,
   "metadata": {},
   "outputs": [],
   "source": [
    "def genMatrixMul(N):\n",
    "    ZN = Integers(N)\n",
    "    A = matrix(ZN,N,N)\n",
    "    for i in range(ZN.cardinality()):\n",
    "        for j in range(ZN.cardinality()):\n",
    "            A[i,j] = ZN(i) * ZN(j)\n",
    "    return A"
   ]
  },
  {
   "cell_type": "code",
   "execution_count": 19,
   "metadata": {},
   "outputs": [
    {
     "data": {
      "text/html": [
       "<html>\\(\\displaystyle \\left(\\begin{array}{rrrrr}\n",
       "0 & 0 & 0 & 0 & 0 \\\\\n",
       "0 & 1 & 2 & 3 & 4 \\\\\n",
       "0 & 2 & 4 & 1 & 3 \\\\\n",
       "0 & 3 & 1 & 4 & 2 \\\\\n",
       "0 & 4 & 3 & 2 & 1\n",
       "\\end{array}\\right)\\)</html>"
      ],
      "text/latex": [
       "$\\displaystyle \\left(\\begin{array}{rrrrr}\n",
       "0 & 0 & 0 & 0 & 0 \\\\\n",
       "0 & 1 & 2 & 3 & 4 \\\\\n",
       "0 & 2 & 4 & 1 & 3 \\\\\n",
       "0 & 3 & 1 & 4 & 2 \\\\\n",
       "0 & 4 & 3 & 2 & 1\n",
       "\\end{array}\\right)$"
      ],
      "text/plain": [
       "[0 0 0 0 0]\n",
       "[0 1 2 3 4]\n",
       "[0 2 4 1 3]\n",
       "[0 3 1 4 2]\n",
       "[0 4 3 2 1]"
      ]
     },
     "metadata": {},
     "output_type": "display_data"
    },
    {
     "data": {
      "text/html": [
       "<html>\\(\\displaystyle \\left(\\begin{array}{rrrrr}\n",
       "0 & 0 & 0 & 0 & 0 \\\\\n",
       "0 & 1 & 2 & 3 & 4 \\\\\n",
       "0 & 2 & 4 & 1 & 3 \\\\\n",
       "0 & 3 & 1 & 4 & 2 \\\\\n",
       "0 & 4 & 3 & 2 & 1\n",
       "\\end{array}\\right)\\)</html>"
      ],
      "text/latex": [
       "$\\displaystyle \\left(\\begin{array}{rrrrr}\n",
       "0 & 0 & 0 & 0 & 0 \\\\\n",
       "0 & 1 & 2 & 3 & 4 \\\\\n",
       "0 & 2 & 4 & 1 & 3 \\\\\n",
       "0 & 3 & 1 & 4 & 2 \\\\\n",
       "0 & 4 & 3 & 2 & 1\n",
       "\\end{array}\\right)$"
      ],
      "text/plain": [
       "[0 0 0 0 0]\n",
       "[0 1 2 3 4]\n",
       "[0 2 4 1 3]\n",
       "[0 3 1 4 2]\n",
       "[0 4 3 2 1]"
      ]
     },
     "metadata": {},
     "output_type": "display_data"
    }
   ],
   "source": [
    "show(genMatrixMul(5))\n",
    "show(Mp5)"
   ]
  },
  {
   "cell_type": "markdown",
   "metadata": {
    "deletable": false,
    "editable": false,
    "run_control": {
     "frozen": true
    }
   },
   "source": [
    "## Inverses\n",
    "\n",
    "On peut facilement définir la notion d'inverse pour l'addition et la multiplication à partir d'un *élément neutre*, c'est-à-dire un élément $e$ tel que $\\forall x, x\\star e = e\\star x = x$. Ainsi, $0$ est l'élément neutre de l'addition et $1$ celui de la multiplication (que ce soit dans $\\mathbb Z$, $\\mathbb Q$ ou $\\mathbb Z/N\\mathbb Z$).\n",
    "\n",
    "- L'*inverse pour l'addition* d'un élément $x$ est l'élément $\\mathsf{inv}_+(x)$ tel que $ x + \\mathsf{inv}_+(x) = 0$. On voit donc que $\\mathsf{inv}_+(x)= -x$ : l'inverse pour l'addition est donc ce qu'on nomme habituellement l'opposé d'un nombre, et est bien définie pour $\\mathbb{Q}$ et $\\mathbb{Z}$ : $\\forall x \\in \\mathbb{Q,Z} \\longrightarrow -x \\in \\mathbb{Q,Z}$\n",
    "\n",
    "- De la même façon, l'*inverse pour la multiplication* se définit à partir du neutre $1$ pour la multiplication :  $\\mathsf{inv}_*(x)$ est défini par $ x * \\mathsf{inv}_*(x) = 1$, c'est-à-dire $\\mathsf{inv}_*(x)= 1/x$. L'inverse pour la multiplication est donc ce qu'on nomme habituellement l'inverse d'un nombre. On remarque donc que tout élément non nul de $\\mathbb Q$ admet un inverse (on dit qu'un tel élément est *inversible*). Mais dans $\\mathbb Z$, seuls $1$ et $-1$ sont inversibles.\n",
    "\n",
    "Remarque : comme tout entier peut être vu comme un nombre rationnel (en symboles, $\\mathbb Z\\subseteq\\mathbb Q$), si on cherche à calculer l'inverse d'un nombre entier $n$, SageMath le considèrera comme un rationnel et renverra le rationnel $1/n$."
   ]
  },
  {
   "cell_type": "markdown",
   "metadata": {
    "deletable": false,
    "editable": false,
    "run_control": {
     "frozen": true
    }
   },
   "source": [
    "### Question\n",
    "Que se passe-t-il quand on veut inverser l'entier $0$ ?"
   ]
  },
  {
   "cell_type": "code",
   "execution_count": 20,
   "metadata": {},
   "outputs": [],
   "source": [
    "### On obtiendra une division par 0, ce qui n'est pas possible\n",
    "A = ZZ(0)\n",
    "B = ZZ(1)"
   ]
  },
  {
   "cell_type": "code",
   "execution_count": 21,
   "metadata": {
    "scrolled": true
   },
   "outputs": [],
   "source": [
    "#A.inverse_of_unit()\n",
    "#B.inverse_of_unit()"
   ]
  },
  {
   "cell_type": "markdown",
   "metadata": {
    "deletable": false,
    "editable": false,
    "run_control": {
     "frozen": true
    }
   },
   "source": [
    "<!-- À partir des notions d'inverse pour l'addition et la multiplication, on peut définir les opérations de soustraction et de division :\n",
    "- la soustraction est la composition de l'addition et de son inverse: $x-y = x + (-y)$ ;\n",
    "- la division est la composition de la multiplication et de son inverse: $x/y = x \\times (1/y)$.\n",
    "\n",
    "De même que pour l'inversion, la division n'est bien définie que pour les rationnels.\n",
    "\n",
    "Pour retrouver des propriétés d'inversibilité pour les entiers similaires à celles des nombres rationnels de $ \\mathbb{Q}$ (tous les éléments sauf 0 ont un inverse), il faut se ramener à des sous-ensemble des entiers.-->\n",
    "\n",
    "On va voir que lorsqu'on travaille avec des entiers *modulo* $N$, on retrouve l'inversibilité, au moins partiellement, dont on dipose avec les rationnels.\n",
    "La notion d'inverse pour l'addition ou la multiplication peut se voir directement sur les matrices représentant les tables des opérations :\n",
    "- un élément $x$ est inversible pour l'addition si et seulement s'il y a un unique $0$ dans la ligne et la colonne d'indice $x$ ;\n",
    "- un élément $x$ est inversible pour la multiplication si et seulement s'il y  a un unique $1$ dans la ligne et la colonne d'indice $x$.\n",
    "\n",
    "### Question\n",
    "En utilisant les matrices associées à l'addition et la multiplication des entiers *modulo* $5$, donner la liste des éléments inversibles pour l'addition, et celle des éléments inversibles pour la multiplication. *Attention à bien avoir une liste d'éléments de `Integers(N)` et pas d'entiers (vérifier avec `type(...)`).*"
   ]
  },
  {
   "cell_type": "code",
   "execution_count": 22,
   "metadata": {},
   "outputs": [
    {
     "data": {
      "text/html": [
       "<html>\\(\\displaystyle \\left[0, 1, 2, 3, 4\\right]\\)</html>"
      ],
      "text/latex": [
       "$\\displaystyle \\left[0, 1, 2, 3, 4\\right]$"
      ],
      "text/plain": [
       "[0, 1, 2, 3, 4]"
      ]
     },
     "metadata": {},
     "output_type": "display_data"
    },
    {
     "data": {
      "text/html": [
       "<html>\\(\\displaystyle \\verb|&lt;class|\\verb| |\\verb|'sage.rings.finite_rings.integer_mod.IntegerMod_int'>|\\)</html>"
      ],
      "text/latex": [
       "$\\displaystyle \\verb|<class|\\verb| |\\verb|'sage.rings.finite_rings.integer_mod.IntegerMod_int'>|$"
      ],
      "text/plain": [
       "<class 'sage.rings.finite_rings.integer_mod.IntegerMod_int'>"
      ]
     },
     "metadata": {},
     "output_type": "display_data"
    },
    {
     "data": {
      "text/html": [
       "<html>\\(\\displaystyle \\verb|&lt;class|\\verb| |\\verb|'sage.rings.finite_rings.integer_mod.IntegerMod_int'>|\\)</html>"
      ],
      "text/latex": [
       "$\\displaystyle \\verb|<class|\\verb| |\\verb|'sage.rings.finite_rings.integer_mod.IntegerMod_int'>|$"
      ],
      "text/plain": [
       "<class 'sage.rings.finite_rings.integer_mod.IntegerMod_int'>"
      ]
     },
     "metadata": {},
     "output_type": "display_data"
    },
    {
     "data": {
      "text/html": [
       "<html>\\(\\displaystyle \\verb|&lt;class|\\verb| |\\verb|'sage.rings.finite_rings.integer_mod.IntegerMod_int'>|\\)</html>"
      ],
      "text/latex": [
       "$\\displaystyle \\verb|<class|\\verb| |\\verb|'sage.rings.finite_rings.integer_mod.IntegerMod_int'>|$"
      ],
      "text/plain": [
       "<class 'sage.rings.finite_rings.integer_mod.IntegerMod_int'>"
      ]
     },
     "metadata": {},
     "output_type": "display_data"
    },
    {
     "data": {
      "text/html": [
       "<html>\\(\\displaystyle \\verb|&lt;class|\\verb| |\\verb|'sage.rings.finite_rings.integer_mod.IntegerMod_int'>|\\)</html>"
      ],
      "text/latex": [
       "$\\displaystyle \\verb|<class|\\verb| |\\verb|'sage.rings.finite_rings.integer_mod.IntegerMod_int'>|$"
      ],
      "text/plain": [
       "<class 'sage.rings.finite_rings.integer_mod.IntegerMod_int'>"
      ]
     },
     "metadata": {},
     "output_type": "display_data"
    },
    {
     "data": {
      "text/html": [
       "<html>\\(\\displaystyle \\verb|&lt;class|\\verb| |\\verb|'sage.rings.finite_rings.integer_mod.IntegerMod_int'>|\\)</html>"
      ],
      "text/latex": [
       "$\\displaystyle \\verb|<class|\\verb| |\\verb|'sage.rings.finite_rings.integer_mod.IntegerMod_int'>|$"
      ],
      "text/plain": [
       "<class 'sage.rings.finite_rings.integer_mod.IntegerMod_int'>"
      ]
     },
     "metadata": {},
     "output_type": "display_data"
    },
    {
     "name": "stdout",
     "output_type": "stream",
     "text": [
      "\n",
      "\n"
     ]
    },
    {
     "data": {
      "text/html": [
       "<html>\\(\\displaystyle \\left[1, 2, 3, 4\\right]\\)</html>"
      ],
      "text/latex": [
       "$\\displaystyle \\left[1, 2, 3, 4\\right]$"
      ],
      "text/plain": [
       "[1, 2, 3, 4]"
      ]
     },
     "metadata": {},
     "output_type": "display_data"
    },
    {
     "data": {
      "text/html": [
       "<html>\\(\\displaystyle \\verb|&lt;class|\\verb| |\\verb|'sage.rings.finite_rings.integer_mod.IntegerMod_int'>|\\)</html>"
      ],
      "text/latex": [
       "$\\displaystyle \\verb|<class|\\verb| |\\verb|'sage.rings.finite_rings.integer_mod.IntegerMod_int'>|$"
      ],
      "text/plain": [
       "<class 'sage.rings.finite_rings.integer_mod.IntegerMod_int'>"
      ]
     },
     "metadata": {},
     "output_type": "display_data"
    },
    {
     "data": {
      "text/html": [
       "<html>\\(\\displaystyle \\verb|&lt;class|\\verb| |\\verb|'sage.rings.finite_rings.integer_mod.IntegerMod_int'>|\\)</html>"
      ],
      "text/latex": [
       "$\\displaystyle \\verb|<class|\\verb| |\\verb|'sage.rings.finite_rings.integer_mod.IntegerMod_int'>|$"
      ],
      "text/plain": [
       "<class 'sage.rings.finite_rings.integer_mod.IntegerMod_int'>"
      ]
     },
     "metadata": {},
     "output_type": "display_data"
    },
    {
     "data": {
      "text/html": [
       "<html>\\(\\displaystyle \\verb|&lt;class|\\verb| |\\verb|'sage.rings.finite_rings.integer_mod.IntegerMod_int'>|\\)</html>"
      ],
      "text/latex": [
       "$\\displaystyle \\verb|<class|\\verb| |\\verb|'sage.rings.finite_rings.integer_mod.IntegerMod_int'>|$"
      ],
      "text/plain": [
       "<class 'sage.rings.finite_rings.integer_mod.IntegerMod_int'>"
      ]
     },
     "metadata": {},
     "output_type": "display_data"
    },
    {
     "data": {
      "text/html": [
       "<html>\\(\\displaystyle \\verb|&lt;class|\\verb| |\\verb|'sage.rings.finite_rings.integer_mod.IntegerMod_int'>|\\)</html>"
      ],
      "text/latex": [
       "$\\displaystyle \\verb|<class|\\verb| |\\verb|'sage.rings.finite_rings.integer_mod.IntegerMod_int'>|$"
      ],
      "text/plain": [
       "<class 'sage.rings.finite_rings.integer_mod.IntegerMod_int'>"
      ]
     },
     "metadata": {},
     "output_type": "display_data"
    }
   ],
   "source": [
    "LA = list()\n",
    "N = Integers(5)\n",
    "for i in N:\n",
    "    if(list(Ma5[i]).count(0) == 1 and list(Ma5[:,i]).count(0) == 1):\n",
    "        LA.append(i)\n",
    "show(LA)\n",
    "for i in LA:\n",
    "    show(type(i))\n",
    "    \n",
    "print(\"\\n\")\n",
    "\n",
    "LM = list()\n",
    "for i in N:\n",
    "    if((list(Mp5[i]).count(1) + list(Mp5[:,i]).count(1)) == 1):\n",
    "        LM.append(i)\n",
    "show(LM)\n",
    "for i in LM:\n",
    "    show(type(i))"
   ]
  },
  {
   "cell_type": "code",
   "execution_count": null,
   "metadata": {},
   "outputs": [],
   "source": []
  },
  {
   "cell_type": "code",
   "execution_count": null,
   "metadata": {},
   "outputs": [],
   "source": []
  },
  {
   "cell_type": "markdown",
   "metadata": {
    "deletable": false,
    "editable": false,
    "run_control": {
     "frozen": true
    }
   },
   "source": [
    "### Question\n",
    "Définissez les fonctions `inv_add` et `inv_mul` qui prennent en entrée un entier $N$ et un entier $x\\in \\{0,\\dots,N-1\\}$ et qui renvoient l'inverse de $x$ pour l'addition *modulo* $N$ ,et l'inverse de $x$ pour la multiplication *modulo* $N$. *Vos fonction devront construire les tables d'addition et de multiplication modulo $N$ et les utiliser pour le calcul. Si $x$ n'est pas inversible, la fonction renvoie `None`. Encore une fois, attention à bien renvoyer un élément de `Integers(N)` et pas un entier !*\n",
    "\n",
    "Vous testerez vos fonctions pour  les valeurs de $N=17,12$ et les valeurs de $x=3,0,4$."
   ]
  },
  {
   "cell_type": "code",
   "execution_count": 23,
   "metadata": {},
   "outputs": [],
   "source": [
    "def inv_add(N,x):\n",
    "    MA = genMatrixAdd(N)\n",
    "    N = Integers(N)\n",
    "    for j in range(N.cardinality()):\n",
    "        if(MA[x,j] == 0):\n",
    "            return j\n",
    "    return None"
   ]
  },
  {
   "cell_type": "code",
   "execution_count": 24,
   "metadata": {},
   "outputs": [],
   "source": [
    "def inv_mul(N,x):\n",
    "    MM = genMatrixMul(N)\n",
    "    N = Integers(N)\n",
    "    for j in range(N.cardinality()):\n",
    "        if(MM[x,j] == 1):\n",
    "            return j\n",
    "    return None"
   ]
  },
  {
   "cell_type": "code",
   "execution_count": 25,
   "metadata": {},
   "outputs": [
    {
     "data": {
      "text/html": [
       "<html>\\(\\displaystyle 14\\)</html>"
      ],
      "text/latex": [
       "$\\displaystyle 14$"
      ],
      "text/plain": [
       "14"
      ]
     },
     "metadata": {},
     "output_type": "display_data"
    },
    {
     "data": {
      "text/html": [
       "<html>\\(\\displaystyle 0\\)</html>"
      ],
      "text/latex": [
       "$\\displaystyle 0$"
      ],
      "text/plain": [
       "0"
      ]
     },
     "metadata": {},
     "output_type": "display_data"
    },
    {
     "data": {
      "text/html": [
       "<html>\\(\\displaystyle 13\\)</html>"
      ],
      "text/latex": [
       "$\\displaystyle 13$"
      ],
      "text/plain": [
       "13"
      ]
     },
     "metadata": {},
     "output_type": "display_data"
    },
    {
     "data": {
      "text/html": [
       "<html>\\(\\displaystyle 9\\)</html>"
      ],
      "text/latex": [
       "$\\displaystyle 9$"
      ],
      "text/plain": [
       "9"
      ]
     },
     "metadata": {},
     "output_type": "display_data"
    },
    {
     "data": {
      "text/html": [
       "<html>\\(\\displaystyle 0\\)</html>"
      ],
      "text/latex": [
       "$\\displaystyle 0$"
      ],
      "text/plain": [
       "0"
      ]
     },
     "metadata": {},
     "output_type": "display_data"
    },
    {
     "data": {
      "text/html": [
       "<html>\\(\\displaystyle 8\\)</html>"
      ],
      "text/latex": [
       "$\\displaystyle 8$"
      ],
      "text/plain": [
       "8"
      ]
     },
     "metadata": {},
     "output_type": "display_data"
    },
    {
     "name": "stdout",
     "output_type": "stream",
     "text": [
      "\n",
      "\n",
      "\n"
     ]
    },
    {
     "data": {
      "text/html": [
       "<html>\\(\\displaystyle 6\\)</html>"
      ],
      "text/latex": [
       "$\\displaystyle 6$"
      ],
      "text/plain": [
       "6"
      ]
     },
     "metadata": {},
     "output_type": "display_data"
    },
    {
     "data": {
      "text/html": [
       "<html>\\(\\displaystyle \\mathrm{None}\\)</html>"
      ],
      "text/latex": [
       "$\\displaystyle \\mathrm{None}$"
      ],
      "text/plain": [
       "None"
      ]
     },
     "metadata": {},
     "output_type": "display_data"
    },
    {
     "data": {
      "text/html": [
       "<html>\\(\\displaystyle 13\\)</html>"
      ],
      "text/latex": [
       "$\\displaystyle 13$"
      ],
      "text/plain": [
       "13"
      ]
     },
     "metadata": {},
     "output_type": "display_data"
    },
    {
     "data": {
      "text/html": [
       "<html>\\(\\displaystyle \\mathrm{None}\\)</html>"
      ],
      "text/latex": [
       "$\\displaystyle \\mathrm{None}$"
      ],
      "text/plain": [
       "None"
      ]
     },
     "metadata": {},
     "output_type": "display_data"
    },
    {
     "data": {
      "text/html": [
       "<html>\\(\\displaystyle \\mathrm{None}\\)</html>"
      ],
      "text/latex": [
       "$\\displaystyle \\mathrm{None}$"
      ],
      "text/plain": [
       "None"
      ]
     },
     "metadata": {},
     "output_type": "display_data"
    },
    {
     "data": {
      "text/html": [
       "<html>\\(\\displaystyle \\mathrm{None}\\)</html>"
      ],
      "text/latex": [
       "$\\displaystyle \\mathrm{None}$"
      ],
      "text/plain": [
       "None"
      ]
     },
     "metadata": {},
     "output_type": "display_data"
    }
   ],
   "source": [
    "show(inv_add(17,3))\n",
    "show(inv_add(17,0))\n",
    "show(inv_add(17,4))\n",
    "show(inv_add(12,3))\n",
    "show(inv_add(12,0))\n",
    "show(inv_add(12,4))\n",
    "\n",
    "print(\"\\n\\n\")\n",
    "\n",
    "show(inv_mul(17,3))\n",
    "show(inv_mul(17,0))\n",
    "show(inv_mul(17,4))\n",
    "show(inv_mul(12,3))\n",
    "show(inv_mul(12,0))\n",
    "show(inv_mul(12,4))"
   ]
  },
  {
   "cell_type": "markdown",
   "metadata": {
    "deletable": false,
    "editable": false,
    "run_control": {
     "frozen": true
    }
   },
   "source": [
    "### Question\n",
    "Proposer une fonction d'inversion générique `inv_gen` qui prend en paramètre une matrice `M` représentant une opération modulo $N$, un élément neutre `e` et un elément `x` qu'on souhaite inverser. Comme précédemment si $x$ n'est pas inversible la fonction renverra `none`. Attention, votre matrice $M$ doit être définie sur `Integers(N)` de telle sorte que `M.base_ring()` retourne `Integers(N)`.\n",
    "\n",
    "- Vous verifierez que votre fonction générique est équivalente aux fonctions `inv_add` et `inv_mul` pour tous les entiers modulo 5"
   ]
  },
  {
   "cell_type": "code",
   "execution_count": 26,
   "metadata": {
    "scrolled": true
   },
   "outputs": [],
   "source": [
    "def inv_gen(M,e,x):\n",
    "    N = M.base_ring()\n",
    "    for j in range(N.cardinality()):\n",
    "        if(M[x,j] == e):\n",
    "            return j\n",
    "    return None"
   ]
  },
  {
   "cell_type": "code",
   "execution_count": 27,
   "metadata": {},
   "outputs": [
    {
     "data": {
      "text/html": [
       "<html>\\(\\displaystyle 4\\)</html>"
      ],
      "text/latex": [
       "$\\displaystyle 4$"
      ],
      "text/plain": [
       "4"
      ]
     },
     "execution_count": 27,
     "metadata": {},
     "output_type": "execute_result"
    }
   ],
   "source": [
    "TestAdd = genMatrixAdd(5)\n",
    "TestMul = genMatrixMul(5)\n",
    "inv_gen(TestMul,1,4)"
   ]
  },
  {
   "cell_type": "markdown",
   "metadata": {
    "deletable": false,
    "editable": false,
    "run_control": {
     "frozen": true
    }
   },
   "source": [
    "### Question\n",
    "- Écrire deux fonctions `liste_inv_add(N)` et `liste_inv_mul(N)` qui calculent la liste des éléments inversibles pour l'addition et la multiplication *modulo* $N$ (vous utiliserez la fonction `inv_gen` de la question précédente, ainsi que les fonction `genMatrixAdd` et `genMatrixMul`).\n",
    "- Regarder ce qu'il se passe pour $N=5,10,13,16$."
   ]
  },
  {
   "cell_type": "code",
   "execution_count": 28,
   "metadata": {},
   "outputs": [],
   "source": [
    "def liste_inv_add(N):\n",
    "    res = list()\n",
    "    M = genMatrixAdd(N)\n",
    "    for i in range(N):\n",
    "        if inv_gen(M,0,i) != None:\n",
    "            res.append(i)\n",
    "    return res"
   ]
  },
  {
   "cell_type": "code",
   "execution_count": 29,
   "metadata": {},
   "outputs": [],
   "source": [
    "def liste_inv_mul(N):\n",
    "    res = list()\n",
    "    M = genMatrixMul(N)\n",
    "    for i in range(N):\n",
    "        if inv_gen(M,1,i) != None:\n",
    "            res.append(i)\n",
    "    return res"
   ]
  },
  {
   "cell_type": "code",
   "execution_count": 30,
   "metadata": {},
   "outputs": [
    {
     "data": {
      "text/html": [
       "<html>\\(\\displaystyle \\left[0, 1, 2, 3, 4\\right]\\)</html>"
      ],
      "text/latex": [
       "$\\displaystyle \\left[0, 1, 2, 3, 4\\right]$"
      ],
      "text/plain": [
       "[0, 1, 2, 3, 4]"
      ]
     },
     "metadata": {},
     "output_type": "display_data"
    },
    {
     "data": {
      "text/html": [
       "<html>\\(\\displaystyle \\left[1, 2, 3, 4\\right]\\)</html>"
      ],
      "text/latex": [
       "$\\displaystyle \\left[1, 2, 3, 4\\right]$"
      ],
      "text/plain": [
       "[1, 2, 3, 4]"
      ]
     },
     "metadata": {},
     "output_type": "display_data"
    },
    {
     "data": {
      "text/html": [
       "<html>\\(\\displaystyle \\left[0, 1, 2, 3, 4, 5, 6, 7, 8, 9\\right]\\)</html>"
      ],
      "text/latex": [
       "$\\displaystyle \\left[0, 1, 2, 3, 4, 5, 6, 7, 8, 9\\right]$"
      ],
      "text/plain": [
       "[0, 1, 2, 3, 4, 5, 6, 7, 8, 9]"
      ]
     },
     "metadata": {},
     "output_type": "display_data"
    },
    {
     "data": {
      "text/html": [
       "<html>\\(\\displaystyle \\left[1, 3, 7, 9\\right]\\)</html>"
      ],
      "text/latex": [
       "$\\displaystyle \\left[1, 3, 7, 9\\right]$"
      ],
      "text/plain": [
       "[1, 3, 7, 9]"
      ]
     },
     "metadata": {},
     "output_type": "display_data"
    },
    {
     "data": {
      "text/html": [
       "<html>\\(\\displaystyle \\left[0, 1, 2, 3, 4, 5, 6, 7, 8, 9, 10, 11, 12\\right]\\)</html>"
      ],
      "text/latex": [
       "$\\displaystyle \\left[0, 1, 2, 3, 4, 5, 6, 7, 8, 9, 10, 11, 12\\right]$"
      ],
      "text/plain": [
       "[0, 1, 2, 3, 4, 5, 6, 7, 8, 9, 10, 11, 12]"
      ]
     },
     "metadata": {},
     "output_type": "display_data"
    },
    {
     "data": {
      "text/html": [
       "<html>\\(\\displaystyle \\left[1, 2, 3, 4, 5, 6, 7, 8, 9, 10, 11, 12\\right]\\)</html>"
      ],
      "text/latex": [
       "$\\displaystyle \\left[1, 2, 3, 4, 5, 6, 7, 8, 9, 10, 11, 12\\right]$"
      ],
      "text/plain": [
       "[1, 2, 3, 4, 5, 6, 7, 8, 9, 10, 11, 12]"
      ]
     },
     "metadata": {},
     "output_type": "display_data"
    },
    {
     "data": {
      "text/html": [
       "<html>\\(\\displaystyle \\left[0, 1, 2, 3, 4, 5, 6, 7, 8, 9, 10, 11, 12, 13, 14, 15\\right]\\)</html>"
      ],
      "text/latex": [
       "$\\displaystyle \\left[0, 1, 2, 3, 4, 5, 6, 7, 8, 9, 10, 11, 12, 13, 14, 15\\right]$"
      ],
      "text/plain": [
       "[0, 1, 2, 3, 4, 5, 6, 7, 8, 9, 10, 11, 12, 13, 14, 15]"
      ]
     },
     "metadata": {},
     "output_type": "display_data"
    },
    {
     "data": {
      "text/html": [
       "<html>\\(\\displaystyle \\left[1, 3, 5, 7, 9, 11, 13, 15\\right]\\)</html>"
      ],
      "text/latex": [
       "$\\displaystyle \\left[1, 3, 5, 7, 9, 11, 13, 15\\right]$"
      ],
      "text/plain": [
       "[1, 3, 5, 7, 9, 11, 13, 15]"
      ]
     },
     "metadata": {},
     "output_type": "display_data"
    }
   ],
   "source": [
    "show(liste_inv_add(5))\n",
    "show(liste_inv_mul(5))\n",
    "\n",
    "show(liste_inv_add(10))\n",
    "show(liste_inv_mul(10))\n",
    "\n",
    "show(liste_inv_add(13))\n",
    "show(liste_inv_mul(13))\n",
    "\n",
    "show(liste_inv_add(16))\n",
    "show(liste_inv_mul(16))"
   ]
  },
  {
   "cell_type": "markdown",
   "metadata": {
    "deletable": false,
    "editable": false,
    "run_control": {
     "frozen": true
    }
   },
   "source": [
    "On remarque que pour toute valeur de $N$, tous les éléments sont inversibles pour l'addition, mais que ce n'est pas le cas pour la division. D'une part $0$ n'est jamais inversible, mais dans certains cas d'autres éléments ne le sont pas non plus.\n",
    "\n"
   ]
  },
  {
   "cell_type": "markdown",
   "metadata": {
    "deletable": false,
    "editable": false,
    "run_control": {
     "frozen": true
    }
   },
   "source": [
    "\n",
    "### Question \n",
    "Lister tous les entiers $N$ entre $2$ et $30$ pour lesquels tous les éléments sauf $0$ sont inversibles pour la multiplication *modulo* $N$. Que remarquez-vous ?"
   ]
  },
  {
   "cell_type": "code",
   "execution_count": 31,
   "metadata": {},
   "outputs": [
    {
     "data": {
      "text/html": [
       "<html>\\(\\displaystyle 2\\)</html>"
      ],
      "text/latex": [
       "$\\displaystyle 2$"
      ],
      "text/plain": [
       "2"
      ]
     },
     "metadata": {},
     "output_type": "display_data"
    },
    {
     "data": {
      "text/html": [
       "<html>\\(\\displaystyle 3\\)</html>"
      ],
      "text/latex": [
       "$\\displaystyle 3$"
      ],
      "text/plain": [
       "3"
      ]
     },
     "metadata": {},
     "output_type": "display_data"
    },
    {
     "data": {
      "text/html": [
       "<html>\\(\\displaystyle 5\\)</html>"
      ],
      "text/latex": [
       "$\\displaystyle 5$"
      ],
      "text/plain": [
       "5"
      ]
     },
     "metadata": {},
     "output_type": "display_data"
    },
    {
     "data": {
      "text/html": [
       "<html>\\(\\displaystyle 7\\)</html>"
      ],
      "text/latex": [
       "$\\displaystyle 7$"
      ],
      "text/plain": [
       "7"
      ]
     },
     "metadata": {},
     "output_type": "display_data"
    },
    {
     "data": {
      "text/html": [
       "<html>\\(\\displaystyle 11\\)</html>"
      ],
      "text/latex": [
       "$\\displaystyle 11$"
      ],
      "text/plain": [
       "11"
      ]
     },
     "metadata": {},
     "output_type": "display_data"
    },
    {
     "data": {
      "text/html": [
       "<html>\\(\\displaystyle 13\\)</html>"
      ],
      "text/latex": [
       "$\\displaystyle 13$"
      ],
      "text/plain": [
       "13"
      ]
     },
     "metadata": {},
     "output_type": "display_data"
    },
    {
     "data": {
      "text/html": [
       "<html>\\(\\displaystyle 17\\)</html>"
      ],
      "text/latex": [
       "$\\displaystyle 17$"
      ],
      "text/plain": [
       "17"
      ]
     },
     "metadata": {},
     "output_type": "display_data"
    },
    {
     "data": {
      "text/html": [
       "<html>\\(\\displaystyle 19\\)</html>"
      ],
      "text/latex": [
       "$\\displaystyle 19$"
      ],
      "text/plain": [
       "19"
      ]
     },
     "metadata": {},
     "output_type": "display_data"
    },
    {
     "data": {
      "text/html": [
       "<html>\\(\\displaystyle 23\\)</html>"
      ],
      "text/latex": [
       "$\\displaystyle 23$"
      ],
      "text/plain": [
       "23"
      ]
     },
     "metadata": {},
     "output_type": "display_data"
    },
    {
     "data": {
      "text/html": [
       "<html>\\(\\displaystyle 29\\)</html>"
      ],
      "text/latex": [
       "$\\displaystyle 29$"
      ],
      "text/plain": [
       "29"
      ]
     },
     "metadata": {},
     "output_type": "display_data"
    }
   ],
   "source": [
    "for N in range(2,31):\n",
    "    if (len(liste_inv_mul(N)) == (N - 1)):\n",
    "        show(N)"
   ]
  },
  {
   "cell_type": "markdown",
   "metadata": {
    "deletable": false,
    "editable": false,
    "run_control": {
     "frozen": true
    }
   },
   "source": [
    "## Soustraction, division\n",
    "\n",
    "À partir des notions d'inverse pour l'addition et la multiplication, on peut définir les opérations de soustraction et de division :\n",
    "- la soustraction est la composition de l'addition et de son inverse: $x-y = x + \\mathsf{inv}_+(y)$ ;\n",
    "- la division est la composition de la multiplication et de son inverse: $x/y = x \\times \\mathsf{inv}_\\times(y)$.\n",
    "\n",
    "Un autre point de vue est de se dire que l'inverse pour l'addition est défini par la soustraction $0-y$, alors que l'inverse pour la multiplication est défini par la division $1/y$. Autrement dit, il est équivalent de considérer les opérations $\\{+,\\times,\\mathsf{inv}_+,\\mathsf{inv_\\times}\\}$ ou les opérations $\\{+,\\times,-,/\\}$.\n",
    "\n",
    "On a vu précédemment que tous les éléments non nuls sont inversibles pour la multiplication *modulo* $N$ si et seulement si $N$ est premier. \n",
    "\n",
    "### Question\n",
    "Calculer les tables de soustraction et de division modulo $5$ à partir des tables d'addition, de multiplication et de la fonction `inv_gen`. *En case $(i,j)$, la table contient le résultat de l'opération $i\\star j$ pour $\\star\\in\\{-,/\\}$. Pour la division, on pourra mettre un $0$ lorsque la division n'est pas définie (division par zéro).*"
   ]
  },
  {
   "cell_type": "code",
   "execution_count": 32,
   "metadata": {},
   "outputs": [
    {
     "data": {
      "text/html": [
       "<html>\\(\\displaystyle \\left(\\begin{array}{rrrrr}\n",
       "0 & 4 & 3 & 2 & 1 \\\\\n",
       "1 & 0 & 4 & 3 & 2 \\\\\n",
       "2 & 1 & 0 & 4 & 3 \\\\\n",
       "3 & 2 & 1 & 0 & 4 \\\\\n",
       "4 & 3 & 2 & 1 & 0\n",
       "\\end{array}\\right)\\)</html>"
      ],
      "text/latex": [
       "$\\displaystyle \\left(\\begin{array}{rrrrr}\n",
       "0 & 4 & 3 & 2 & 1 \\\\\n",
       "1 & 0 & 4 & 3 & 2 \\\\\n",
       "2 & 1 & 0 & 4 & 3 \\\\\n",
       "3 & 2 & 1 & 0 & 4 \\\\\n",
       "4 & 3 & 2 & 1 & 0\n",
       "\\end{array}\\right)$"
      ],
      "text/plain": [
       "[0 4 3 2 1]\n",
       "[1 0 4 3 2]\n",
       "[2 1 0 4 3]\n",
       "[3 2 1 0 4]\n",
       "[4 3 2 1 0]"
      ]
     },
     "metadata": {},
     "output_type": "display_data"
    },
    {
     "data": {
      "text/html": [
       "<html>\\(\\displaystyle \\left(\\begin{array}{rrrrr}\n",
       "0 & 0 & 0 & 0 & 0 \\\\\n",
       "0 & 1 & 3 & 2 & 4 \\\\\n",
       "0 & 2 & 1 & 4 & 3 \\\\\n",
       "0 & 3 & 4 & 1 & 2 \\\\\n",
       "0 & 4 & 2 & 3 & 1\n",
       "\\end{array}\\right)\\)</html>"
      ],
      "text/latex": [
       "$\\displaystyle \\left(\\begin{array}{rrrrr}\n",
       "0 & 0 & 0 & 0 & 0 \\\\\n",
       "0 & 1 & 3 & 2 & 4 \\\\\n",
       "0 & 2 & 1 & 4 & 3 \\\\\n",
       "0 & 3 & 4 & 1 & 2 \\\\\n",
       "0 & 4 & 2 & 3 & 1\n",
       "\\end{array}\\right)$"
      ],
      "text/plain": [
       "[0 0 0 0 0]\n",
       "[0 1 3 2 4]\n",
       "[0 2 1 4 3]\n",
       "[0 3 4 1 2]\n",
       "[0 4 2 3 1]"
      ]
     },
     "metadata": {},
     "output_type": "display_data"
    }
   ],
   "source": [
    "Madd5 = genMatrixAdd(5)\n",
    "Mmul5 = genMatrixMul(5)\n",
    "Msus5 = matrix(Integers(5),5,5)\n",
    "Mdiv5 = matrix(Integers(5),5,5)\n",
    "\n",
    "for i in range(5):\n",
    "    for j in range(5):\n",
    "        Msus5[i,j] = i + inv_gen(Madd5,0,j)\n",
    "show(Msus5)\n",
    "\n",
    "for i in range(5):\n",
    "    for j in range(5):\n",
    "        if(j == 0):\n",
    "            Mdiv5[i,j] = 0\n",
    "        else:\n",
    "            Mdiv5[i,j] = i * inv_gen(Mmul5,1,j)\n",
    "show(Mdiv5)"
   ]
  },
  {
   "cell_type": "markdown",
   "metadata": {
    "deletable": false,
    "editable": false,
    "run_control": {
     "frozen": true
    }
   },
   "source": [
    "### Question\n",
    "\n",
    "Définir les fonctions `genMatrixSub` et `genMatrixDiv` qui pour un entier $N$ génèrent les matrices correspondant aux tables de soustraction et de division *modulo* $N$. *Vérifier en comparant avec les matrices `Ms5` et `Md5` définies précédemment.*"
   ]
  },
  {
   "cell_type": "code",
   "execution_count": 33,
   "metadata": {},
   "outputs": [],
   "source": [
    "def genMatrixSub(N):\n",
    "    Madd = genMatrixAdd(N)\n",
    "    Msus = matrix(Integers(N),N,N)\n",
    "    for i in range(N):\n",
    "        for j in range(N):\n",
    "            Msus[i,j] = i + inv_gen(Madd,0,j)\n",
    "    return Msus"
   ]
  },
  {
   "cell_type": "code",
   "execution_count": 34,
   "metadata": {},
   "outputs": [
    {
     "data": {
      "text/html": [
       "<html>\\(\\displaystyle \\left(\\begin{array}{rrrrr}\n",
       "0 & 4 & 3 & 2 & 1 \\\\\n",
       "1 & 0 & 4 & 3 & 2 \\\\\n",
       "2 & 1 & 0 & 4 & 3 \\\\\n",
       "3 & 2 & 1 & 0 & 4 \\\\\n",
       "4 & 3 & 2 & 1 & 0\n",
       "\\end{array}\\right)\\)</html>"
      ],
      "text/latex": [
       "$\\displaystyle \\left(\\begin{array}{rrrrr}\n",
       "0 & 4 & 3 & 2 & 1 \\\\\n",
       "1 & 0 & 4 & 3 & 2 \\\\\n",
       "2 & 1 & 0 & 4 & 3 \\\\\n",
       "3 & 2 & 1 & 0 & 4 \\\\\n",
       "4 & 3 & 2 & 1 & 0\n",
       "\\end{array}\\right)$"
      ],
      "text/plain": [
       "[0 4 3 2 1]\n",
       "[1 0 4 3 2]\n",
       "[2 1 0 4 3]\n",
       "[3 2 1 0 4]\n",
       "[4 3 2 1 0]"
      ]
     },
     "metadata": {},
     "output_type": "display_data"
    }
   ],
   "source": [
    "show(genMatrixSub(5))"
   ]
  },
  {
   "cell_type": "code",
   "execution_count": 35,
   "metadata": {},
   "outputs": [],
   "source": [
    "def genMatrixDiv(N):\n",
    "    Mmul = genMatrixMul(N)\n",
    "    Mdiv = matrix(Integers(N),N,N)\n",
    "    for i in range(N):\n",
    "        for j in range(N):\n",
    "            if(j == 0):\n",
    "                Mdiv[i,j] = 0\n",
    "            if(inv_gen(Mmul,1,j) == None):\n",
    "                Mdiv[i,j] = 0\n",
    "            else:\n",
    "                Mdiv[i,j] = i * inv_gen(Mmul,1,j)\n",
    "    return Mdiv"
   ]
  },
  {
   "cell_type": "code",
   "execution_count": 36,
   "metadata": {},
   "outputs": [
    {
     "data": {
      "text/html": [
       "<html>\\(\\displaystyle \\left(\\begin{array}{rrrrr}\n",
       "0 & 0 & 0 & 0 & 0 \\\\\n",
       "0 & 1 & 3 & 2 & 4 \\\\\n",
       "0 & 2 & 1 & 4 & 3 \\\\\n",
       "0 & 3 & 4 & 1 & 2 \\\\\n",
       "0 & 4 & 2 & 3 & 1\n",
       "\\end{array}\\right)\\)</html>"
      ],
      "text/latex": [
       "$\\displaystyle \\left(\\begin{array}{rrrrr}\n",
       "0 & 0 & 0 & 0 & 0 \\\\\n",
       "0 & 1 & 3 & 2 & 4 \\\\\n",
       "0 & 2 & 1 & 4 & 3 \\\\\n",
       "0 & 3 & 4 & 1 & 2 \\\\\n",
       "0 & 4 & 2 & 3 & 1\n",
       "\\end{array}\\right)$"
      ],
      "text/plain": [
       "[0 0 0 0 0]\n",
       "[0 1 3 2 4]\n",
       "[0 2 1 4 3]\n",
       "[0 3 4 1 2]\n",
       "[0 4 2 3 1]"
      ]
     },
     "metadata": {},
     "output_type": "display_data"
    }
   ],
   "source": [
    "show(genMatrixDiv(5))"
   ]
  },
  {
   "cell_type": "markdown",
   "metadata": {
    "deletable": false,
    "editable": false,
    "run_control": {
     "frozen": true
    }
   },
   "source": [
    "On a vu que tous les éléments sont inversibles pour l'addition *modulo* $N$. D'autre part, si $N$ est premier, tous les éléments non nuls sont inversibles pour la multiplication. Cela signifie que les quatre opérations $\\{+,\\times,-,/\\}$ sont bien définies : $x\\star y\\in\\{0,\\dotsc,N-1\\}$ pour tout $x,y\\in\\{0,\\dotsc,N-1\\}$ et $\\star\\in\\{+,\\times,-,/\\}$ (avec la condition $y\\neq 0$ si $\\star=/$). On peut donc calculer *modulo* un nombre premier comme on calcule avec les nombres rationnels. On dit que les entiers *modulo* un nombre premier forment un *corps*. \n",
    "\n",
    "Dans la suite, on va s'intéresser à ce qui se passe pour $N$ non premier. Dans ce cas, on a déjà vu que certains éléments ne sont pas inversibles pour la multiplication."
   ]
  },
  {
   "cell_type": "markdown",
   "metadata": {
    "deletable": false,
    "editable": false,
    "run_control": {
     "frozen": true
    }
   },
   "source": [
    "## Groupe multiplicatif\n",
    "\n",
    "<!--On a vu que tous les éléments sont inversibles pour l'addition *modulo* $N$. D'autre part, si $N$ est premier, tous les éléments non nuls sont inversible pour la multiplication pour alors les quatre opérations $\\{+,\\times,-,/\\}$ sont bien définies : $x\\star y\\in\\{0,\\dotsc,N-1\\}$ pour tout $x,y\\in\\{0,\\dotsc,N-1\\}$ et $\\star\\in\\{+,\\times,-,/\\}$ (avec la condition $y\\neq 0$ si $\\star=/$). Si $N$ n'est pas premier, on a vu que certains éléments non nuls ne sont pas inversibles pour la multiplication, et on ne peut donc pas définir de division sur l'ensemble des entiers *modulo* $N$.\n",
    "\n",
    "\n",
    "\n",
    "La liste de nombres précédente ne comporte que des nombres premiers. C'est une propriété mathématique importante : si\n",
    "-->\n",
    "\n",
    "Quand $N$ est premier, les entiers $\\{1,2,\\dots,N-1\\}$ forment un *groupe* pour la multiplication modulo $N$, c'est-à-dire que ce sous-ensemble $E$ vérifie les deux conditions suivantes :\n",
    "- pour tout $x,y\\in E$, $x\\times y\\in E$ (*opération interne*) ;\n",
    "- pour tout $x\\in E$, il existe un unique inverse de $x$ dans $E$ pour la multiplication (*inversibilité*).\n",
    " \n",
    "Quand $N$ n'est pas premier, certains éléments ne sont pas inversibles pour la multiplication et $\\{1,\\dotsc,N-1\\}$ n'est pas un groupe. \n",
    "\n",
    "On va voir qu'il existe toujours, même pour $N$ non premier, un *groupe* pour la multiplication *modulo* $N$, c'est-à-dire un sous-ensemble $E$ qui vérifie les deux conditions précédentes. \n",
    "\n",
    "**Remarque.** On cherche un groupe le plus grand possible. En effet, le sous-ensemble $\\{1\\}$ forme toujours un groupe pour la multiplication *modulo* $N$, car $1\\times 1 = 1$ et $1$ est son propre inverse.\n"
   ]
  },
  {
   "cell_type": "markdown",
   "metadata": {
    "deletable": false,
    "editable": false,
    "run_control": {
     "frozen": true
    }
   },
   "source": [
    "### Question\n",
    "Écrire une fonction `estInterne(M,E)` qui prend en entrée une table d'opération `M` (une matrice), un sous-ensemble $E$, et teste si l'opération représentée par la matrice `M` est interne au sous-ensemble $E$. *On peut définir la sous-table d'opération restreinte à E avec M[E,E].* \n",
    "\n",
    "- Vous testerez votre fonction avec la table de multiplication modulo 5 et l'ensemble d'entiers E={1,2,3,4}.\n",
    "- Vous verifierez votre fonction avec les tables de multiplication modulo $N$ pour $2 \\leq N\\leq 31$. Pour le sous-ensemble E, vous utiliserez la fonction `liste_inv_mul(N)`.\n",
    "- Montrez que si on remplace la table de multiplication par la table d'addition et que l'on prend le même sous-ensemble, l'opération `estIterne` renvoie toujours faux."
   ]
  },
  {
   "cell_type": "code",
   "execution_count": 37,
   "metadata": {},
   "outputs": [],
   "source": [
    "def estInterne(M,E):\n",
    "    N = M.base_ring()\n",
    "    for i in E:\n",
    "        for j in E:\n",
    "            if (M[i,j] not in E):\n",
    "                return False\n",
    "    return True"
   ]
  },
  {
   "cell_type": "code",
   "execution_count": 38,
   "metadata": {},
   "outputs": [
    {
     "data": {
      "text/html": [
       "<html>\\(\\displaystyle \\mathrm{True}\\)</html>"
      ],
      "text/latex": [
       "$\\displaystyle \\mathrm{True}$"
      ],
      "text/plain": [
       "True"
      ]
     },
     "execution_count": 38,
     "metadata": {},
     "output_type": "execute_result"
    }
   ],
   "source": [
    "estInterne(Mmul5,[1,2,3,4])"
   ]
  },
  {
   "cell_type": "code",
   "execution_count": 39,
   "metadata": {},
   "outputs": [],
   "source": [
    "#for i in range(2,31):\n",
    "    #show(estInterne(genMatrixMul(i),liste_inv_mul(i)))"
   ]
  },
  {
   "cell_type": "code",
   "execution_count": 40,
   "metadata": {},
   "outputs": [],
   "source": [
    "#for i in range(2,31):\n",
    "    #show(estInterne(genMatrixAdd(i),liste_inv_mul(i)))"
   ]
  },
  {
   "cell_type": "markdown",
   "metadata": {
    "deletable": false,
    "editable": false,
    "run_control": {
     "frozen": true
    }
   },
   "source": [
    "### Question\n",
    "- Écrire une fonction `estGroupe(Mp, E)` qui prend en entrée une table de *multiplication* `Mp` et vérifie si le sous-ensemble $E$ forme un groupe pour la multiplication, en vérifiant les deux propriétés énoncées au-dessus.\n",
    "- Pour $N=15$, vérifier que le sous-ensemble $E=\\{1,2,4,7,8,11,13,14\\}$ forme un groupe pour la multiplication modulo $15$. Afficher les tables de multiplications et de division dans ce groupe."
   ]
  },
  {
   "cell_type": "code",
   "execution_count": 41,
   "metadata": {},
   "outputs": [],
   "source": [
    "def estGroupe(Mp,E):\n",
    "    N  = Mp.base_ring()\n",
    "    if (not estInterne(Mp,E)):\n",
    "        return False\n",
    "    else:\n",
    "        for i in E:\n",
    "            if (not i in liste_inv_mul(N.cardinality())):\n",
    "                return False\n",
    "    return True"
   ]
  },
  {
   "cell_type": "code",
   "execution_count": 42,
   "metadata": {},
   "outputs": [
    {
     "data": {
      "text/html": [
       "<html>\\(\\displaystyle \\mathrm{True}\\)</html>"
      ],
      "text/latex": [
       "$\\displaystyle \\mathrm{True}$"
      ],
      "text/plain": [
       "True"
      ]
     },
     "metadata": {},
     "output_type": "display_data"
    },
    {
     "data": {
      "text/html": [
       "<html>\\(\\displaystyle \\left(\\begin{array}{rrrrrrrr}\n",
       "1 & 2 & 4 & 7 & 8 & 11 & 13 & 14 \\\\\n",
       "2 & 4 & 8 & 14 & 1 & 7 & 11 & 13 \\\\\n",
       "4 & 8 & 1 & 13 & 2 & 14 & 7 & 11 \\\\\n",
       "7 & 14 & 13 & 4 & 11 & 2 & 1 & 8 \\\\\n",
       "8 & 1 & 2 & 11 & 4 & 13 & 14 & 7 \\\\\n",
       "11 & 7 & 14 & 2 & 13 & 1 & 8 & 4 \\\\\n",
       "13 & 11 & 7 & 1 & 14 & 8 & 4 & 2 \\\\\n",
       "14 & 13 & 11 & 8 & 7 & 4 & 2 & 1\n",
       "\\end{array}\\right)\\)</html>"
      ],
      "text/latex": [
       "$\\displaystyle \\left(\\begin{array}{rrrrrrrr}\n",
       "1 & 2 & 4 & 7 & 8 & 11 & 13 & 14 \\\\\n",
       "2 & 4 & 8 & 14 & 1 & 7 & 11 & 13 \\\\\n",
       "4 & 8 & 1 & 13 & 2 & 14 & 7 & 11 \\\\\n",
       "7 & 14 & 13 & 4 & 11 & 2 & 1 & 8 \\\\\n",
       "8 & 1 & 2 & 11 & 4 & 13 & 14 & 7 \\\\\n",
       "11 & 7 & 14 & 2 & 13 & 1 & 8 & 4 \\\\\n",
       "13 & 11 & 7 & 1 & 14 & 8 & 4 & 2 \\\\\n",
       "14 & 13 & 11 & 8 & 7 & 4 & 2 & 1\n",
       "\\end{array}\\right)$"
      ],
      "text/plain": [
       "[ 1  2  4  7  8 11 13 14]\n",
       "[ 2  4  8 14  1  7 11 13]\n",
       "[ 4  8  1 13  2 14  7 11]\n",
       "[ 7 14 13  4 11  2  1  8]\n",
       "[ 8  1  2 11  4 13 14  7]\n",
       "[11  7 14  2 13  1  8  4]\n",
       "[13 11  7  1 14  8  4  2]\n",
       "[14 13 11  8  7  4  2  1]"
      ]
     },
     "metadata": {},
     "output_type": "display_data"
    },
    {
     "data": {
      "text/html": [
       "<html>\\(\\displaystyle \\left(\\begin{array}{rrrrrrrr}\n",
       "1 & 8 & 4 & 13 & 2 & 11 & 7 & 14 \\\\\n",
       "2 & 1 & 8 & 11 & 4 & 7 & 14 & 13 \\\\\n",
       "4 & 2 & 1 & 7 & 8 & 14 & 13 & 11 \\\\\n",
       "7 & 11 & 13 & 1 & 14 & 2 & 4 & 8 \\\\\n",
       "8 & 4 & 2 & 14 & 1 & 13 & 11 & 7 \\\\\n",
       "11 & 13 & 14 & 8 & 7 & 1 & 2 & 4 \\\\\n",
       "13 & 14 & 7 & 4 & 11 & 8 & 1 & 2 \\\\\n",
       "14 & 7 & 11 & 2 & 13 & 4 & 8 & 1\n",
       "\\end{array}\\right)\\)</html>"
      ],
      "text/latex": [
       "$\\displaystyle \\left(\\begin{array}{rrrrrrrr}\n",
       "1 & 8 & 4 & 13 & 2 & 11 & 7 & 14 \\\\\n",
       "2 & 1 & 8 & 11 & 4 & 7 & 14 & 13 \\\\\n",
       "4 & 2 & 1 & 7 & 8 & 14 & 13 & 11 \\\\\n",
       "7 & 11 & 13 & 1 & 14 & 2 & 4 & 8 \\\\\n",
       "8 & 4 & 2 & 14 & 1 & 13 & 11 & 7 \\\\\n",
       "11 & 13 & 14 & 8 & 7 & 1 & 2 & 4 \\\\\n",
       "13 & 14 & 7 & 4 & 11 & 8 & 1 & 2 \\\\\n",
       "14 & 7 & 11 & 2 & 13 & 4 & 8 & 1\n",
       "\\end{array}\\right)$"
      ],
      "text/plain": [
       "[ 1  8  4 13  2 11  7 14]\n",
       "[ 2  1  8 11  4  7 14 13]\n",
       "[ 4  2  1  7  8 14 13 11]\n",
       "[ 7 11 13  1 14  2  4  8]\n",
       "[ 8  4  2 14  1 13 11  7]\n",
       "[11 13 14  8  7  1  2  4]\n",
       "[13 14  7  4 11  8  1  2]\n",
       "[14  7 11  2 13  4  8  1]"
      ]
     },
     "metadata": {},
     "output_type": "display_data"
    }
   ],
   "source": [
    "Mmul15 = genMatrixMul(15)\n",
    "Mdiv15 = genMatrixDiv(15)\n",
    "show(estGroupe(Mmul15,[1,2,4,7,8,11,13,14]))\n",
    "show(Mmul15[[1,2,4,7,8,11,13,14],[1,2,4,7,8,11,13,14]])\n",
    "show(Mdiv15[[1,2,4,7,8,11,13,14],[1,2,4,7,8,11,13,14]])"
   ]
  },
  {
   "cell_type": "markdown",
   "metadata": {
    "deletable": false,
    "editable": false,
    "run_control": {
     "frozen": true
    }
   },
   "source": [
    "### Question\n",
    "- Quelle propriété remarquez-vous sur l'ensemble $\\{1,2,4,7,8,11,13,14\\}$ par rapport à l'entier 15 ? *Indication : quels sont les entiers manquants ?*\n",
    "- Appliquer votre propriété pour trouver un sous-ensemble de $\\{1,2,3,4,5,6,7,8,9\\}$ qui forme un groupe pour la multiplication modulo 10. *Trouver la solution théoriquement, puis vérifier.*"
   ]
  },
  {
   "cell_type": "code",
   "execution_count": 43,
   "metadata": {},
   "outputs": [],
   "source": [
    "### Tous les multiples des diviseurs de 15 sont absents, autrement dit seulement premiers avec\n",
    "### 15 sont présents"
   ]
  },
  {
   "cell_type": "code",
   "execution_count": 44,
   "metadata": {},
   "outputs": [
    {
     "data": {
      "text/html": [
       "<html>\\(\\displaystyle \\mathrm{True}\\)</html>"
      ],
      "text/latex": [
       "$\\displaystyle \\mathrm{True}$"
      ],
      "text/plain": [
       "True"
      ]
     },
     "execution_count": 44,
     "metadata": {},
     "output_type": "execute_result"
    }
   ],
   "source": [
    "### [1,3,7,9]\n",
    "estGroupe(genMatrixMul(10),[1,3,7,9])"
   ]
  },
  {
   "cell_type": "markdown",
   "metadata": {
    "deletable": false,
    "editable": false,
    "run_control": {
     "frozen": true
    }
   },
   "source": [
    "### Question\n",
    "Soit $p=3$ et $q=5$, donner le code qui permet de calculer l'ensemble des entiers compris entre $1$ et $p\\times q-1$ qui ne sont ni divisibles par $p$ ni par $q$."
   ]
  },
  {
   "cell_type": "code",
   "execution_count": 45,
   "metadata": {
    "cell_style": "center"
   },
   "outputs": [
    {
     "data": {
      "text/html": [
       "<html>\\(\\displaystyle 1\\)</html>"
      ],
      "text/latex": [
       "$\\displaystyle 1$"
      ],
      "text/plain": [
       "1"
      ]
     },
     "metadata": {},
     "output_type": "display_data"
    },
    {
     "data": {
      "text/html": [
       "<html>\\(\\displaystyle 2\\)</html>"
      ],
      "text/latex": [
       "$\\displaystyle 2$"
      ],
      "text/plain": [
       "2"
      ]
     },
     "metadata": {},
     "output_type": "display_data"
    },
    {
     "data": {
      "text/html": [
       "<html>\\(\\displaystyle 4\\)</html>"
      ],
      "text/latex": [
       "$\\displaystyle 4$"
      ],
      "text/plain": [
       "4"
      ]
     },
     "metadata": {},
     "output_type": "display_data"
    },
    {
     "data": {
      "text/html": [
       "<html>\\(\\displaystyle 7\\)</html>"
      ],
      "text/latex": [
       "$\\displaystyle 7$"
      ],
      "text/plain": [
       "7"
      ]
     },
     "metadata": {},
     "output_type": "display_data"
    },
    {
     "data": {
      "text/html": [
       "<html>\\(\\displaystyle 8\\)</html>"
      ],
      "text/latex": [
       "$\\displaystyle 8$"
      ],
      "text/plain": [
       "8"
      ]
     },
     "metadata": {},
     "output_type": "display_data"
    },
    {
     "data": {
      "text/html": [
       "<html>\\(\\displaystyle 11\\)</html>"
      ],
      "text/latex": [
       "$\\displaystyle 11$"
      ],
      "text/plain": [
       "11"
      ]
     },
     "metadata": {},
     "output_type": "display_data"
    },
    {
     "data": {
      "text/html": [
       "<html>\\(\\displaystyle 13\\)</html>"
      ],
      "text/latex": [
       "$\\displaystyle 13$"
      ],
      "text/plain": [
       "13"
      ]
     },
     "metadata": {},
     "output_type": "display_data"
    },
    {
     "data": {
      "text/html": [
       "<html>\\(\\displaystyle 14\\)</html>"
      ],
      "text/latex": [
       "$\\displaystyle 14$"
      ],
      "text/plain": [
       "14"
      ]
     },
     "metadata": {},
     "output_type": "display_data"
    }
   ],
   "source": [
    "p = ZZ(3)\n",
    "q = ZZ(5)\n",
    "\n",
    "for pq in srange(1,p*q):\n",
    "    if (p not in pq.divisors() and q not in pq.divisors()):\n",
    "        show(pq)"
   ]
  },
  {
   "cell_type": "markdown",
   "metadata": {
    "deletable": false,
    "editable": false,
    "run_control": {
     "frozen": true
    }
   },
   "source": [
    "### Question\n",
    "Écrire une fonction `nondivPQ(p,q)` qui prend 2 nombres premiers $p$ et $q$ et qui retourne la liste des nombres compris entre 1 et $pq$ et qui ne sont divisibles ni par $p$ ni par $q$.\n",
    "\n",
    "Vous montrerez que `nondivPQ(p,q)` et `liste_inv_mul(p*q)` renvoient le même résultat pour $p$ et $q$ premiers. Pour cela vous vérifierez que c'est bien le cas pour tous les couples de nombres premiers $(p,q)$ parmi les 10 premiers nombres premiers (il existe une fonction sage pour générer la liste de ces nombres premiers)."
   ]
  },
  {
   "cell_type": "code",
   "execution_count": 46,
   "metadata": {},
   "outputs": [],
   "source": [
    "def nondivPQ(p,q):\n",
    "    res = list()\n",
    "    for pq in srange(1,p*q):\n",
    "        if (p not in pq.divisors() and q not in pq.divisors()):\n",
    "            res.append(pq)\n",
    "    return res"
   ]
  },
  {
   "cell_type": "code",
   "execution_count": 47,
   "metadata": {},
   "outputs": [
    {
     "data": {
      "text/html": [
       "<html>\\(\\displaystyle \\mathrm{True}\\)</html>"
      ],
      "text/latex": [
       "$\\displaystyle \\mathrm{True}$"
      ],
      "text/plain": [
       "True"
      ]
     },
     "execution_count": 47,
     "metadata": {},
     "output_type": "execute_result"
    }
   ],
   "source": [
    "R = True\n",
    "for p in Primes()[0:10]:\n",
    "    for q in Primes()[0:10]:\n",
    "        if (nondivPQ(p,q) != liste_inv_mul(p*q)):\n",
    "            R = False\n",
    "            break\n",
    "R"
   ]
  },
  {
   "cell_type": "markdown",
   "metadata": {
    "deletable": false,
    "editable": false,
    "run_control": {
     "frozen": true
    }
   },
   "source": [
    "### Question\n",
    "Vérifier, à l'aide des fonctions `nondivPQ` et `estGroupe`, que pour tout couple $(p,q)$ de nombres premiers l'ensemble des éléments de `nondivPQ(p,q)` forme un groupe pour la multiplication modulo $N=p\\times q$.\n",
    "- vous testerez dans un premier temps votre fonction avec $p = 5$ et $q = 7$,\n",
    "- puis vous la testerez pour tout les couples de nombre premiers $(p,q)$ parmi les 10 premiers nombres premiers ."
   ]
  },
  {
   "cell_type": "code",
   "execution_count": 48,
   "metadata": {
    "scrolled": true
   },
   "outputs": [
    {
     "data": {
      "text/html": [
       "<html>\\(\\displaystyle \\mathrm{True}\\)</html>"
      ],
      "text/latex": [
       "$\\displaystyle \\mathrm{True}$"
      ],
      "text/plain": [
       "True"
      ]
     },
     "metadata": {},
     "output_type": "display_data"
    },
    {
     "name": "stdout",
     "output_type": "stream",
     "text": [
      "(2, 2)\n",
      "(2, 3)\n",
      "(2, 5)\n",
      "(2, 7)\n",
      "(2, 11)\n",
      "(2, 13)\n",
      "(3, 2)\n",
      "(3, 3)\n",
      "(3, 5)\n",
      "(3, 7)\n",
      "(3, 11)\n",
      "(3, 13)\n",
      "(5, 2)\n",
      "(5, 3)\n",
      "(5, 5)\n",
      "(5, 7)\n",
      "(5, 11)\n",
      "(5, 13)\n",
      "(7, 2)\n",
      "(7, 3)\n",
      "(7, 5)\n",
      "(7, 7)\n",
      "(7, 11)\n",
      "(7, 13)\n",
      "(11, 2)\n",
      "(11, 3)\n",
      "(11, 5)\n",
      "(11, 7)\n",
      "(11, 11)\n",
      "(11, 13)\n",
      "(13, 2)\n",
      "(13, 3)\n",
      "(13, 5)\n",
      "(13, 7)\n",
      "(13, 11)\n",
      "(13, 13)\n"
     ]
    },
    {
     "data": {
      "text/html": [
       "<html>\\(\\displaystyle \\mathrm{True}\\)</html>"
      ],
      "text/latex": [
       "$\\displaystyle \\mathrm{True}$"
      ],
      "text/plain": [
       "True"
      ]
     },
     "execution_count": 48,
     "metadata": {},
     "output_type": "execute_result"
    }
   ],
   "source": [
    "show(estGroupe(genMatrixMul(5*7),nondivPQ(5,7)))\n",
    "\n",
    "R = True\n",
    "for p in Primes()[0:6]:\n",
    "    for q in Primes()[0:6]:\n",
    "        print((p,q))\n",
    "        if (not estGroupe(genMatrixMul(p*q),nondivPQ(p,q))):\n",
    "            R = False\n",
    "            break\n",
    "R"
   ]
  },
  {
   "cell_type": "markdown",
   "metadata": {
    "deletable": false,
    "editable": false,
    "run_control": {
     "frozen": true
    }
   },
   "source": [
    "### Question \n",
    "On va généraliser les questions précédentes à un entier $N$ quelconque, en vérifiant que le sous-ensemble $E$ des entiers qui ne sont multiples d'aucun facteur premier de $N$, forme un groupe pour la multiplication. \n",
    "\n",
    "- généraliser `nondivPQ` à un $N$ quelconque pour renvoyer l'ensemble des entiers qui ne sont multiples d'aucun facteur premier de $N$. *La fonction `N.factor()` calcule la factorisation de $N$ en facteurs premiers. Le retour de la fonction est une liste de couples représentant le facteur et son exposant dans la factorisation.*\n",
    "- proposer une fonction qui vérifie pour un entier $N$ que l'ensemble en question forme bien un groupe pour la multiplication.\n",
    "- tester pour tous les entiers  $N$ entre 1 et 100."
   ]
  },
  {
   "cell_type": "code",
   "execution_count": 49,
   "metadata": {},
   "outputs": [],
   "source": [
    "def nondivPQ(N):\n",
    "    res = list()\n",
    "    liste_facteurs = list(N.factor())\n",
    "    for i in srange(1,N):\n",
    "        pas_multiple = True\n",
    "        for e in liste_facteurs:\n",
    "            if(i % e[0] == 0):\n",
    "                pas_multiple = False\n",
    "                break\n",
    "        if(pas_multiple):\n",
    "            res.append(i)\n",
    "    return res"
   ]
  },
  {
   "cell_type": "code",
   "execution_count": 50,
   "metadata": {},
   "outputs": [
    {
     "data": {
      "text/html": [
       "<html>\\(\\displaystyle \\left[1, 3, 7, 9, 11, 13, 17, 19\\right]\\)</html>"
      ],
      "text/latex": [
       "$\\displaystyle \\left[1, 3, 7, 9, 11, 13, 17, 19\\right]$"
      ],
      "text/plain": [
       "[1, 3, 7, 9, 11, 13, 17, 19]"
      ]
     },
     "execution_count": 50,
     "metadata": {},
     "output_type": "execute_result"
    }
   ],
   "source": [
    "nondivPQ(20)"
   ]
  },
  {
   "cell_type": "code",
   "execution_count": 51,
   "metadata": {},
   "outputs": [],
   "source": [
    "def formeGroupe(N):\n",
    "    N = ZZ(N)\n",
    "    return estGroupe(genMatrixMul(N),nondivPQ(N))"
   ]
  },
  {
   "cell_type": "code",
   "execution_count": 52,
   "metadata": {},
   "outputs": [
    {
     "data": {
      "text/html": [
       "<html>\\(\\displaystyle \\mathrm{True}\\)</html>"
      ],
      "text/latex": [
       "$\\displaystyle \\mathrm{True}$"
      ],
      "text/plain": [
       "True"
      ]
     },
     "metadata": {},
     "output_type": "display_data"
    }
   ],
   "source": [
    "res = list()\n",
    "for i in srange(100):\n",
    "    res.append(formeGroupe(N))\n",
    "show(all(res))"
   ]
  },
  {
   "cell_type": "markdown",
   "metadata": {
    "deletable": false,
    "editable": false,
    "run_control": {
     "frozen": true
    }
   },
   "source": [
    "## Inversibilité et pgcd\n",
    "\n",
    "On vient de voir que pour tout entier $N$, il existe un sous-ensemble de $G\\subset E=\\{1,2,\\dots,N-1\\}$ qui définit un groupe pour la multiplication modulo $N$. On dira de $G$ qu'il est le sous-groupe multiplicatif des entiers modulo $N$.\n",
    "\n",
    "- Si $N$ est un nombre premier alors le sous-ensemble de $G$ est formé par tous les entiers compris entre 1 et N-1.\n",
    "- Si par contre $N=p\\times q$ avec $p$ et $q$ des nombres premiers alors le sous-ensemble $G$ est formé des entiers divisibles ni par $p$ ni par $q$, autrement dit ceux dont le pgcd avec $N$ est égal à $1$. Dans ce cas, le nombre d'entiers dans $G$ est $(p-1)\\times(q-1)$.\n",
    "\n",
    "De manière plus générale, pour tout $N$, le sous-ensemble $G$ est formé des entiers qui sont premiers avec $N$, càd tous les entiers $x\\in \\{1,\\dots,N-1\\}$ tels que $\\operatorname{pgcd}(x,N)=1$. L'indicatrice d'Euler, notée $\\varphi(N)$, donne exactement le nombre d'éléments de $G$. \n",
    "\n",
    "### Question\n",
    "Retrouver les éléments inversibles *modulo* $35$ en utilisant la propriété sur le pgcd, et vérifier que le nombre d'éléments trouvés vaut bien $\\varphi(35)$. *Le pgcd de $a$ et $b$ se calcule avec `gcd(a,b)`, et $\\varphi(N)$ avec `euler_phi(N)`.*"
   ]
  },
  {
   "cell_type": "code",
   "execution_count": 53,
   "metadata": {},
   "outputs": [
    {
     "data": {
      "text/html": [
       "<html>\\(\\displaystyle \\left[1, 2, 3, 4, 6, 8, 9, 11, 12, 13, 16, 17, 18, 19, 22, 23, 24, 26, 27, 29, 31, 32, 33, 34\\right]\\)</html>"
      ],
      "text/latex": [
       "$\\displaystyle \\left[1, 2, 3, 4, 6, 8, 9, 11, 12, 13, 16, 17, 18, 19, 22, 23, 24, 26, 27, 29, 31, 32, 33, 34\\right]$"
      ],
      "text/plain": [
       "[1,\n",
       " 2,\n",
       " 3,\n",
       " 4,\n",
       " 6,\n",
       " 8,\n",
       " 9,\n",
       " 11,\n",
       " 12,\n",
       " 13,\n",
       " 16,\n",
       " 17,\n",
       " 18,\n",
       " 19,\n",
       " 22,\n",
       " 23,\n",
       " 24,\n",
       " 26,\n",
       " 27,\n",
       " 29,\n",
       " 31,\n",
       " 32,\n",
       " 33,\n",
       " 34]"
      ]
     },
     "metadata": {},
     "output_type": "display_data"
    },
    {
     "data": {
      "text/html": [
       "<html>\\(\\displaystyle \\mathrm{True}\\)</html>"
      ],
      "text/latex": [
       "$\\displaystyle \\mathrm{True}$"
      ],
      "text/plain": [
       "True"
      ]
     },
     "metadata": {},
     "output_type": "display_data"
    }
   ],
   "source": [
    "res = list()\n",
    "for i in range(1,36):\n",
    "    if(gcd(i,35) == 1):\n",
    "        res.append(i)\n",
    "show(res)\n",
    "show(len(res) == euler_phi(35))"
   ]
  },
  {
   "cell_type": "markdown",
   "metadata": {
    "deletable": false,
    "editable": false,
    "run_control": {
     "frozen": true
    }
   },
   "source": [
    "### Question\n",
    "Pour différentes valeur de $N$, calculer $z^{\\varphi(N)} \\bmod N$ pour tous les éléments inversibles de $\\{1,\\dotsc,N\\}$. Que remarquez-vous ?  "
   ]
  },
  {
   "cell_type": "code",
   "execution_count": 54,
   "metadata": {},
   "outputs": [
    {
     "data": {
      "text/html": [
       "<html>\\(\\displaystyle 1\\)</html>"
      ],
      "text/latex": [
       "$\\displaystyle 1$"
      ],
      "text/plain": [
       "1"
      ]
     },
     "metadata": {},
     "output_type": "display_data"
    },
    {
     "data": {
      "text/html": [
       "<html>\\(\\displaystyle 1\\)</html>"
      ],
      "text/latex": [
       "$\\displaystyle 1$"
      ],
      "text/plain": [
       "1"
      ]
     },
     "metadata": {},
     "output_type": "display_data"
    },
    {
     "data": {
      "text/html": [
       "<html>\\(\\displaystyle 1\\)</html>"
      ],
      "text/latex": [
       "$\\displaystyle 1$"
      ],
      "text/plain": [
       "1"
      ]
     },
     "metadata": {},
     "output_type": "display_data"
    },
    {
     "data": {
      "text/html": [
       "<html>\\(\\displaystyle 1\\)</html>"
      ],
      "text/latex": [
       "$\\displaystyle 1$"
      ],
      "text/plain": [
       "1"
      ]
     },
     "metadata": {},
     "output_type": "display_data"
    },
    {
     "data": {
      "text/html": [
       "<html>\\(\\displaystyle 1\\)</html>"
      ],
      "text/latex": [
       "$\\displaystyle 1$"
      ],
      "text/plain": [
       "1"
      ]
     },
     "metadata": {},
     "output_type": "display_data"
    },
    {
     "data": {
      "text/html": [
       "<html>\\(\\displaystyle 1\\)</html>"
      ],
      "text/latex": [
       "$\\displaystyle 1$"
      ],
      "text/plain": [
       "1"
      ]
     },
     "metadata": {},
     "output_type": "display_data"
    },
    {
     "data": {
      "text/html": [
       "<html>\\(\\displaystyle 1\\)</html>"
      ],
      "text/latex": [
       "$\\displaystyle 1$"
      ],
      "text/plain": [
       "1"
      ]
     },
     "metadata": {},
     "output_type": "display_data"
    },
    {
     "data": {
      "text/html": [
       "<html>\\(\\displaystyle 1\\)</html>"
      ],
      "text/latex": [
       "$\\displaystyle 1$"
      ],
      "text/plain": [
       "1"
      ]
     },
     "metadata": {},
     "output_type": "display_data"
    },
    {
     "data": {
      "text/html": [
       "<html>\\(\\displaystyle 1\\)</html>"
      ],
      "text/latex": [
       "$\\displaystyle 1$"
      ],
      "text/plain": [
       "1"
      ]
     },
     "metadata": {},
     "output_type": "display_data"
    },
    {
     "data": {
      "text/html": [
       "<html>\\(\\displaystyle 1\\)</html>"
      ],
      "text/latex": [
       "$\\displaystyle 1$"
      ],
      "text/plain": [
       "1"
      ]
     },
     "metadata": {},
     "output_type": "display_data"
    },
    {
     "data": {
      "text/html": [
       "<html>\\(\\displaystyle 1\\)</html>"
      ],
      "text/latex": [
       "$\\displaystyle 1$"
      ],
      "text/plain": [
       "1"
      ]
     },
     "metadata": {},
     "output_type": "display_data"
    },
    {
     "data": {
      "text/html": [
       "<html>\\(\\displaystyle 1\\)</html>"
      ],
      "text/latex": [
       "$\\displaystyle 1$"
      ],
      "text/plain": [
       "1"
      ]
     },
     "metadata": {},
     "output_type": "display_data"
    },
    {
     "data": {
      "text/html": [
       "<html>\\(\\displaystyle 1\\)</html>"
      ],
      "text/latex": [
       "$\\displaystyle 1$"
      ],
      "text/plain": [
       "1"
      ]
     },
     "metadata": {},
     "output_type": "display_data"
    },
    {
     "data": {
      "text/html": [
       "<html>\\(\\displaystyle 1\\)</html>"
      ],
      "text/latex": [
       "$\\displaystyle 1$"
      ],
      "text/plain": [
       "1"
      ]
     },
     "metadata": {},
     "output_type": "display_data"
    },
    {
     "data": {
      "text/html": [
       "<html>\\(\\displaystyle 1\\)</html>"
      ],
      "text/latex": [
       "$\\displaystyle 1$"
      ],
      "text/plain": [
       "1"
      ]
     },
     "metadata": {},
     "output_type": "display_data"
    },
    {
     "data": {
      "text/html": [
       "<html>\\(\\displaystyle 1\\)</html>"
      ],
      "text/latex": [
       "$\\displaystyle 1$"
      ],
      "text/plain": [
       "1"
      ]
     },
     "metadata": {},
     "output_type": "display_data"
    },
    {
     "data": {
      "text/html": [
       "<html>\\(\\displaystyle 1\\)</html>"
      ],
      "text/latex": [
       "$\\displaystyle 1$"
      ],
      "text/plain": [
       "1"
      ]
     },
     "metadata": {},
     "output_type": "display_data"
    },
    {
     "data": {
      "text/html": [
       "<html>\\(\\displaystyle 1\\)</html>"
      ],
      "text/latex": [
       "$\\displaystyle 1$"
      ],
      "text/plain": [
       "1"
      ]
     },
     "metadata": {},
     "output_type": "display_data"
    },
    {
     "data": {
      "text/html": [
       "<html>\\(\\displaystyle 1\\)</html>"
      ],
      "text/latex": [
       "$\\displaystyle 1$"
      ],
      "text/plain": [
       "1"
      ]
     },
     "metadata": {},
     "output_type": "display_data"
    },
    {
     "data": {
      "text/html": [
       "<html>\\(\\displaystyle 1\\)</html>"
      ],
      "text/latex": [
       "$\\displaystyle 1$"
      ],
      "text/plain": [
       "1"
      ]
     },
     "metadata": {},
     "output_type": "display_data"
    },
    {
     "data": {
      "text/html": [
       "<html>\\(\\displaystyle 1\\)</html>"
      ],
      "text/latex": [
       "$\\displaystyle 1$"
      ],
      "text/plain": [
       "1"
      ]
     },
     "metadata": {},
     "output_type": "display_data"
    },
    {
     "data": {
      "text/html": [
       "<html>\\(\\displaystyle 1\\)</html>"
      ],
      "text/latex": [
       "$\\displaystyle 1$"
      ],
      "text/plain": [
       "1"
      ]
     },
     "metadata": {},
     "output_type": "display_data"
    },
    {
     "data": {
      "text/html": [
       "<html>\\(\\displaystyle 1\\)</html>"
      ],
      "text/latex": [
       "$\\displaystyle 1$"
      ],
      "text/plain": [
       "1"
      ]
     },
     "metadata": {},
     "output_type": "display_data"
    },
    {
     "data": {
      "text/html": [
       "<html>\\(\\displaystyle 1\\)</html>"
      ],
      "text/latex": [
       "$\\displaystyle 1$"
      ],
      "text/plain": [
       "1"
      ]
     },
     "metadata": {},
     "output_type": "display_data"
    }
   ],
   "source": [
    "for e in res:\n",
    "    e = Integers(35)(e)\n",
    "    show(e^(euler_phi(35)))\n",
    "    \n",
    "### Toujours égal à 1"
   ]
  },
  {
   "cell_type": "markdown",
   "metadata": {
    "deletable": false,
    "editable": false,
    "run_control": {
     "frozen": true
    }
   },
   "source": [
    "On remarque que pour tout $z$ dans le groupe multiplicatif $G$ modulo $N$, $z^{\\varphi(n)} = 1$. On définit l'*ordre* d'un entier $z\\in G$, noté $\\operatorname{ord}(z)$, comme étant le plus petit entier $k>0$ tel que $z^k=1 \\bmod N$. On a donc $\\operatorname{ord}(z)\\le\\varphi(N)$.\n",
    "\n",
    "### Question\n",
    "- En utilisant directement la structure `Integers(N)` pour faire les calculs modulo $N$, écrire une fonction `ord_mul_modN(x, N)` qui calcule l'ordre de $x$ *modulo* $N$, quand $x$ est inversible *modulo* $N$.\n",
    "- Donner la liste des couples $(x,\\operatorname{ord}(x))$ pour tous les entiers $x$ qui sont inversibles pour la multiplication *modulo* $N$, pour $N=5,15,17$.\n",
    "\n",
    "*Vérifier que vos résultats sont corrects en utilisant la fonction `pow(x,k,N)` qui calcule $x^k \\bmod N$.*"
   ]
  },
  {
   "cell_type": "code",
   "execution_count": 55,
   "metadata": {},
   "outputs": [],
   "source": [
    "def ord_mul_modN(x,N):\n",
    "    ZN = Integers(N)\n",
    "    x = ZN(x)\n",
    "    if(x not in liste_inv_mul(N)):\n",
    "        return None\n",
    "    for k in range(1,euler_phi(N)+1):\n",
    "        if (x^k == 1):\n",
    "            return k"
   ]
  },
  {
   "cell_type": "code",
   "execution_count": 56,
   "metadata": {},
   "outputs": [
    {
     "data": {
      "text/html": [
       "<html>\\(\\displaystyle \\left(1, 1\\right)\\)</html>"
      ],
      "text/latex": [
       "$\\displaystyle \\left(1, 1\\right)$"
      ],
      "text/plain": [
       "(1, 1)"
      ]
     },
     "metadata": {},
     "output_type": "display_data"
    },
    {
     "data": {
      "text/html": [
       "<html>\\(\\displaystyle 1\\)</html>"
      ],
      "text/latex": [
       "$\\displaystyle 1$"
      ],
      "text/plain": [
       "1"
      ]
     },
     "metadata": {},
     "output_type": "display_data"
    },
    {
     "data": {
      "text/html": [
       "<html>\\(\\displaystyle \\left(2, 8\\right)\\)</html>"
      ],
      "text/latex": [
       "$\\displaystyle \\left(2, 8\\right)$"
      ],
      "text/plain": [
       "(2, 8)"
      ]
     },
     "metadata": {},
     "output_type": "display_data"
    },
    {
     "data": {
      "text/html": [
       "<html>\\(\\displaystyle 1\\)</html>"
      ],
      "text/latex": [
       "$\\displaystyle 1$"
      ],
      "text/plain": [
       "1"
      ]
     },
     "metadata": {},
     "output_type": "display_data"
    },
    {
     "data": {
      "text/html": [
       "<html>\\(\\displaystyle \\left(3, 16\\right)\\)</html>"
      ],
      "text/latex": [
       "$\\displaystyle \\left(3, 16\\right)$"
      ],
      "text/plain": [
       "(3, 16)"
      ]
     },
     "metadata": {},
     "output_type": "display_data"
    },
    {
     "data": {
      "text/html": [
       "<html>\\(\\displaystyle 1\\)</html>"
      ],
      "text/latex": [
       "$\\displaystyle 1$"
      ],
      "text/plain": [
       "1"
      ]
     },
     "metadata": {},
     "output_type": "display_data"
    },
    {
     "data": {
      "text/html": [
       "<html>\\(\\displaystyle \\left(4, 4\\right)\\)</html>"
      ],
      "text/latex": [
       "$\\displaystyle \\left(4, 4\\right)$"
      ],
      "text/plain": [
       "(4, 4)"
      ]
     },
     "metadata": {},
     "output_type": "display_data"
    },
    {
     "data": {
      "text/html": [
       "<html>\\(\\displaystyle 1\\)</html>"
      ],
      "text/latex": [
       "$\\displaystyle 1$"
      ],
      "text/plain": [
       "1"
      ]
     },
     "metadata": {},
     "output_type": "display_data"
    },
    {
     "data": {
      "text/html": [
       "<html>\\(\\displaystyle \\left(5, 16\\right)\\)</html>"
      ],
      "text/latex": [
       "$\\displaystyle \\left(5, 16\\right)$"
      ],
      "text/plain": [
       "(5, 16)"
      ]
     },
     "metadata": {},
     "output_type": "display_data"
    },
    {
     "data": {
      "text/html": [
       "<html>\\(\\displaystyle 1\\)</html>"
      ],
      "text/latex": [
       "$\\displaystyle 1$"
      ],
      "text/plain": [
       "1"
      ]
     },
     "metadata": {},
     "output_type": "display_data"
    },
    {
     "data": {
      "text/html": [
       "<html>\\(\\displaystyle \\left(6, 16\\right)\\)</html>"
      ],
      "text/latex": [
       "$\\displaystyle \\left(6, 16\\right)$"
      ],
      "text/plain": [
       "(6, 16)"
      ]
     },
     "metadata": {},
     "output_type": "display_data"
    },
    {
     "data": {
      "text/html": [
       "<html>\\(\\displaystyle 1\\)</html>"
      ],
      "text/latex": [
       "$\\displaystyle 1$"
      ],
      "text/plain": [
       "1"
      ]
     },
     "metadata": {},
     "output_type": "display_data"
    },
    {
     "data": {
      "text/html": [
       "<html>\\(\\displaystyle \\left(7, 16\\right)\\)</html>"
      ],
      "text/latex": [
       "$\\displaystyle \\left(7, 16\\right)$"
      ],
      "text/plain": [
       "(7, 16)"
      ]
     },
     "metadata": {},
     "output_type": "display_data"
    },
    {
     "data": {
      "text/html": [
       "<html>\\(\\displaystyle 1\\)</html>"
      ],
      "text/latex": [
       "$\\displaystyle 1$"
      ],
      "text/plain": [
       "1"
      ]
     },
     "metadata": {},
     "output_type": "display_data"
    },
    {
     "data": {
      "text/html": [
       "<html>\\(\\displaystyle \\left(8, 8\\right)\\)</html>"
      ],
      "text/latex": [
       "$\\displaystyle \\left(8, 8\\right)$"
      ],
      "text/plain": [
       "(8, 8)"
      ]
     },
     "metadata": {},
     "output_type": "display_data"
    },
    {
     "data": {
      "text/html": [
       "<html>\\(\\displaystyle 1\\)</html>"
      ],
      "text/latex": [
       "$\\displaystyle 1$"
      ],
      "text/plain": [
       "1"
      ]
     },
     "metadata": {},
     "output_type": "display_data"
    },
    {
     "data": {
      "text/html": [
       "<html>\\(\\displaystyle \\left(9, 8\\right)\\)</html>"
      ],
      "text/latex": [
       "$\\displaystyle \\left(9, 8\\right)$"
      ],
      "text/plain": [
       "(9, 8)"
      ]
     },
     "metadata": {},
     "output_type": "display_data"
    },
    {
     "data": {
      "text/html": [
       "<html>\\(\\displaystyle 1\\)</html>"
      ],
      "text/latex": [
       "$\\displaystyle 1$"
      ],
      "text/plain": [
       "1"
      ]
     },
     "metadata": {},
     "output_type": "display_data"
    },
    {
     "data": {
      "text/html": [
       "<html>\\(\\displaystyle \\left(10, 16\\right)\\)</html>"
      ],
      "text/latex": [
       "$\\displaystyle \\left(10, 16\\right)$"
      ],
      "text/plain": [
       "(10, 16)"
      ]
     },
     "metadata": {},
     "output_type": "display_data"
    },
    {
     "data": {
      "text/html": [
       "<html>\\(\\displaystyle 1\\)</html>"
      ],
      "text/latex": [
       "$\\displaystyle 1$"
      ],
      "text/plain": [
       "1"
      ]
     },
     "metadata": {},
     "output_type": "display_data"
    },
    {
     "data": {
      "text/html": [
       "<html>\\(\\displaystyle \\left(11, 16\\right)\\)</html>"
      ],
      "text/latex": [
       "$\\displaystyle \\left(11, 16\\right)$"
      ],
      "text/plain": [
       "(11, 16)"
      ]
     },
     "metadata": {},
     "output_type": "display_data"
    },
    {
     "data": {
      "text/html": [
       "<html>\\(\\displaystyle 1\\)</html>"
      ],
      "text/latex": [
       "$\\displaystyle 1$"
      ],
      "text/plain": [
       "1"
      ]
     },
     "metadata": {},
     "output_type": "display_data"
    },
    {
     "data": {
      "text/html": [
       "<html>\\(\\displaystyle \\left(12, 16\\right)\\)</html>"
      ],
      "text/latex": [
       "$\\displaystyle \\left(12, 16\\right)$"
      ],
      "text/plain": [
       "(12, 16)"
      ]
     },
     "metadata": {},
     "output_type": "display_data"
    },
    {
     "data": {
      "text/html": [
       "<html>\\(\\displaystyle 1\\)</html>"
      ],
      "text/latex": [
       "$\\displaystyle 1$"
      ],
      "text/plain": [
       "1"
      ]
     },
     "metadata": {},
     "output_type": "display_data"
    },
    {
     "data": {
      "text/html": [
       "<html>\\(\\displaystyle \\left(13, 4\\right)\\)</html>"
      ],
      "text/latex": [
       "$\\displaystyle \\left(13, 4\\right)$"
      ],
      "text/plain": [
       "(13, 4)"
      ]
     },
     "metadata": {},
     "output_type": "display_data"
    },
    {
     "data": {
      "text/html": [
       "<html>\\(\\displaystyle 1\\)</html>"
      ],
      "text/latex": [
       "$\\displaystyle 1$"
      ],
      "text/plain": [
       "1"
      ]
     },
     "metadata": {},
     "output_type": "display_data"
    },
    {
     "data": {
      "text/html": [
       "<html>\\(\\displaystyle \\left(14, 16\\right)\\)</html>"
      ],
      "text/latex": [
       "$\\displaystyle \\left(14, 16\\right)$"
      ],
      "text/plain": [
       "(14, 16)"
      ]
     },
     "metadata": {},
     "output_type": "display_data"
    },
    {
     "data": {
      "text/html": [
       "<html>\\(\\displaystyle 1\\)</html>"
      ],
      "text/latex": [
       "$\\displaystyle 1$"
      ],
      "text/plain": [
       "1"
      ]
     },
     "metadata": {},
     "output_type": "display_data"
    },
    {
     "data": {
      "text/html": [
       "<html>\\(\\displaystyle \\left(15, 8\\right)\\)</html>"
      ],
      "text/latex": [
       "$\\displaystyle \\left(15, 8\\right)$"
      ],
      "text/plain": [
       "(15, 8)"
      ]
     },
     "metadata": {},
     "output_type": "display_data"
    },
    {
     "data": {
      "text/html": [
       "<html>\\(\\displaystyle 1\\)</html>"
      ],
      "text/latex": [
       "$\\displaystyle 1$"
      ],
      "text/plain": [
       "1"
      ]
     },
     "metadata": {},
     "output_type": "display_data"
    },
    {
     "data": {
      "text/html": [
       "<html>\\(\\displaystyle \\left(16, 2\\right)\\)</html>"
      ],
      "text/latex": [
       "$\\displaystyle \\left(16, 2\\right)$"
      ],
      "text/plain": [
       "(16, 2)"
      ]
     },
     "metadata": {},
     "output_type": "display_data"
    },
    {
     "data": {
      "text/html": [
       "<html>\\(\\displaystyle 1\\)</html>"
      ],
      "text/latex": [
       "$\\displaystyle 1$"
      ],
      "text/plain": [
       "1"
      ]
     },
     "metadata": {},
     "output_type": "display_data"
    }
   ],
   "source": [
    "N = 17\n",
    "for i in range(N):\n",
    "    ordre = ord_mul_modN(i,N)\n",
    "    if(ordre != None):\n",
    "        show((i,ordre))\n",
    "        show(pow(i,ordre,N))"
   ]
  },
  {
   "cell_type": "markdown",
   "metadata": {
    "deletable": false,
    "editable": false,
    "run_control": {
     "frozen": true
    }
   },
   "source": [
    "### Question\n",
    "Définir une fonction `liste_ord_mul` qui étant donné un entier N renvoie la liste des ordres possibles de tous les éléments inversibles pour la multiplication modulo $N$. <!--Vous pourrez utilisez la méthode **multiplicative_order()** qui pour un élement x de Integer(N) donne l'ordre mutliplicatif de x modulo N.-->\n",
    "*Tester pour tous les entiers $N$ entre $2$ et $40$.*"
   ]
  },
  {
   "cell_type": "code",
   "execution_count": 57,
   "metadata": {},
   "outputs": [],
   "source": [
    "def liste_inv_mul_gcd(N):\n",
    "    res = list()\n",
    "    for i in range(N):\n",
    "        if (gcd(i,N) == 1):\n",
    "            res.append(i)\n",
    "    return res"
   ]
  },
  {
   "cell_type": "code",
   "execution_count": 58,
   "metadata": {},
   "outputs": [],
   "source": [
    "def liste_ord_mul(N):\n",
    "    res = list()\n",
    "    for i in liste_inv_mul_gcd(N):\n",
    "        ordre = ord_mul_modN(i,N)\n",
    "        if (ordre not in res and ordre != None):\n",
    "            res.append(ordre)\n",
    "    return res"
   ]
  },
  {
   "cell_type": "code",
   "execution_count": 59,
   "metadata": {},
   "outputs": [
    {
     "data": {
      "text/html": [
       "<html>\\(\\displaystyle \\left[1\\right]\\)</html>"
      ],
      "text/latex": [
       "$\\displaystyle \\left[1\\right]$"
      ],
      "text/plain": [
       "[1]"
      ]
     },
     "metadata": {},
     "output_type": "display_data"
    },
    {
     "data": {
      "text/html": [
       "<html>\\(\\displaystyle \\left[1, 2\\right]\\)</html>"
      ],
      "text/latex": [
       "$\\displaystyle \\left[1, 2\\right]$"
      ],
      "text/plain": [
       "[1, 2]"
      ]
     },
     "metadata": {},
     "output_type": "display_data"
    },
    {
     "data": {
      "text/html": [
       "<html>\\(\\displaystyle \\left[1, 2\\right]\\)</html>"
      ],
      "text/latex": [
       "$\\displaystyle \\left[1, 2\\right]$"
      ],
      "text/plain": [
       "[1, 2]"
      ]
     },
     "metadata": {},
     "output_type": "display_data"
    },
    {
     "data": {
      "text/html": [
       "<html>\\(\\displaystyle \\left[1, 4, 2\\right]\\)</html>"
      ],
      "text/latex": [
       "$\\displaystyle \\left[1, 4, 2\\right]$"
      ],
      "text/plain": [
       "[1, 4, 2]"
      ]
     },
     "metadata": {},
     "output_type": "display_data"
    },
    {
     "data": {
      "text/html": [
       "<html>\\(\\displaystyle \\left[1, 2\\right]\\)</html>"
      ],
      "text/latex": [
       "$\\displaystyle \\left[1, 2\\right]$"
      ],
      "text/plain": [
       "[1, 2]"
      ]
     },
     "metadata": {},
     "output_type": "display_data"
    },
    {
     "data": {
      "text/html": [
       "<html>\\(\\displaystyle \\left[1, 3, 6, 2\\right]\\)</html>"
      ],
      "text/latex": [
       "$\\displaystyle \\left[1, 3, 6, 2\\right]$"
      ],
      "text/plain": [
       "[1, 3, 6, 2]"
      ]
     },
     "metadata": {},
     "output_type": "display_data"
    },
    {
     "data": {
      "text/html": [
       "<html>\\(\\displaystyle \\left[1, 2\\right]\\)</html>"
      ],
      "text/latex": [
       "$\\displaystyle \\left[1, 2\\right]$"
      ],
      "text/plain": [
       "[1, 2]"
      ]
     },
     "metadata": {},
     "output_type": "display_data"
    },
    {
     "data": {
      "text/html": [
       "<html>\\(\\displaystyle \\left[1, 6, 3, 2\\right]\\)</html>"
      ],
      "text/latex": [
       "$\\displaystyle \\left[1, 6, 3, 2\\right]$"
      ],
      "text/plain": [
       "[1, 6, 3, 2]"
      ]
     },
     "metadata": {},
     "output_type": "display_data"
    },
    {
     "data": {
      "text/html": [
       "<html>\\(\\displaystyle \\left[1, 4, 2\\right]\\)</html>"
      ],
      "text/latex": [
       "$\\displaystyle \\left[1, 4, 2\\right]$"
      ],
      "text/plain": [
       "[1, 4, 2]"
      ]
     },
     "metadata": {},
     "output_type": "display_data"
    },
    {
     "data": {
      "text/html": [
       "<html>\\(\\displaystyle \\left[1, 10, 5, 2\\right]\\)</html>"
      ],
      "text/latex": [
       "$\\displaystyle \\left[1, 10, 5, 2\\right]$"
      ],
      "text/plain": [
       "[1, 10, 5, 2]"
      ]
     },
     "metadata": {},
     "output_type": "display_data"
    },
    {
     "data": {
      "text/html": [
       "<html>\\(\\displaystyle \\left[1, 2\\right]\\)</html>"
      ],
      "text/latex": [
       "$\\displaystyle \\left[1, 2\\right]$"
      ],
      "text/plain": [
       "[1, 2]"
      ]
     },
     "metadata": {},
     "output_type": "display_data"
    },
    {
     "data": {
      "text/html": [
       "<html>\\(\\displaystyle \\left[1, 12, 3, 6, 4, 2\\right]\\)</html>"
      ],
      "text/latex": [
       "$\\displaystyle \\left[1, 12, 3, 6, 4, 2\\right]$"
      ],
      "text/plain": [
       "[1, 12, 3, 6, 4, 2]"
      ]
     },
     "metadata": {},
     "output_type": "display_data"
    },
    {
     "data": {
      "text/html": [
       "<html>\\(\\displaystyle \\left[1, 6, 3, 2\\right]\\)</html>"
      ],
      "text/latex": [
       "$\\displaystyle \\left[1, 6, 3, 2\\right]$"
      ],
      "text/plain": [
       "[1, 6, 3, 2]"
      ]
     },
     "metadata": {},
     "output_type": "display_data"
    },
    {
     "data": {
      "text/html": [
       "<html>\\(\\displaystyle \\left[1, 4, 2\\right]\\)</html>"
      ],
      "text/latex": [
       "$\\displaystyle \\left[1, 4, 2\\right]$"
      ],
      "text/plain": [
       "[1, 4, 2]"
      ]
     },
     "metadata": {},
     "output_type": "display_data"
    },
    {
     "data": {
      "text/html": [
       "<html>\\(\\displaystyle \\left[1, 4, 2\\right]\\)</html>"
      ],
      "text/latex": [
       "$\\displaystyle \\left[1, 4, 2\\right]$"
      ],
      "text/plain": [
       "[1, 4, 2]"
      ]
     },
     "metadata": {},
     "output_type": "display_data"
    },
    {
     "data": {
      "text/html": [
       "<html>\\(\\displaystyle \\left[1, 8, 16, 4, 2\\right]\\)</html>"
      ],
      "text/latex": [
       "$\\displaystyle \\left[1, 8, 16, 4, 2\\right]$"
      ],
      "text/plain": [
       "[1, 8, 16, 4, 2]"
      ]
     },
     "metadata": {},
     "output_type": "display_data"
    },
    {
     "data": {
      "text/html": [
       "<html>\\(\\displaystyle \\left[1, 6, 3, 2\\right]\\)</html>"
      ],
      "text/latex": [
       "$\\displaystyle \\left[1, 6, 3, 2\\right]$"
      ],
      "text/plain": [
       "[1, 6, 3, 2]"
      ]
     },
     "metadata": {},
     "output_type": "display_data"
    },
    {
     "data": {
      "text/html": [
       "<html>\\(\\displaystyle \\left[1, 18, 9, 3, 6, 2\\right]\\)</html>"
      ],
      "text/latex": [
       "$\\displaystyle \\left[1, 18, 9, 3, 6, 2\\right]$"
      ],
      "text/plain": [
       "[1, 18, 9, 3, 6, 2]"
      ]
     },
     "metadata": {},
     "output_type": "display_data"
    },
    {
     "data": {
      "text/html": [
       "<html>\\(\\displaystyle \\left[1, 4, 2\\right]\\)</html>"
      ],
      "text/latex": [
       "$\\displaystyle \\left[1, 4, 2\\right]$"
      ],
      "text/plain": [
       "[1, 4, 2]"
      ]
     },
     "metadata": {},
     "output_type": "display_data"
    },
    {
     "data": {
      "text/html": [
       "<html>\\(\\displaystyle \\left[1, 6, 3, 2\\right]\\)</html>"
      ],
      "text/latex": [
       "$\\displaystyle \\left[1, 6, 3, 2\\right]$"
      ],
      "text/plain": [
       "[1, 6, 3, 2]"
      ]
     },
     "metadata": {},
     "output_type": "display_data"
    },
    {
     "data": {
      "text/html": [
       "<html>\\(\\displaystyle \\left[1, 5, 10, 2\\right]\\)</html>"
      ],
      "text/latex": [
       "$\\displaystyle \\left[1, 5, 10, 2\\right]$"
      ],
      "text/plain": [
       "[1, 5, 10, 2]"
      ]
     },
     "metadata": {},
     "output_type": "display_data"
    },
    {
     "data": {
      "text/html": [
       "<html>\\(\\displaystyle \\left[1, 11, 22, 2\\right]\\)</html>"
      ],
      "text/latex": [
       "$\\displaystyle \\left[1, 11, 22, 2\\right]$"
      ],
      "text/plain": [
       "[1, 11, 22, 2]"
      ]
     },
     "metadata": {},
     "output_type": "display_data"
    },
    {
     "data": {
      "text/html": [
       "<html>\\(\\displaystyle \\left[1, 2\\right]\\)</html>"
      ],
      "text/latex": [
       "$\\displaystyle \\left[1, 2\\right]$"
      ],
      "text/plain": [
       "[1, 2]"
      ]
     },
     "metadata": {},
     "output_type": "display_data"
    },
    {
     "data": {
      "text/html": [
       "<html>\\(\\displaystyle \\left[1, 20, 10, 5, 4, 2\\right]\\)</html>"
      ],
      "text/latex": [
       "$\\displaystyle \\left[1, 20, 10, 5, 4, 2\\right]$"
      ],
      "text/plain": [
       "[1, 20, 10, 5, 4, 2]"
      ]
     },
     "metadata": {},
     "output_type": "display_data"
    },
    {
     "data": {
      "text/html": [
       "<html>\\(\\displaystyle \\left[1, 3, 4, 12, 6, 2\\right]\\)</html>"
      ],
      "text/latex": [
       "$\\displaystyle \\left[1, 3, 4, 12, 6, 2\\right]$"
      ],
      "text/plain": [
       "[1, 3, 4, 12, 6, 2]"
      ]
     },
     "metadata": {},
     "output_type": "display_data"
    },
    {
     "data": {
      "text/html": [
       "<html>\\(\\displaystyle \\left[1, 18, 9, 6, 3, 2\\right]\\)</html>"
      ],
      "text/latex": [
       "$\\displaystyle \\left[1, 18, 9, 6, 3, 2\\right]$"
      ],
      "text/plain": [
       "[1, 18, 9, 6, 3, 2]"
      ]
     },
     "metadata": {},
     "output_type": "display_data"
    },
    {
     "data": {
      "text/html": [
       "<html>\\(\\displaystyle \\left[1, 6, 3, 2\\right]\\)</html>"
      ],
      "text/latex": [
       "$\\displaystyle \\left[1, 6, 3, 2\\right]$"
      ],
      "text/plain": [
       "[1, 6, 3, 2]"
      ]
     },
     "metadata": {},
     "output_type": "display_data"
    },
    {
     "data": {
      "text/html": [
       "<html>\\(\\displaystyle \\left[1, 28, 14, 7, 4, 2\\right]\\)</html>"
      ],
      "text/latex": [
       "$\\displaystyle \\left[1, 28, 14, 7, 4, 2\\right]$"
      ],
      "text/plain": [
       "[1, 28, 14, 7, 4, 2]"
      ]
     },
     "metadata": {},
     "output_type": "display_data"
    },
    {
     "data": {
      "text/html": [
       "<html>\\(\\displaystyle \\left[1, 4, 2\\right]\\)</html>"
      ],
      "text/latex": [
       "$\\displaystyle \\left[1, 4, 2\\right]$"
      ],
      "text/plain": [
       "[1, 4, 2]"
      ]
     },
     "metadata": {},
     "output_type": "display_data"
    },
    {
     "data": {
      "text/html": [
       "<html>\\(\\displaystyle \\left[1, 5, 30, 3, 6, 15, 10, 2\\right]\\)</html>"
      ],
      "text/latex": [
       "$\\displaystyle \\left[1, 5, 30, 3, 6, 15, 10, 2\\right]$"
      ],
      "text/plain": [
       "[1, 5, 30, 3, 6, 15, 10, 2]"
      ]
     },
     "metadata": {},
     "output_type": "display_data"
    },
    {
     "data": {
      "text/html": [
       "<html>\\(\\displaystyle \\left[1, 8, 4, 2\\right]\\)</html>"
      ],
      "text/latex": [
       "$\\displaystyle \\left[1, 8, 4, 2\\right]$"
      ],
      "text/plain": [
       "[1, 8, 4, 2]"
      ]
     },
     "metadata": {},
     "output_type": "display_data"
    },
    {
     "data": {
      "text/html": [
       "<html>\\(\\displaystyle \\left[1, 10, 5, 2\\right]\\)</html>"
      ],
      "text/latex": [
       "$\\displaystyle \\left[1, 10, 5, 2\\right]$"
      ],
      "text/plain": [
       "[1, 10, 5, 2]"
      ]
     },
     "metadata": {},
     "output_type": "display_data"
    },
    {
     "data": {
      "text/html": [
       "<html>\\(\\displaystyle \\left[1, 16, 8, 4, 2\\right]\\)</html>"
      ],
      "text/latex": [
       "$\\displaystyle \\left[1, 16, 8, 4, 2\\right]$"
      ],
      "text/plain": [
       "[1, 16, 8, 4, 2]"
      ]
     },
     "metadata": {},
     "output_type": "display_data"
    },
    {
     "data": {
      "text/html": [
       "<html>\\(\\displaystyle \\left[1, 12, 6, 2, 4, 3\\right]\\)</html>"
      ],
      "text/latex": [
       "$\\displaystyle \\left[1, 12, 6, 2, 4, 3\\right]$"
      ],
      "text/plain": [
       "[1, 12, 6, 2, 4, 3]"
      ]
     },
     "metadata": {},
     "output_type": "display_data"
    },
    {
     "data": {
      "text/html": [
       "<html>\\(\\displaystyle \\left[1, 6, 3, 2\\right]\\)</html>"
      ],
      "text/latex": [
       "$\\displaystyle \\left[1, 6, 3, 2\\right]$"
      ],
      "text/plain": [
       "[1, 6, 3, 2]"
      ]
     },
     "metadata": {},
     "output_type": "display_data"
    },
    {
     "data": {
      "text/html": [
       "<html>\\(\\displaystyle \\left[1, 36, 18, 4, 9, 12, 3, 6, 2\\right]\\)</html>"
      ],
      "text/latex": [
       "$\\displaystyle \\left[1, 36, 18, 4, 9, 12, 3, 6, 2\\right]$"
      ],
      "text/plain": [
       "[1, 36, 18, 4, 9, 12, 3, 6, 2]"
      ]
     },
     "metadata": {},
     "output_type": "display_data"
    },
    {
     "data": {
      "text/html": [
       "<html>\\(\\displaystyle \\left[1, 18, 9, 3, 6, 2\\right]\\)</html>"
      ],
      "text/latex": [
       "$\\displaystyle \\left[1, 18, 9, 3, 6, 2\\right]$"
      ],
      "text/plain": [
       "[1, 18, 9, 3, 6, 2]"
      ]
     },
     "metadata": {},
     "output_type": "display_data"
    },
    {
     "data": {
      "text/html": [
       "<html>\\(\\displaystyle \\left[1, 12, 6, 4, 2, 3\\right]\\)</html>"
      ],
      "text/latex": [
       "$\\displaystyle \\left[1, 12, 6, 4, 2, 3\\right]$"
      ],
      "text/plain": [
       "[1, 12, 6, 4, 2, 3]"
      ]
     },
     "metadata": {},
     "output_type": "display_data"
    }
   ],
   "source": [
    "for i in range(2,40):\n",
    "    show(liste_ord_mul(i))"
   ]
  },
  {
   "cell_type": "markdown",
   "metadata": {
    "deletable": false,
    "editable": false,
    "run_control": {
     "frozen": true
    }
   },
   "source": [
    "### Question\n",
    "Vérifier que pour tous les nombres premiers $< 40$, les ordres des éléments inversibles pour la multiplication modulo $N$ divisent tous $N-1$. *Vous pourrez utiliser la fonction Sage `prime_range(N)` qui donne la liste des premiers inférieur à N.*"
   ]
  },
  {
   "cell_type": "code",
   "execution_count": 60,
   "metadata": {},
   "outputs": [
    {
     "data": {
      "text/html": [
       "<html>\\(\\displaystyle \\mathrm{True}\\)</html>"
      ],
      "text/latex": [
       "$\\displaystyle \\mathrm{True}$"
      ],
      "text/plain": [
       "True"
      ]
     },
     "metadata": {},
     "output_type": "display_data"
    }
   ],
   "source": [
    "res = list()\n",
    "for N in prime_range(40):\n",
    "    for e in liste_ord_mul(N):\n",
    "        res.append((N-1) % e == 0)\n",
    "show(all(res))"
   ]
  },
  {
   "cell_type": "markdown",
   "metadata": {
    "deletable": false,
    "editable": false,
    "run_control": {
     "frozen": true
    }
   },
   "source": [
    "### Question\n",
    "De manière similaire, montrer (pour $p,q<40$) que si $N=p\\times q$ avec $p$ et $q$ des nombres premiers différent alors les ordres des éléments inversibles pour la multiplication modulo $N$ divisent tous $(p-1)\\times(q-1)$. "
   ]
  },
  {
   "cell_type": "code",
   "execution_count": 61,
   "metadata": {
    "scrolled": true
   },
   "outputs": [],
   "source": [
    "def test():\n",
    "    for p in Primes()[0:11]: ### Car le 11ème nb premier est 37 < 40, mais avec 11 c'est trop long\n",
    "        for q in Primes()[0:11]:\n",
    "            if(p != q):\n",
    "                N = p * q\n",
    "                liste_ordres = liste_ord_mul(N)\n",
    "                for o in liste_ordres:\n",
    "                    O = Integers(o)\n",
    "                    pm1qm1 = O((p-1) * (q-1))\n",
    "                    if ((pm1qm1 != 0)):\n",
    "                        return False\n",
    "    return True"
   ]
  },
  {
   "cell_type": "code",
   "execution_count": null,
   "metadata": {},
   "outputs": [],
   "source": [
    "show(test())"
   ]
  },
  {
   "cell_type": "markdown",
   "metadata": {
    "deletable": false,
    "editable": false,
    "run_control": {
     "frozen": true
    }
   },
   "source": [
    "### Question\n",
    "En réalité, la propriété observée est vraie pour tout $N$ : les ordres des éléments inversibles pour la multiplication *modulo* $N$ divisent tous $\\varphi(N)$. Vérifier la propriété pour pour tout $N \\le 40$."
   ]
  },
  {
   "cell_type": "code",
   "execution_count": null,
   "metadata": {},
   "outputs": [],
   "source": [
    "def testDivPhi(N):\n",
    "    for e in liste_ord_mul(N):\n",
    "        E = Integers(e)\n",
    "        phi = E(euler_phi(N))\n",
    "        if (phi != 0):\n",
    "            return False\n",
    "    return True"
   ]
  },
  {
   "cell_type": "code",
   "execution_count": null,
   "metadata": {},
   "outputs": [],
   "source": [
    "res = list()\n",
    "for i in range(1,41):\n",
    "    res.append(testDivPhi(i))\n",
    "show(all(res))"
   ]
  },
  {
   "cell_type": "markdown",
   "metadata": {
    "deletable": false,
    "editable": false,
    "run_control": {
     "frozen": true
    }
   },
   "source": [
    "## Cryptosystème RSA"
   ]
  },
  {
   "cell_type": "markdown",
   "metadata": {
    "deletable": false,
    "editable": false,
    "run_control": {
     "frozen": true
    }
   },
   "source": [
    "Le système de chiffrement RSA est l'un des systèmes cryptographique les plus utilisées dans votre vie de tous les jours (par exemple il est utilisé quand vous payez en carte bleue). Ce protocole s'appuie sur des calculs avec des entiers modulo $N$ et il s'appuie sur la structure de sous-groupe multiplicatif que nous avons entre-apercu.\n",
    "\n",
    "L'idée est de prendre un entier $N=p \\times q$ ou $p$ et $q$ sont deux nombres premiers.\n",
    "Comme vous avez vu que l'ordre des éléments inversibles pour la multiplication modulo $N$ est toujours divisible par $(p-1)\\times (q-1)$ on a la propriété suivante:\n",
    "\n",
    "$\\forall x \\in \\{1,\\dots,N-1\\}$ tel que $pgcd(x,N)=1$ alors $x^{(p-1)\\times (q-1)} \\bmod N= 1$\n",
    "\n",
    "### Question\n",
    "Vérifier cette propriété pour $N=55$. *Vérifier également que la propriété est fausse si on ne suppose pas $\\operatorname{pgcd}(x,N)=1$.*"
   ]
  },
  {
   "cell_type": "code",
   "execution_count": null,
   "metadata": {},
   "outputs": [],
   "source": [
    "liste = liste_inv_mul_gcd(55)\n",
    "N = Integers(55)\n",
    "for e in liste:\n",
    "    e = N(e)\n",
    "    show(e^((5-1)*(11-1)))"
   ]
  },
  {
   "cell_type": "markdown",
   "metadata": {
    "deletable": false,
    "editable": false,
    "run_control": {
     "frozen": true
    }
   },
   "source": [
    "L'idée du chiffrement RSA est d'utiliser le calcul des entiers modulo $N$ avec un entier $N=p \\times q$ où $p,q$ sont premiers. On définit une paire de clé $(e,d)$ avec $e,d$ deux entiers non-nuls plus petit que $N$, et on dit que la paire $(N,e)$ est la clé publique et que la paire $(N,d)$ est la clé secrète. \n",
    "\n",
    "Lorsque quelqu'un veut envoyer un message $m$ chiffré à Alice, il lui suffit d'utiliser la clé publique $(N,e)$ d'Alice (qui est connue de tous). Par simplicité, on considèrera que le message $m$ est un entier dans $\\{1,\\dots,N-1)$ tel que $pgcd(m,N)=1$. Le chiffrement de $m$ par la clé publique d'Alice consiste à calculer $C_m = m^e \\bmod N$.\n",
    "\n",
    "Pour déchiffrer le message, il faut soit:\n",
    "- calculer $m$ ou $d$ en fonction de $C_m,e$ et $N$, ce qui est en fait un problème difficile (complexité sous-exponentielle)\n",
    "- soit connaitre la clé privé $(N,d)$ que seul Alice connait. En effet, pour Alice il suffit de calculer\n",
    "$m = C_m^d \\bmod N$ (complexité quasi-linéaire)\n",
    "\n",
    "\n",
    "### Question\n",
    "\n",
    "Soit $N=5\\times 11$, $m=31$, $e=3$ et $d=42$, montrer que le déchiffrement de RSA avec la clé privée $d$ fonctionne bien."
   ]
  },
  {
   "cell_type": "code",
   "execution_count": null,
   "metadata": {},
   "outputs": [],
   "source": [
    "N = 55\n",
    "ZN = Integers(N)\n",
    "(e,d) = (3,42)\n",
    "m = 31\n",
    "cle_publique = (N,e)\n",
    "cle_privee = (N,d)\n",
    "Cm = ZN(m^e)\n",
    "message_chiffre = Cm\n",
    "message_dechiffre = ZN(Cm^d)\n",
    "show(message_chiffre)\n",
    "show(message_dechiffre)\n",
    "### On a bien message_dechiffre == m donc cela fonctionne bien"
   ]
  },
  {
   "cell_type": "markdown",
   "metadata": {
    "deletable": false,
    "editable": false,
    "run_control": {
     "frozen": true
    }
   },
   "source": [
    "Toute la magie de ce protocole de cryptage réside dans le calcul de la paire d'entiers $(e,d)$. En effet, $e$ doit être choisi de telle sorte que $pgcd(e,(p-1)\\times(q-1))=1$. Cette condition implique que $e$ est inversible modulo $(p-1)\\times(q-1)$. Il suffit de poser $d=1/e \\bmod (p-1)\\times(q-1)$ pour faire marcher le protocole. \n",
    "\n",
    "En effet, par définition de $e$ et $d$ on a que $d*e = 1 \\bmod (p-1)\\times(q-1)$. Par conséquent, on a que $de= 1 + k \\times (p-1)\\times(q-1)$ avec $k$ un entiers.\n",
    "\n",
    "\n",
    "Maintenant, si on considère le sous-groupe $G$ des inversibles pour la multiplication modulo $N$, on a vu que pour tout élément $x\\in G$ l'ordre de $x$ divise $(p-1)\\times(q-1)$. Cela implique donc que $x^{(p-1)\\times(q-1)}=1 \\bmod N$.\n",
    "\n",
    "En reprenant le protocole RSA, on a que le déchiffrement calcule\n",
    "$C_m^e \\bmod N = {(m^d)}^e \\bmod N = m^{de} \\bmod N= m^{1 + k \\times (p-1)\\times(q-1)} \\bmod N = m \\times m^{k \\times (p-1)\\times(q-1)}= m \\times {(m^{(p-1)\\times(q-1)})}^k = m \\times 1^k \\bmod N=m$\n"
   ]
  },
  {
   "cell_type": "markdown",
   "metadata": {
    "deletable": false,
    "editable": false,
    "run_control": {
     "frozen": true
    }
   },
   "source": [
    "### Question\n",
    "En considérant $N=17*11=187$, $m=101$, calculer $10$ paires d'entier $(e,d)$ au hasard tel que le protocole RSA fonctionne. À chaque fois vous afficherez $e$ et $d$ ainsi que le message chiffré et son déchiffrement."
   ]
  },
  {
   "cell_type": "code",
   "execution_count": null,
   "metadata": {},
   "outputs": [],
   "source": [
    "N = 187\n",
    "MODPQ = Integers((p-1) * (q-1))\n",
    "MODN = Integers(N)\n",
    "p = 17\n",
    "q = 11\n",
    "m = 101\n",
    "for i in range(10):\n",
    "    e = choice(liste_inv_mul_gcd((p-1) * (q-1)))\n",
    "    d = MODPQ(1/e)\n",
    "    Cm = MODN(m^e)\n",
    "    Cmd = MODN(Cm^d)\n",
    "    show(\"e = \",e)\n",
    "    show(\"d = \",d)\n",
    "    show(\"Message chiffré = \",Cm)\n",
    "    show(\"Message déchiffré = \",Cmd)"
   ]
  }
 ],
 "metadata": {
  "celltoolbar": "Aucun(e)",
  "kernelspec": {
   "display_name": "SageMath 9.6",
   "language": "sage",
   "name": "sagemath-9.6"
  },
  "language_info": {
   "codemirror_mode": {
    "name": "ipython",
    "version": 3
   },
   "file_extension": ".py",
   "mimetype": "text/x-python",
   "name": "python",
   "nbconvert_exporter": "python",
   "pygments_lexer": "ipython3",
   "version": "3.10.3"
  },
  "toc": {
   "base_numbering": 1,
   "nav_menu": {},
   "number_sections": true,
   "sideBar": true,
   "skip_h1_title": true,
   "title_cell": "Table of Contents",
   "title_sidebar": "Contents",
   "toc_cell": false,
   "toc_position": {
    "height": "566.767px",
    "left": "0px",
    "right": "900px",
    "top": "110.233px",
    "width": "212px"
   },
   "toc_section_display": "block",
   "toc_window_display": true
  },
  "varInspector": {
   "cols": {
    "lenName": 16,
    "lenType": 16,
    "lenVar": 40
   },
   "kernels_config": {
    "python": {
     "delete_cmd_postfix": "",
     "delete_cmd_prefix": "del ",
     "library": "var_list.py",
     "varRefreshCmd": "print(var_dic_list())"
    },
    "r": {
     "delete_cmd_postfix": ") ",
     "delete_cmd_prefix": "rm(",
     "library": "var_list.r",
     "varRefreshCmd": "cat(var_dic_list()) "
    }
   },
   "types_to_exclude": [
    "module",
    "function",
    "builtin_function_or_method",
    "instance",
    "_Feature"
   ],
   "window_display": false
  }
 },
 "nbformat": 4,
 "nbformat_minor": 4
}
