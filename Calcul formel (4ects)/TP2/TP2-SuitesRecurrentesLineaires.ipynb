{
 "cells": [
  {
   "cell_type": "markdown",
   "metadata": {
    "deletable": false,
    "editable": false
   },
   "source": [
    "# Suites récurrentes linéaires à coefficients constants\n",
    "\n",
    "L'objectif de ce TP est de découvrir comment utiliser SageMath pour étudier des suites définies par récurrence. Un exemple parmi d'autres est la célèbre suite de Fibonacci. La complexité des algorithmes récursifs, définie par une équation de récurrence, est un autre exemple très fréquent. Savoir étudier ces suites est très utile en informatique.\n",
    "\n",
    "Le sujet présente des aspects numériques (calculer les termes), graphiques (représenter la suite), symboliques (trouver une formule), etc.\n",
    "\n",
    "On commence par l'étude des approches possibles pour la suite de Fibonacci, puis on généralise pour les suites récurrentes linéaires à coefficients constants, c'est-à-dire de suites $(u_n)_n$ définies par\n",
    "$$ u_{n+k} = a_0u_n + a_1u_{n+1} + \\dotsb + a_{k-1}u_{n-k+1}.$$\n",
    "\n",
    "L'objectif général de ce TP sera d'essayer de trouver des formules fonctionnelles pour ces suites récurrentes, c'est-à-dire qu'il existe une formule non-récursive pour exprimer un des termes de la suite."
   ]
  },
  {
   "cell_type": "markdown",
   "metadata": {
    "deletable": false,
    "editable": false
   },
   "source": [
    "## Étude numérique de la suite de Fibonacci\n",
    "On définit la suite de Fibonacci $(F_n)$ par $F_0 = 0$, $F_1 = 1$ et $F_{n+2} = F_{n+1} + F_n$."
   ]
  },
  {
   "cell_type": "markdown",
   "metadata": {
    "deletable": false,
    "editable": false,
    "run_control": {
     "frozen": true
    }
   },
   "source": [
    "### Question\n",
    "1. Écrire une fonction **récursive** `fibonacci` qui calcule le $n$-ème terme de la suite de Fibonacci directement grâce à la formule précédente.\n",
    "1. Calculer les dix premiers termes. \n",
    "1. Essayer de calculer le 100-ème terme : expliquer."
   ]
  },
  {
   "cell_type": "code",
   "execution_count": 2,
   "metadata": {},
   "outputs": [],
   "source": [
    "def fibonacci(n):\n",
    "    if n <= 1:\n",
    "        return n\n",
    "    else:\n",
    "        return fibonacci(n-1) + fibonacci(n-2)"
   ]
  },
  {
   "cell_type": "code",
   "execution_count": 3,
   "metadata": {},
   "outputs": [
    {
     "data": {
      "text/html": [
       "<html>\\(\\displaystyle \\verb|fibonnaci(| 0 \\verb|)|\\verb| |\\verb|=| 0\\)</html>"
      ],
      "text/latex": [
       "$\\displaystyle \\verb|fibonnaci(| 0 \\verb|)|\\verb| |\\verb|=| 0$"
      ],
      "text/plain": [
       "'fibonnaci(' 0 ') = ' 0"
      ]
     },
     "metadata": {},
     "output_type": "display_data"
    },
    {
     "data": {
      "text/html": [
       "<html>\\(\\displaystyle \\verb|fibonnaci(| 1 \\verb|)|\\verb| |\\verb|=| 1\\)</html>"
      ],
      "text/latex": [
       "$\\displaystyle \\verb|fibonnaci(| 1 \\verb|)|\\verb| |\\verb|=| 1$"
      ],
      "text/plain": [
       "'fibonnaci(' 1 ') = ' 1"
      ]
     },
     "metadata": {},
     "output_type": "display_data"
    },
    {
     "data": {
      "text/html": [
       "<html>\\(\\displaystyle \\verb|fibonnaci(| 2 \\verb|)|\\verb| |\\verb|=| 1\\)</html>"
      ],
      "text/latex": [
       "$\\displaystyle \\verb|fibonnaci(| 2 \\verb|)|\\verb| |\\verb|=| 1$"
      ],
      "text/plain": [
       "'fibonnaci(' 2 ') = ' 1"
      ]
     },
     "metadata": {},
     "output_type": "display_data"
    },
    {
     "data": {
      "text/html": [
       "<html>\\(\\displaystyle \\verb|fibonnaci(| 3 \\verb|)|\\verb| |\\verb|=| 2\\)</html>"
      ],
      "text/latex": [
       "$\\displaystyle \\verb|fibonnaci(| 3 \\verb|)|\\verb| |\\verb|=| 2$"
      ],
      "text/plain": [
       "'fibonnaci(' 3 ') = ' 2"
      ]
     },
     "metadata": {},
     "output_type": "display_data"
    },
    {
     "data": {
      "text/html": [
       "<html>\\(\\displaystyle \\verb|fibonnaci(| 4 \\verb|)|\\verb| |\\verb|=| 3\\)</html>"
      ],
      "text/latex": [
       "$\\displaystyle \\verb|fibonnaci(| 4 \\verb|)|\\verb| |\\verb|=| 3$"
      ],
      "text/plain": [
       "'fibonnaci(' 4 ') = ' 3"
      ]
     },
     "metadata": {},
     "output_type": "display_data"
    },
    {
     "data": {
      "text/html": [
       "<html>\\(\\displaystyle \\verb|fibonnaci(| 5 \\verb|)|\\verb| |\\verb|=| 5\\)</html>"
      ],
      "text/latex": [
       "$\\displaystyle \\verb|fibonnaci(| 5 \\verb|)|\\verb| |\\verb|=| 5$"
      ],
      "text/plain": [
       "'fibonnaci(' 5 ') = ' 5"
      ]
     },
     "metadata": {},
     "output_type": "display_data"
    },
    {
     "data": {
      "text/html": [
       "<html>\\(\\displaystyle \\verb|fibonnaci(| 6 \\verb|)|\\verb| |\\verb|=| 8\\)</html>"
      ],
      "text/latex": [
       "$\\displaystyle \\verb|fibonnaci(| 6 \\verb|)|\\verb| |\\verb|=| 8$"
      ],
      "text/plain": [
       "'fibonnaci(' 6 ') = ' 8"
      ]
     },
     "metadata": {},
     "output_type": "display_data"
    },
    {
     "data": {
      "text/html": [
       "<html>\\(\\displaystyle \\verb|fibonnaci(| 7 \\verb|)|\\verb| |\\verb|=| 13\\)</html>"
      ],
      "text/latex": [
       "$\\displaystyle \\verb|fibonnaci(| 7 \\verb|)|\\verb| |\\verb|=| 13$"
      ],
      "text/plain": [
       "'fibonnaci(' 7 ') = ' 13"
      ]
     },
     "metadata": {},
     "output_type": "display_data"
    },
    {
     "data": {
      "text/html": [
       "<html>\\(\\displaystyle \\verb|fibonnaci(| 8 \\verb|)|\\verb| |\\verb|=| 21\\)</html>"
      ],
      "text/latex": [
       "$\\displaystyle \\verb|fibonnaci(| 8 \\verb|)|\\verb| |\\verb|=| 21$"
      ],
      "text/plain": [
       "'fibonnaci(' 8 ') = ' 21"
      ]
     },
     "metadata": {},
     "output_type": "display_data"
    },
    {
     "data": {
      "text/html": [
       "<html>\\(\\displaystyle \\verb|fibonnaci(| 9 \\verb|)|\\verb| |\\verb|=| 34\\)</html>"
      ],
      "text/latex": [
       "$\\displaystyle \\verb|fibonnaci(| 9 \\verb|)|\\verb| |\\verb|=| 34$"
      ],
      "text/plain": [
       "'fibonnaci(' 9 ') = ' 34"
      ]
     },
     "metadata": {},
     "output_type": "display_data"
    }
   ],
   "source": [
    "for i in range(10):\n",
    "    show(\"fibonnaci(\",i,\") = \",fibonacci(i))"
   ]
  },
  {
   "cell_type": "code",
   "execution_count": 4,
   "metadata": {},
   "outputs": [],
   "source": [
    "# show(fibonacci(100))\n",
    "# Le calcul récursif demande trop de ressources pour le 100ème terme (ce dernier est énorme), \n",
    "# de plus la fonction recalcule plusieurs fois les même termes"
   ]
  },
  {
   "cell_type": "markdown",
   "metadata": {
    "deletable": false,
    "editable": false,
    "run_control": {
     "frozen": true
    }
   },
   "source": [
    "### Question\n",
    "1. Réécrire la fonction `fibonacci` de manière itérative pour calculer rapidement le $n$-ème terme. Cela ne sert à rien d'utiliser la formule de Binet.\n",
    "1. Tester avec $n = 100$, $1000$, $10000$.\n",
    "1. Trouver approximativement la valeur $n$ pour laquelle le calcul de $F_n$ prend environ 1 seconde. Ne pas afficher la valeur de $F_n$ mais son nombre de chiffres (avec la méthode `ndigits` des entiers). *On peut utiliser `%time` pour mesurer le temps de calcul.*"
   ]
  },
  {
   "cell_type": "code",
   "execution_count": 5,
   "metadata": {},
   "outputs": [],
   "source": [
    "def fibonacci_ite(n):\n",
    "    a,b = 0,1\n",
    "    for i in range(n):\n",
    "        (a,b) = (b,a+b)\n",
    "    return a"
   ]
  },
  {
   "cell_type": "code",
   "execution_count": 6,
   "metadata": {},
   "outputs": [
    {
     "data": {
      "text/html": [
       "<html>\\(\\displaystyle \\verb|fibonacci_ite(| 0 \\verb|)|\\verb| |\\verb|=| 0\\)</html>"
      ],
      "text/latex": [
       "$\\displaystyle \\verb|fibonacci_ite(| 0 \\verb|)|\\verb| |\\verb|=| 0$"
      ],
      "text/plain": [
       "'fibonacci_ite(' 0 ') = ' 0"
      ]
     },
     "metadata": {},
     "output_type": "display_data"
    },
    {
     "data": {
      "text/html": [
       "<html>\\(\\displaystyle \\verb|fibonacci_ite(| 1 \\verb|)|\\verb| |\\verb|=| 1\\)</html>"
      ],
      "text/latex": [
       "$\\displaystyle \\verb|fibonacci_ite(| 1 \\verb|)|\\verb| |\\verb|=| 1$"
      ],
      "text/plain": [
       "'fibonacci_ite(' 1 ') = ' 1"
      ]
     },
     "metadata": {},
     "output_type": "display_data"
    },
    {
     "data": {
      "text/html": [
       "<html>\\(\\displaystyle \\verb|fibonacci_ite(| 2 \\verb|)|\\verb| |\\verb|=| 1\\)</html>"
      ],
      "text/latex": [
       "$\\displaystyle \\verb|fibonacci_ite(| 2 \\verb|)|\\verb| |\\verb|=| 1$"
      ],
      "text/plain": [
       "'fibonacci_ite(' 2 ') = ' 1"
      ]
     },
     "metadata": {},
     "output_type": "display_data"
    },
    {
     "data": {
      "text/html": [
       "<html>\\(\\displaystyle \\verb|fibonacci_ite(| 3 \\verb|)|\\verb| |\\verb|=| 2\\)</html>"
      ],
      "text/latex": [
       "$\\displaystyle \\verb|fibonacci_ite(| 3 \\verb|)|\\verb| |\\verb|=| 2$"
      ],
      "text/plain": [
       "'fibonacci_ite(' 3 ') = ' 2"
      ]
     },
     "metadata": {},
     "output_type": "display_data"
    },
    {
     "data": {
      "text/html": [
       "<html>\\(\\displaystyle \\verb|fibonacci_ite(| 4 \\verb|)|\\verb| |\\verb|=| 3\\)</html>"
      ],
      "text/latex": [
       "$\\displaystyle \\verb|fibonacci_ite(| 4 \\verb|)|\\verb| |\\verb|=| 3$"
      ],
      "text/plain": [
       "'fibonacci_ite(' 4 ') = ' 3"
      ]
     },
     "metadata": {},
     "output_type": "display_data"
    },
    {
     "data": {
      "text/html": [
       "<html>\\(\\displaystyle \\verb|fibonacci_ite(| 5 \\verb|)|\\verb| |\\verb|=| 5\\)</html>"
      ],
      "text/latex": [
       "$\\displaystyle \\verb|fibonacci_ite(| 5 \\verb|)|\\verb| |\\verb|=| 5$"
      ],
      "text/plain": [
       "'fibonacci_ite(' 5 ') = ' 5"
      ]
     },
     "metadata": {},
     "output_type": "display_data"
    },
    {
     "data": {
      "text/html": [
       "<html>\\(\\displaystyle \\verb|fibonacci_ite(| 6 \\verb|)|\\verb| |\\verb|=| 8\\)</html>"
      ],
      "text/latex": [
       "$\\displaystyle \\verb|fibonacci_ite(| 6 \\verb|)|\\verb| |\\verb|=| 8$"
      ],
      "text/plain": [
       "'fibonacci_ite(' 6 ') = ' 8"
      ]
     },
     "metadata": {},
     "output_type": "display_data"
    },
    {
     "data": {
      "text/html": [
       "<html>\\(\\displaystyle \\verb|fibonacci_ite(| 7 \\verb|)|\\verb| |\\verb|=| 13\\)</html>"
      ],
      "text/latex": [
       "$\\displaystyle \\verb|fibonacci_ite(| 7 \\verb|)|\\verb| |\\verb|=| 13$"
      ],
      "text/plain": [
       "'fibonacci_ite(' 7 ') = ' 13"
      ]
     },
     "metadata": {},
     "output_type": "display_data"
    },
    {
     "data": {
      "text/html": [
       "<html>\\(\\displaystyle \\verb|fibonacci_ite(| 8 \\verb|)|\\verb| |\\verb|=| 21\\)</html>"
      ],
      "text/latex": [
       "$\\displaystyle \\verb|fibonacci_ite(| 8 \\verb|)|\\verb| |\\verb|=| 21$"
      ],
      "text/plain": [
       "'fibonacci_ite(' 8 ') = ' 21"
      ]
     },
     "metadata": {},
     "output_type": "display_data"
    },
    {
     "data": {
      "text/html": [
       "<html>\\(\\displaystyle \\verb|fibonacci_ite(| 9 \\verb|)|\\verb| |\\verb|=| 34\\)</html>"
      ],
      "text/latex": [
       "$\\displaystyle \\verb|fibonacci_ite(| 9 \\verb|)|\\verb| |\\verb|=| 34$"
      ],
      "text/plain": [
       "'fibonacci_ite(' 9 ') = ' 34"
      ]
     },
     "metadata": {},
     "output_type": "display_data"
    },
    {
     "data": {
      "text/html": [
       "<html>\\(\\displaystyle \\verb|fibonacci_ite(| 10 \\verb|)|\\verb| |\\verb|=| 55\\)</html>"
      ],
      "text/latex": [
       "$\\displaystyle \\verb|fibonacci_ite(| 10 \\verb|)|\\verb| |\\verb|=| 55$"
      ],
      "text/plain": [
       "'fibonacci_ite(' 10 ') = ' 55"
      ]
     },
     "metadata": {},
     "output_type": "display_data"
    },
    {
     "data": {
      "text/html": [
       "<html>\\(\\displaystyle \\verb|fibonacci_ite(| 11 \\verb|)|\\verb| |\\verb|=| 89\\)</html>"
      ],
      "text/latex": [
       "$\\displaystyle \\verb|fibonacci_ite(| 11 \\verb|)|\\verb| |\\verb|=| 89$"
      ],
      "text/plain": [
       "'fibonacci_ite(' 11 ') = ' 89"
      ]
     },
     "metadata": {},
     "output_type": "display_data"
    },
    {
     "data": {
      "text/html": [
       "<html>\\(\\displaystyle \\verb|fibonacci_ite(| 12 \\verb|)|\\verb| |\\verb|=| 144\\)</html>"
      ],
      "text/latex": [
       "$\\displaystyle \\verb|fibonacci_ite(| 12 \\verb|)|\\verb| |\\verb|=| 144$"
      ],
      "text/plain": [
       "'fibonacci_ite(' 12 ') = ' 144"
      ]
     },
     "metadata": {},
     "output_type": "display_data"
    },
    {
     "data": {
      "text/html": [
       "<html>\\(\\displaystyle \\verb|fibonacci_ite(| 13 \\verb|)|\\verb| |\\verb|=| 233\\)</html>"
      ],
      "text/latex": [
       "$\\displaystyle \\verb|fibonacci_ite(| 13 \\verb|)|\\verb| |\\verb|=| 233$"
      ],
      "text/plain": [
       "'fibonacci_ite(' 13 ') = ' 233"
      ]
     },
     "metadata": {},
     "output_type": "display_data"
    },
    {
     "data": {
      "text/html": [
       "<html>\\(\\displaystyle \\verb|fibonacci_ite(| 14 \\verb|)|\\verb| |\\verb|=| 377\\)</html>"
      ],
      "text/latex": [
       "$\\displaystyle \\verb|fibonacci_ite(| 14 \\verb|)|\\verb| |\\verb|=| 377$"
      ],
      "text/plain": [
       "'fibonacci_ite(' 14 ') = ' 377"
      ]
     },
     "metadata": {},
     "output_type": "display_data"
    },
    {
     "data": {
      "text/html": [
       "<html>\\(\\displaystyle \\verb|fibonacci_ite(| 15 \\verb|)|\\verb| |\\verb|=| 610\\)</html>"
      ],
      "text/latex": [
       "$\\displaystyle \\verb|fibonacci_ite(| 15 \\verb|)|\\verb| |\\verb|=| 610$"
      ],
      "text/plain": [
       "'fibonacci_ite(' 15 ') = ' 610"
      ]
     },
     "metadata": {},
     "output_type": "display_data"
    },
    {
     "data": {
      "text/html": [
       "<html>\\(\\displaystyle \\verb|fibonacci_ite(| 16 \\verb|)|\\verb| |\\verb|=| 987\\)</html>"
      ],
      "text/latex": [
       "$\\displaystyle \\verb|fibonacci_ite(| 16 \\verb|)|\\verb| |\\verb|=| 987$"
      ],
      "text/plain": [
       "'fibonacci_ite(' 16 ') = ' 987"
      ]
     },
     "metadata": {},
     "output_type": "display_data"
    },
    {
     "data": {
      "text/html": [
       "<html>\\(\\displaystyle \\verb|fibonacci_ite(| 17 \\verb|)|\\verb| |\\verb|=| 1597\\)</html>"
      ],
      "text/latex": [
       "$\\displaystyle \\verb|fibonacci_ite(| 17 \\verb|)|\\verb| |\\verb|=| 1597$"
      ],
      "text/plain": [
       "'fibonacci_ite(' 17 ') = ' 1597"
      ]
     },
     "metadata": {},
     "output_type": "display_data"
    },
    {
     "data": {
      "text/html": [
       "<html>\\(\\displaystyle \\verb|fibonacci_ite(| 18 \\verb|)|\\verb| |\\verb|=| 2584\\)</html>"
      ],
      "text/latex": [
       "$\\displaystyle \\verb|fibonacci_ite(| 18 \\verb|)|\\verb| |\\verb|=| 2584$"
      ],
      "text/plain": [
       "'fibonacci_ite(' 18 ') = ' 2584"
      ]
     },
     "metadata": {},
     "output_type": "display_data"
    },
    {
     "data": {
      "text/html": [
       "<html>\\(\\displaystyle \\verb|fibonacci_ite(| 19 \\verb|)|\\verb| |\\verb|=| 4181\\)</html>"
      ],
      "text/latex": [
       "$\\displaystyle \\verb|fibonacci_ite(| 19 \\verb|)|\\verb| |\\verb|=| 4181$"
      ],
      "text/plain": [
       "'fibonacci_ite(' 19 ') = ' 4181"
      ]
     },
     "metadata": {},
     "output_type": "display_data"
    },
    {
     "data": {
      "text/html": [
       "<html>\\(\\displaystyle \\verb|fibonacci_ite(| 20 \\verb|)|\\verb| |\\verb|=| 6765\\)</html>"
      ],
      "text/latex": [
       "$\\displaystyle \\verb|fibonacci_ite(| 20 \\verb|)|\\verb| |\\verb|=| 6765$"
      ],
      "text/plain": [
       "'fibonacci_ite(' 20 ') = ' 6765"
      ]
     },
     "metadata": {},
     "output_type": "display_data"
    },
    {
     "data": {
      "text/html": [
       "<html>\\(\\displaystyle \\verb|fibonacci_ite(| 21 \\verb|)|\\verb| |\\verb|=| 10946\\)</html>"
      ],
      "text/latex": [
       "$\\displaystyle \\verb|fibonacci_ite(| 21 \\verb|)|\\verb| |\\verb|=| 10946$"
      ],
      "text/plain": [
       "'fibonacci_ite(' 21 ') = ' 10946"
      ]
     },
     "metadata": {},
     "output_type": "display_data"
    },
    {
     "data": {
      "text/html": [
       "<html>\\(\\displaystyle \\verb|fibonacci_ite(| 22 \\verb|)|\\verb| |\\verb|=| 17711\\)</html>"
      ],
      "text/latex": [
       "$\\displaystyle \\verb|fibonacci_ite(| 22 \\verb|)|\\verb| |\\verb|=| 17711$"
      ],
      "text/plain": [
       "'fibonacci_ite(' 22 ') = ' 17711"
      ]
     },
     "metadata": {},
     "output_type": "display_data"
    },
    {
     "data": {
      "text/html": [
       "<html>\\(\\displaystyle \\verb|fibonacci_ite(| 23 \\verb|)|\\verb| |\\verb|=| 28657\\)</html>"
      ],
      "text/latex": [
       "$\\displaystyle \\verb|fibonacci_ite(| 23 \\verb|)|\\verb| |\\verb|=| 28657$"
      ],
      "text/plain": [
       "'fibonacci_ite(' 23 ') = ' 28657"
      ]
     },
     "metadata": {},
     "output_type": "display_data"
    },
    {
     "data": {
      "text/html": [
       "<html>\\(\\displaystyle \\verb|fibonacci_ite(| 24 \\verb|)|\\verb| |\\verb|=| 46368\\)</html>"
      ],
      "text/latex": [
       "$\\displaystyle \\verb|fibonacci_ite(| 24 \\verb|)|\\verb| |\\verb|=| 46368$"
      ],
      "text/plain": [
       "'fibonacci_ite(' 24 ') = ' 46368"
      ]
     },
     "metadata": {},
     "output_type": "display_data"
    },
    {
     "data": {
      "text/html": [
       "<html>\\(\\displaystyle \\verb|fibonacci_ite(| 25 \\verb|)|\\verb| |\\verb|=| 75025\\)</html>"
      ],
      "text/latex": [
       "$\\displaystyle \\verb|fibonacci_ite(| 25 \\verb|)|\\verb| |\\verb|=| 75025$"
      ],
      "text/plain": [
       "'fibonacci_ite(' 25 ') = ' 75025"
      ]
     },
     "metadata": {},
     "output_type": "display_data"
    },
    {
     "data": {
      "text/html": [
       "<html>\\(\\displaystyle \\verb|fibonacci_ite(| 26 \\verb|)|\\verb| |\\verb|=| 121393\\)</html>"
      ],
      "text/latex": [
       "$\\displaystyle \\verb|fibonacci_ite(| 26 \\verb|)|\\verb| |\\verb|=| 121393$"
      ],
      "text/plain": [
       "'fibonacci_ite(' 26 ') = ' 121393"
      ]
     },
     "metadata": {},
     "output_type": "display_data"
    },
    {
     "data": {
      "text/html": [
       "<html>\\(\\displaystyle \\verb|fibonacci_ite(| 27 \\verb|)|\\verb| |\\verb|=| 196418\\)</html>"
      ],
      "text/latex": [
       "$\\displaystyle \\verb|fibonacci_ite(| 27 \\verb|)|\\verb| |\\verb|=| 196418$"
      ],
      "text/plain": [
       "'fibonacci_ite(' 27 ') = ' 196418"
      ]
     },
     "metadata": {},
     "output_type": "display_data"
    },
    {
     "data": {
      "text/html": [
       "<html>\\(\\displaystyle \\verb|fibonacci_ite(| 28 \\verb|)|\\verb| |\\verb|=| 317811\\)</html>"
      ],
      "text/latex": [
       "$\\displaystyle \\verb|fibonacci_ite(| 28 \\verb|)|\\verb| |\\verb|=| 317811$"
      ],
      "text/plain": [
       "'fibonacci_ite(' 28 ') = ' 317811"
      ]
     },
     "metadata": {},
     "output_type": "display_data"
    },
    {
     "data": {
      "text/html": [
       "<html>\\(\\displaystyle \\verb|fibonacci_ite(| 29 \\verb|)|\\verb| |\\verb|=| 514229\\)</html>"
      ],
      "text/latex": [
       "$\\displaystyle \\verb|fibonacci_ite(| 29 \\verb|)|\\verb| |\\verb|=| 514229$"
      ],
      "text/plain": [
       "'fibonacci_ite(' 29 ') = ' 514229"
      ]
     },
     "metadata": {},
     "output_type": "display_data"
    },
    {
     "data": {
      "text/html": [
       "<html>\\(\\displaystyle \\verb|fibonacci_ite(| 30 \\verb|)|\\verb| |\\verb|=| 832040\\)</html>"
      ],
      "text/latex": [
       "$\\displaystyle \\verb|fibonacci_ite(| 30 \\verb|)|\\verb| |\\verb|=| 832040$"
      ],
      "text/plain": [
       "'fibonacci_ite(' 30 ') = ' 832040"
      ]
     },
     "metadata": {},
     "output_type": "display_data"
    },
    {
     "data": {
      "text/html": [
       "<html>\\(\\displaystyle \\verb|fibonacci_ite(| 31 \\verb|)|\\verb| |\\verb|=| 1346269\\)</html>"
      ],
      "text/latex": [
       "$\\displaystyle \\verb|fibonacci_ite(| 31 \\verb|)|\\verb| |\\verb|=| 1346269$"
      ],
      "text/plain": [
       "'fibonacci_ite(' 31 ') = ' 1346269"
      ]
     },
     "metadata": {},
     "output_type": "display_data"
    },
    {
     "data": {
      "text/html": [
       "<html>\\(\\displaystyle \\verb|fibonacci_ite(| 32 \\verb|)|\\verb| |\\verb|=| 2178309\\)</html>"
      ],
      "text/latex": [
       "$\\displaystyle \\verb|fibonacci_ite(| 32 \\verb|)|\\verb| |\\verb|=| 2178309$"
      ],
      "text/plain": [
       "'fibonacci_ite(' 32 ') = ' 2178309"
      ]
     },
     "metadata": {},
     "output_type": "display_data"
    },
    {
     "data": {
      "text/html": [
       "<html>\\(\\displaystyle \\verb|fibonacci_ite(| 33 \\verb|)|\\verb| |\\verb|=| 3524578\\)</html>"
      ],
      "text/latex": [
       "$\\displaystyle \\verb|fibonacci_ite(| 33 \\verb|)|\\verb| |\\verb|=| 3524578$"
      ],
      "text/plain": [
       "'fibonacci_ite(' 33 ') = ' 3524578"
      ]
     },
     "metadata": {},
     "output_type": "display_data"
    },
    {
     "data": {
      "text/html": [
       "<html>\\(\\displaystyle \\verb|fibonacci_ite(| 34 \\verb|)|\\verb| |\\verb|=| 5702887\\)</html>"
      ],
      "text/latex": [
       "$\\displaystyle \\verb|fibonacci_ite(| 34 \\verb|)|\\verb| |\\verb|=| 5702887$"
      ],
      "text/plain": [
       "'fibonacci_ite(' 34 ') = ' 5702887"
      ]
     },
     "metadata": {},
     "output_type": "display_data"
    },
    {
     "data": {
      "text/html": [
       "<html>\\(\\displaystyle \\verb|fibonacci_ite(| 35 \\verb|)|\\verb| |\\verb|=| 9227465\\)</html>"
      ],
      "text/latex": [
       "$\\displaystyle \\verb|fibonacci_ite(| 35 \\verb|)|\\verb| |\\verb|=| 9227465$"
      ],
      "text/plain": [
       "'fibonacci_ite(' 35 ') = ' 9227465"
      ]
     },
     "metadata": {},
     "output_type": "display_data"
    },
    {
     "data": {
      "text/html": [
       "<html>\\(\\displaystyle \\verb|fibonacci_ite(| 36 \\verb|)|\\verb| |\\verb|=| 14930352\\)</html>"
      ],
      "text/latex": [
       "$\\displaystyle \\verb|fibonacci_ite(| 36 \\verb|)|\\verb| |\\verb|=| 14930352$"
      ],
      "text/plain": [
       "'fibonacci_ite(' 36 ') = ' 14930352"
      ]
     },
     "metadata": {},
     "output_type": "display_data"
    },
    {
     "data": {
      "text/html": [
       "<html>\\(\\displaystyle \\verb|fibonacci_ite(| 37 \\verb|)|\\verb| |\\verb|=| 24157817\\)</html>"
      ],
      "text/latex": [
       "$\\displaystyle \\verb|fibonacci_ite(| 37 \\verb|)|\\verb| |\\verb|=| 24157817$"
      ],
      "text/plain": [
       "'fibonacci_ite(' 37 ') = ' 24157817"
      ]
     },
     "metadata": {},
     "output_type": "display_data"
    },
    {
     "data": {
      "text/html": [
       "<html>\\(\\displaystyle \\verb|fibonacci_ite(| 38 \\verb|)|\\verb| |\\verb|=| 39088169\\)</html>"
      ],
      "text/latex": [
       "$\\displaystyle \\verb|fibonacci_ite(| 38 \\verb|)|\\verb| |\\verb|=| 39088169$"
      ],
      "text/plain": [
       "'fibonacci_ite(' 38 ') = ' 39088169"
      ]
     },
     "metadata": {},
     "output_type": "display_data"
    },
    {
     "data": {
      "text/html": [
       "<html>\\(\\displaystyle \\verb|fibonacci_ite(| 39 \\verb|)|\\verb| |\\verb|=| 63245986\\)</html>"
      ],
      "text/latex": [
       "$\\displaystyle \\verb|fibonacci_ite(| 39 \\verb|)|\\verb| |\\verb|=| 63245986$"
      ],
      "text/plain": [
       "'fibonacci_ite(' 39 ') = ' 63245986"
      ]
     },
     "metadata": {},
     "output_type": "display_data"
    },
    {
     "data": {
      "text/html": [
       "<html>\\(\\displaystyle \\verb|fibonacci_ite(| 40 \\verb|)|\\verb| |\\verb|=| 102334155\\)</html>"
      ],
      "text/latex": [
       "$\\displaystyle \\verb|fibonacci_ite(| 40 \\verb|)|\\verb| |\\verb|=| 102334155$"
      ],
      "text/plain": [
       "'fibonacci_ite(' 40 ') = ' 102334155"
      ]
     },
     "metadata": {},
     "output_type": "display_data"
    },
    {
     "data": {
      "text/html": [
       "<html>\\(\\displaystyle \\verb|fibonacci_ite(| 41 \\verb|)|\\verb| |\\verb|=| 165580141\\)</html>"
      ],
      "text/latex": [
       "$\\displaystyle \\verb|fibonacci_ite(| 41 \\verb|)|\\verb| |\\verb|=| 165580141$"
      ],
      "text/plain": [
       "'fibonacci_ite(' 41 ') = ' 165580141"
      ]
     },
     "metadata": {},
     "output_type": "display_data"
    },
    {
     "data": {
      "text/html": [
       "<html>\\(\\displaystyle \\verb|fibonacci_ite(| 42 \\verb|)|\\verb| |\\verb|=| 267914296\\)</html>"
      ],
      "text/latex": [
       "$\\displaystyle \\verb|fibonacci_ite(| 42 \\verb|)|\\verb| |\\verb|=| 267914296$"
      ],
      "text/plain": [
       "'fibonacci_ite(' 42 ') = ' 267914296"
      ]
     },
     "metadata": {},
     "output_type": "display_data"
    },
    {
     "data": {
      "text/html": [
       "<html>\\(\\displaystyle \\verb|fibonacci_ite(| 43 \\verb|)|\\verb| |\\verb|=| 433494437\\)</html>"
      ],
      "text/latex": [
       "$\\displaystyle \\verb|fibonacci_ite(| 43 \\verb|)|\\verb| |\\verb|=| 433494437$"
      ],
      "text/plain": [
       "'fibonacci_ite(' 43 ') = ' 433494437"
      ]
     },
     "metadata": {},
     "output_type": "display_data"
    },
    {
     "data": {
      "text/html": [
       "<html>\\(\\displaystyle \\verb|fibonacci_ite(| 44 \\verb|)|\\verb| |\\verb|=| 701408733\\)</html>"
      ],
      "text/latex": [
       "$\\displaystyle \\verb|fibonacci_ite(| 44 \\verb|)|\\verb| |\\verb|=| 701408733$"
      ],
      "text/plain": [
       "'fibonacci_ite(' 44 ') = ' 701408733"
      ]
     },
     "metadata": {},
     "output_type": "display_data"
    },
    {
     "data": {
      "text/html": [
       "<html>\\(\\displaystyle \\verb|fibonacci_ite(| 45 \\verb|)|\\verb| |\\verb|=| 1134903170\\)</html>"
      ],
      "text/latex": [
       "$\\displaystyle \\verb|fibonacci_ite(| 45 \\verb|)|\\verb| |\\verb|=| 1134903170$"
      ],
      "text/plain": [
       "'fibonacci_ite(' 45 ') = ' 1134903170"
      ]
     },
     "metadata": {},
     "output_type": "display_data"
    },
    {
     "data": {
      "text/html": [
       "<html>\\(\\displaystyle \\verb|fibonacci_ite(| 46 \\verb|)|\\verb| |\\verb|=| 1836311903\\)</html>"
      ],
      "text/latex": [
       "$\\displaystyle \\verb|fibonacci_ite(| 46 \\verb|)|\\verb| |\\verb|=| 1836311903$"
      ],
      "text/plain": [
       "'fibonacci_ite(' 46 ') = ' 1836311903"
      ]
     },
     "metadata": {},
     "output_type": "display_data"
    },
    {
     "data": {
      "text/html": [
       "<html>\\(\\displaystyle \\verb|fibonacci_ite(| 47 \\verb|)|\\verb| |\\verb|=| 2971215073\\)</html>"
      ],
      "text/latex": [
       "$\\displaystyle \\verb|fibonacci_ite(| 47 \\verb|)|\\verb| |\\verb|=| 2971215073$"
      ],
      "text/plain": [
       "'fibonacci_ite(' 47 ') = ' 2971215073"
      ]
     },
     "metadata": {},
     "output_type": "display_data"
    },
    {
     "data": {
      "text/html": [
       "<html>\\(\\displaystyle \\verb|fibonacci_ite(| 48 \\verb|)|\\verb| |\\verb|=| 4807526976\\)</html>"
      ],
      "text/latex": [
       "$\\displaystyle \\verb|fibonacci_ite(| 48 \\verb|)|\\verb| |\\verb|=| 4807526976$"
      ],
      "text/plain": [
       "'fibonacci_ite(' 48 ') = ' 4807526976"
      ]
     },
     "metadata": {},
     "output_type": "display_data"
    },
    {
     "data": {
      "text/html": [
       "<html>\\(\\displaystyle \\verb|fibonacci_ite(| 49 \\verb|)|\\verb| |\\verb|=| 7778742049\\)</html>"
      ],
      "text/latex": [
       "$\\displaystyle \\verb|fibonacci_ite(| 49 \\verb|)|\\verb| |\\verb|=| 7778742049$"
      ],
      "text/plain": [
       "'fibonacci_ite(' 49 ') = ' 7778742049"
      ]
     },
     "metadata": {},
     "output_type": "display_data"
    },
    {
     "data": {
      "text/html": [
       "<html>\\(\\displaystyle \\verb|fibonacci_ite(| 50 \\verb|)|\\verb| |\\verb|=| 12586269025\\)</html>"
      ],
      "text/latex": [
       "$\\displaystyle \\verb|fibonacci_ite(| 50 \\verb|)|\\verb| |\\verb|=| 12586269025$"
      ],
      "text/plain": [
       "'fibonacci_ite(' 50 ') = ' 12586269025"
      ]
     },
     "metadata": {},
     "output_type": "display_data"
    },
    {
     "data": {
      "text/html": [
       "<html>\\(\\displaystyle \\verb|fibonacci_ite(| 51 \\verb|)|\\verb| |\\verb|=| 20365011074\\)</html>"
      ],
      "text/latex": [
       "$\\displaystyle \\verb|fibonacci_ite(| 51 \\verb|)|\\verb| |\\verb|=| 20365011074$"
      ],
      "text/plain": [
       "'fibonacci_ite(' 51 ') = ' 20365011074"
      ]
     },
     "metadata": {},
     "output_type": "display_data"
    },
    {
     "data": {
      "text/html": [
       "<html>\\(\\displaystyle \\verb|fibonacci_ite(| 52 \\verb|)|\\verb| |\\verb|=| 32951280099\\)</html>"
      ],
      "text/latex": [
       "$\\displaystyle \\verb|fibonacci_ite(| 52 \\verb|)|\\verb| |\\verb|=| 32951280099$"
      ],
      "text/plain": [
       "'fibonacci_ite(' 52 ') = ' 32951280099"
      ]
     },
     "metadata": {},
     "output_type": "display_data"
    },
    {
     "data": {
      "text/html": [
       "<html>\\(\\displaystyle \\verb|fibonacci_ite(| 53 \\verb|)|\\verb| |\\verb|=| 53316291173\\)</html>"
      ],
      "text/latex": [
       "$\\displaystyle \\verb|fibonacci_ite(| 53 \\verb|)|\\verb| |\\verb|=| 53316291173$"
      ],
      "text/plain": [
       "'fibonacci_ite(' 53 ') = ' 53316291173"
      ]
     },
     "metadata": {},
     "output_type": "display_data"
    },
    {
     "data": {
      "text/html": [
       "<html>\\(\\displaystyle \\verb|fibonacci_ite(| 54 \\verb|)|\\verb| |\\verb|=| 86267571272\\)</html>"
      ],
      "text/latex": [
       "$\\displaystyle \\verb|fibonacci_ite(| 54 \\verb|)|\\verb| |\\verb|=| 86267571272$"
      ],
      "text/plain": [
       "'fibonacci_ite(' 54 ') = ' 86267571272"
      ]
     },
     "metadata": {},
     "output_type": "display_data"
    },
    {
     "data": {
      "text/html": [
       "<html>\\(\\displaystyle \\verb|fibonacci_ite(| 55 \\verb|)|\\verb| |\\verb|=| 139583862445\\)</html>"
      ],
      "text/latex": [
       "$\\displaystyle \\verb|fibonacci_ite(| 55 \\verb|)|\\verb| |\\verb|=| 139583862445$"
      ],
      "text/plain": [
       "'fibonacci_ite(' 55 ') = ' 139583862445"
      ]
     },
     "metadata": {},
     "output_type": "display_data"
    },
    {
     "data": {
      "text/html": [
       "<html>\\(\\displaystyle \\verb|fibonacci_ite(| 56 \\verb|)|\\verb| |\\verb|=| 225851433717\\)</html>"
      ],
      "text/latex": [
       "$\\displaystyle \\verb|fibonacci_ite(| 56 \\verb|)|\\verb| |\\verb|=| 225851433717$"
      ],
      "text/plain": [
       "'fibonacci_ite(' 56 ') = ' 225851433717"
      ]
     },
     "metadata": {},
     "output_type": "display_data"
    },
    {
     "data": {
      "text/html": [
       "<html>\\(\\displaystyle \\verb|fibonacci_ite(| 57 \\verb|)|\\verb| |\\verb|=| 365435296162\\)</html>"
      ],
      "text/latex": [
       "$\\displaystyle \\verb|fibonacci_ite(| 57 \\verb|)|\\verb| |\\verb|=| 365435296162$"
      ],
      "text/plain": [
       "'fibonacci_ite(' 57 ') = ' 365435296162"
      ]
     },
     "metadata": {},
     "output_type": "display_data"
    },
    {
     "data": {
      "text/html": [
       "<html>\\(\\displaystyle \\verb|fibonacci_ite(| 58 \\verb|)|\\verb| |\\verb|=| 591286729879\\)</html>"
      ],
      "text/latex": [
       "$\\displaystyle \\verb|fibonacci_ite(| 58 \\verb|)|\\verb| |\\verb|=| 591286729879$"
      ],
      "text/plain": [
       "'fibonacci_ite(' 58 ') = ' 591286729879"
      ]
     },
     "metadata": {},
     "output_type": "display_data"
    },
    {
     "data": {
      "text/html": [
       "<html>\\(\\displaystyle \\verb|fibonacci_ite(| 59 \\verb|)|\\verb| |\\verb|=| 956722026041\\)</html>"
      ],
      "text/latex": [
       "$\\displaystyle \\verb|fibonacci_ite(| 59 \\verb|)|\\verb| |\\verb|=| 956722026041$"
      ],
      "text/plain": [
       "'fibonacci_ite(' 59 ') = ' 956722026041"
      ]
     },
     "metadata": {},
     "output_type": "display_data"
    },
    {
     "data": {
      "text/html": [
       "<html>\\(\\displaystyle \\verb|fibonacci_ite(| 60 \\verb|)|\\verb| |\\verb|=| 1548008755920\\)</html>"
      ],
      "text/latex": [
       "$\\displaystyle \\verb|fibonacci_ite(| 60 \\verb|)|\\verb| |\\verb|=| 1548008755920$"
      ],
      "text/plain": [
       "'fibonacci_ite(' 60 ') = ' 1548008755920"
      ]
     },
     "metadata": {},
     "output_type": "display_data"
    },
    {
     "data": {
      "text/html": [
       "<html>\\(\\displaystyle \\verb|fibonacci_ite(| 61 \\verb|)|\\verb| |\\verb|=| 2504730781961\\)</html>"
      ],
      "text/latex": [
       "$\\displaystyle \\verb|fibonacci_ite(| 61 \\verb|)|\\verb| |\\verb|=| 2504730781961$"
      ],
      "text/plain": [
       "'fibonacci_ite(' 61 ') = ' 2504730781961"
      ]
     },
     "metadata": {},
     "output_type": "display_data"
    },
    {
     "data": {
      "text/html": [
       "<html>\\(\\displaystyle \\verb|fibonacci_ite(| 62 \\verb|)|\\verb| |\\verb|=| 4052739537881\\)</html>"
      ],
      "text/latex": [
       "$\\displaystyle \\verb|fibonacci_ite(| 62 \\verb|)|\\verb| |\\verb|=| 4052739537881$"
      ],
      "text/plain": [
       "'fibonacci_ite(' 62 ') = ' 4052739537881"
      ]
     },
     "metadata": {},
     "output_type": "display_data"
    },
    {
     "data": {
      "text/html": [
       "<html>\\(\\displaystyle \\verb|fibonacci_ite(| 63 \\verb|)|\\verb| |\\verb|=| 6557470319842\\)</html>"
      ],
      "text/latex": [
       "$\\displaystyle \\verb|fibonacci_ite(| 63 \\verb|)|\\verb| |\\verb|=| 6557470319842$"
      ],
      "text/plain": [
       "'fibonacci_ite(' 63 ') = ' 6557470319842"
      ]
     },
     "metadata": {},
     "output_type": "display_data"
    },
    {
     "data": {
      "text/html": [
       "<html>\\(\\displaystyle \\verb|fibonacci_ite(| 64 \\verb|)|\\verb| |\\verb|=| 10610209857723\\)</html>"
      ],
      "text/latex": [
       "$\\displaystyle \\verb|fibonacci_ite(| 64 \\verb|)|\\verb| |\\verb|=| 10610209857723$"
      ],
      "text/plain": [
       "'fibonacci_ite(' 64 ') = ' 10610209857723"
      ]
     },
     "metadata": {},
     "output_type": "display_data"
    },
    {
     "data": {
      "text/html": [
       "<html>\\(\\displaystyle \\verb|fibonacci_ite(| 65 \\verb|)|\\verb| |\\verb|=| 17167680177565\\)</html>"
      ],
      "text/latex": [
       "$\\displaystyle \\verb|fibonacci_ite(| 65 \\verb|)|\\verb| |\\verb|=| 17167680177565$"
      ],
      "text/plain": [
       "'fibonacci_ite(' 65 ') = ' 17167680177565"
      ]
     },
     "metadata": {},
     "output_type": "display_data"
    },
    {
     "data": {
      "text/html": [
       "<html>\\(\\displaystyle \\verb|fibonacci_ite(| 66 \\verb|)|\\verb| |\\verb|=| 27777890035288\\)</html>"
      ],
      "text/latex": [
       "$\\displaystyle \\verb|fibonacci_ite(| 66 \\verb|)|\\verb| |\\verb|=| 27777890035288$"
      ],
      "text/plain": [
       "'fibonacci_ite(' 66 ') = ' 27777890035288"
      ]
     },
     "metadata": {},
     "output_type": "display_data"
    },
    {
     "data": {
      "text/html": [
       "<html>\\(\\displaystyle \\verb|fibonacci_ite(| 67 \\verb|)|\\verb| |\\verb|=| 44945570212853\\)</html>"
      ],
      "text/latex": [
       "$\\displaystyle \\verb|fibonacci_ite(| 67 \\verb|)|\\verb| |\\verb|=| 44945570212853$"
      ],
      "text/plain": [
       "'fibonacci_ite(' 67 ') = ' 44945570212853"
      ]
     },
     "metadata": {},
     "output_type": "display_data"
    },
    {
     "data": {
      "text/html": [
       "<html>\\(\\displaystyle \\verb|fibonacci_ite(| 68 \\verb|)|\\verb| |\\verb|=| 72723460248141\\)</html>"
      ],
      "text/latex": [
       "$\\displaystyle \\verb|fibonacci_ite(| 68 \\verb|)|\\verb| |\\verb|=| 72723460248141$"
      ],
      "text/plain": [
       "'fibonacci_ite(' 68 ') = ' 72723460248141"
      ]
     },
     "metadata": {},
     "output_type": "display_data"
    },
    {
     "data": {
      "text/html": [
       "<html>\\(\\displaystyle \\verb|fibonacci_ite(| 69 \\verb|)|\\verb| |\\verb|=| 117669030460994\\)</html>"
      ],
      "text/latex": [
       "$\\displaystyle \\verb|fibonacci_ite(| 69 \\verb|)|\\verb| |\\verb|=| 117669030460994$"
      ],
      "text/plain": [
       "'fibonacci_ite(' 69 ') = ' 117669030460994"
      ]
     },
     "metadata": {},
     "output_type": "display_data"
    },
    {
     "data": {
      "text/html": [
       "<html>\\(\\displaystyle \\verb|fibonacci_ite(| 70 \\verb|)|\\verb| |\\verb|=| 190392490709135\\)</html>"
      ],
      "text/latex": [
       "$\\displaystyle \\verb|fibonacci_ite(| 70 \\verb|)|\\verb| |\\verb|=| 190392490709135$"
      ],
      "text/plain": [
       "'fibonacci_ite(' 70 ') = ' 190392490709135"
      ]
     },
     "metadata": {},
     "output_type": "display_data"
    },
    {
     "data": {
      "text/html": [
       "<html>\\(\\displaystyle \\verb|fibonacci_ite(| 71 \\verb|)|\\verb| |\\verb|=| 308061521170129\\)</html>"
      ],
      "text/latex": [
       "$\\displaystyle \\verb|fibonacci_ite(| 71 \\verb|)|\\verb| |\\verb|=| 308061521170129$"
      ],
      "text/plain": [
       "'fibonacci_ite(' 71 ') = ' 308061521170129"
      ]
     },
     "metadata": {},
     "output_type": "display_data"
    },
    {
     "data": {
      "text/html": [
       "<html>\\(\\displaystyle \\verb|fibonacci_ite(| 72 \\verb|)|\\verb| |\\verb|=| 498454011879264\\)</html>"
      ],
      "text/latex": [
       "$\\displaystyle \\verb|fibonacci_ite(| 72 \\verb|)|\\verb| |\\verb|=| 498454011879264$"
      ],
      "text/plain": [
       "'fibonacci_ite(' 72 ') = ' 498454011879264"
      ]
     },
     "metadata": {},
     "output_type": "display_data"
    },
    {
     "data": {
      "text/html": [
       "<html>\\(\\displaystyle \\verb|fibonacci_ite(| 73 \\verb|)|\\verb| |\\verb|=| 806515533049393\\)</html>"
      ],
      "text/latex": [
       "$\\displaystyle \\verb|fibonacci_ite(| 73 \\verb|)|\\verb| |\\verb|=| 806515533049393$"
      ],
      "text/plain": [
       "'fibonacci_ite(' 73 ') = ' 806515533049393"
      ]
     },
     "metadata": {},
     "output_type": "display_data"
    },
    {
     "data": {
      "text/html": [
       "<html>\\(\\displaystyle \\verb|fibonacci_ite(| 74 \\verb|)|\\verb| |\\verb|=| 1304969544928657\\)</html>"
      ],
      "text/latex": [
       "$\\displaystyle \\verb|fibonacci_ite(| 74 \\verb|)|\\verb| |\\verb|=| 1304969544928657$"
      ],
      "text/plain": [
       "'fibonacci_ite(' 74 ') = ' 1304969544928657"
      ]
     },
     "metadata": {},
     "output_type": "display_data"
    },
    {
     "data": {
      "text/html": [
       "<html>\\(\\displaystyle \\verb|fibonacci_ite(| 75 \\verb|)|\\verb| |\\verb|=| 2111485077978050\\)</html>"
      ],
      "text/latex": [
       "$\\displaystyle \\verb|fibonacci_ite(| 75 \\verb|)|\\verb| |\\verb|=| 2111485077978050$"
      ],
      "text/plain": [
       "'fibonacci_ite(' 75 ') = ' 2111485077978050"
      ]
     },
     "metadata": {},
     "output_type": "display_data"
    },
    {
     "data": {
      "text/html": [
       "<html>\\(\\displaystyle \\verb|fibonacci_ite(| 76 \\verb|)|\\verb| |\\verb|=| 3416454622906707\\)</html>"
      ],
      "text/latex": [
       "$\\displaystyle \\verb|fibonacci_ite(| 76 \\verb|)|\\verb| |\\verb|=| 3416454622906707$"
      ],
      "text/plain": [
       "'fibonacci_ite(' 76 ') = ' 3416454622906707"
      ]
     },
     "metadata": {},
     "output_type": "display_data"
    },
    {
     "data": {
      "text/html": [
       "<html>\\(\\displaystyle \\verb|fibonacci_ite(| 77 \\verb|)|\\verb| |\\verb|=| 5527939700884757\\)</html>"
      ],
      "text/latex": [
       "$\\displaystyle \\verb|fibonacci_ite(| 77 \\verb|)|\\verb| |\\verb|=| 5527939700884757$"
      ],
      "text/plain": [
       "'fibonacci_ite(' 77 ') = ' 5527939700884757"
      ]
     },
     "metadata": {},
     "output_type": "display_data"
    },
    {
     "data": {
      "text/html": [
       "<html>\\(\\displaystyle \\verb|fibonacci_ite(| 78 \\verb|)|\\verb| |\\verb|=| 8944394323791464\\)</html>"
      ],
      "text/latex": [
       "$\\displaystyle \\verb|fibonacci_ite(| 78 \\verb|)|\\verb| |\\verb|=| 8944394323791464$"
      ],
      "text/plain": [
       "'fibonacci_ite(' 78 ') = ' 8944394323791464"
      ]
     },
     "metadata": {},
     "output_type": "display_data"
    },
    {
     "data": {
      "text/html": [
       "<html>\\(\\displaystyle \\verb|fibonacci_ite(| 79 \\verb|)|\\verb| |\\verb|=| 14472334024676221\\)</html>"
      ],
      "text/latex": [
       "$\\displaystyle \\verb|fibonacci_ite(| 79 \\verb|)|\\verb| |\\verb|=| 14472334024676221$"
      ],
      "text/plain": [
       "'fibonacci_ite(' 79 ') = ' 14472334024676221"
      ]
     },
     "metadata": {},
     "output_type": "display_data"
    },
    {
     "data": {
      "text/html": [
       "<html>\\(\\displaystyle \\verb|fibonacci_ite(| 80 \\verb|)|\\verb| |\\verb|=| 23416728348467685\\)</html>"
      ],
      "text/latex": [
       "$\\displaystyle \\verb|fibonacci_ite(| 80 \\verb|)|\\verb| |\\verb|=| 23416728348467685$"
      ],
      "text/plain": [
       "'fibonacci_ite(' 80 ') = ' 23416728348467685"
      ]
     },
     "metadata": {},
     "output_type": "display_data"
    },
    {
     "data": {
      "text/html": [
       "<html>\\(\\displaystyle \\verb|fibonacci_ite(| 81 \\verb|)|\\verb| |\\verb|=| 37889062373143906\\)</html>"
      ],
      "text/latex": [
       "$\\displaystyle \\verb|fibonacci_ite(| 81 \\verb|)|\\verb| |\\verb|=| 37889062373143906$"
      ],
      "text/plain": [
       "'fibonacci_ite(' 81 ') = ' 37889062373143906"
      ]
     },
     "metadata": {},
     "output_type": "display_data"
    },
    {
     "data": {
      "text/html": [
       "<html>\\(\\displaystyle \\verb|fibonacci_ite(| 82 \\verb|)|\\verb| |\\verb|=| 61305790721611591\\)</html>"
      ],
      "text/latex": [
       "$\\displaystyle \\verb|fibonacci_ite(| 82 \\verb|)|\\verb| |\\verb|=| 61305790721611591$"
      ],
      "text/plain": [
       "'fibonacci_ite(' 82 ') = ' 61305790721611591"
      ]
     },
     "metadata": {},
     "output_type": "display_data"
    },
    {
     "data": {
      "text/html": [
       "<html>\\(\\displaystyle \\verb|fibonacci_ite(| 83 \\verb|)|\\verb| |\\verb|=| 99194853094755497\\)</html>"
      ],
      "text/latex": [
       "$\\displaystyle \\verb|fibonacci_ite(| 83 \\verb|)|\\verb| |\\verb|=| 99194853094755497$"
      ],
      "text/plain": [
       "'fibonacci_ite(' 83 ') = ' 99194853094755497"
      ]
     },
     "metadata": {},
     "output_type": "display_data"
    },
    {
     "data": {
      "text/html": [
       "<html>\\(\\displaystyle \\verb|fibonacci_ite(| 84 \\verb|)|\\verb| |\\verb|=| 160500643816367088\\)</html>"
      ],
      "text/latex": [
       "$\\displaystyle \\verb|fibonacci_ite(| 84 \\verb|)|\\verb| |\\verb|=| 160500643816367088$"
      ],
      "text/plain": [
       "'fibonacci_ite(' 84 ') = ' 160500643816367088"
      ]
     },
     "metadata": {},
     "output_type": "display_data"
    },
    {
     "data": {
      "text/html": [
       "<html>\\(\\displaystyle \\verb|fibonacci_ite(| 85 \\verb|)|\\verb| |\\verb|=| 259695496911122585\\)</html>"
      ],
      "text/latex": [
       "$\\displaystyle \\verb|fibonacci_ite(| 85 \\verb|)|\\verb| |\\verb|=| 259695496911122585$"
      ],
      "text/plain": [
       "'fibonacci_ite(' 85 ') = ' 259695496911122585"
      ]
     },
     "metadata": {},
     "output_type": "display_data"
    },
    {
     "data": {
      "text/html": [
       "<html>\\(\\displaystyle \\verb|fibonacci_ite(| 86 \\verb|)|\\verb| |\\verb|=| 420196140727489673\\)</html>"
      ],
      "text/latex": [
       "$\\displaystyle \\verb|fibonacci_ite(| 86 \\verb|)|\\verb| |\\verb|=| 420196140727489673$"
      ],
      "text/plain": [
       "'fibonacci_ite(' 86 ') = ' 420196140727489673"
      ]
     },
     "metadata": {},
     "output_type": "display_data"
    },
    {
     "data": {
      "text/html": [
       "<html>\\(\\displaystyle \\verb|fibonacci_ite(| 87 \\verb|)|\\verb| |\\verb|=| 679891637638612258\\)</html>"
      ],
      "text/latex": [
       "$\\displaystyle \\verb|fibonacci_ite(| 87 \\verb|)|\\verb| |\\verb|=| 679891637638612258$"
      ],
      "text/plain": [
       "'fibonacci_ite(' 87 ') = ' 679891637638612258"
      ]
     },
     "metadata": {},
     "output_type": "display_data"
    },
    {
     "data": {
      "text/html": [
       "<html>\\(\\displaystyle \\verb|fibonacci_ite(| 88 \\verb|)|\\verb| |\\verb|=| 1100087778366101931\\)</html>"
      ],
      "text/latex": [
       "$\\displaystyle \\verb|fibonacci_ite(| 88 \\verb|)|\\verb| |\\verb|=| 1100087778366101931$"
      ],
      "text/plain": [
       "'fibonacci_ite(' 88 ') = ' 1100087778366101931"
      ]
     },
     "metadata": {},
     "output_type": "display_data"
    },
    {
     "data": {
      "text/html": [
       "<html>\\(\\displaystyle \\verb|fibonacci_ite(| 89 \\verb|)|\\verb| |\\verb|=| 1779979416004714189\\)</html>"
      ],
      "text/latex": [
       "$\\displaystyle \\verb|fibonacci_ite(| 89 \\verb|)|\\verb| |\\verb|=| 1779979416004714189$"
      ],
      "text/plain": [
       "'fibonacci_ite(' 89 ') = ' 1779979416004714189"
      ]
     },
     "metadata": {},
     "output_type": "display_data"
    },
    {
     "data": {
      "text/html": [
       "<html>\\(\\displaystyle \\verb|fibonacci_ite(| 90 \\verb|)|\\verb| |\\verb|=| 2880067194370816120\\)</html>"
      ],
      "text/latex": [
       "$\\displaystyle \\verb|fibonacci_ite(| 90 \\verb|)|\\verb| |\\verb|=| 2880067194370816120$"
      ],
      "text/plain": [
       "'fibonacci_ite(' 90 ') = ' 2880067194370816120"
      ]
     },
     "metadata": {},
     "output_type": "display_data"
    },
    {
     "data": {
      "text/html": [
       "<html>\\(\\displaystyle \\verb|fibonacci_ite(| 91 \\verb|)|\\verb| |\\verb|=| 4660046610375530309\\)</html>"
      ],
      "text/latex": [
       "$\\displaystyle \\verb|fibonacci_ite(| 91 \\verb|)|\\verb| |\\verb|=| 4660046610375530309$"
      ],
      "text/plain": [
       "'fibonacci_ite(' 91 ') = ' 4660046610375530309"
      ]
     },
     "metadata": {},
     "output_type": "display_data"
    },
    {
     "data": {
      "text/html": [
       "<html>\\(\\displaystyle \\verb|fibonacci_ite(| 92 \\verb|)|\\verb| |\\verb|=| 7540113804746346429\\)</html>"
      ],
      "text/latex": [
       "$\\displaystyle \\verb|fibonacci_ite(| 92 \\verb|)|\\verb| |\\verb|=| 7540113804746346429$"
      ],
      "text/plain": [
       "'fibonacci_ite(' 92 ') = ' 7540113804746346429"
      ]
     },
     "metadata": {},
     "output_type": "display_data"
    },
    {
     "data": {
      "text/html": [
       "<html>\\(\\displaystyle \\verb|fibonacci_ite(| 93 \\verb|)|\\verb| |\\verb|=| 12200160415121876738\\)</html>"
      ],
      "text/latex": [
       "$\\displaystyle \\verb|fibonacci_ite(| 93 \\verb|)|\\verb| |\\verb|=| 12200160415121876738$"
      ],
      "text/plain": [
       "'fibonacci_ite(' 93 ') = ' 12200160415121876738"
      ]
     },
     "metadata": {},
     "output_type": "display_data"
    },
    {
     "data": {
      "text/html": [
       "<html>\\(\\displaystyle \\verb|fibonacci_ite(| 94 \\verb|)|\\verb| |\\verb|=| 19740274219868223167\\)</html>"
      ],
      "text/latex": [
       "$\\displaystyle \\verb|fibonacci_ite(| 94 \\verb|)|\\verb| |\\verb|=| 19740274219868223167$"
      ],
      "text/plain": [
       "'fibonacci_ite(' 94 ') = ' 19740274219868223167"
      ]
     },
     "metadata": {},
     "output_type": "display_data"
    },
    {
     "data": {
      "text/html": [
       "<html>\\(\\displaystyle \\verb|fibonacci_ite(| 95 \\verb|)|\\verb| |\\verb|=| 31940434634990099905\\)</html>"
      ],
      "text/latex": [
       "$\\displaystyle \\verb|fibonacci_ite(| 95 \\verb|)|\\verb| |\\verb|=| 31940434634990099905$"
      ],
      "text/plain": [
       "'fibonacci_ite(' 95 ') = ' 31940434634990099905"
      ]
     },
     "metadata": {},
     "output_type": "display_data"
    },
    {
     "data": {
      "text/html": [
       "<html>\\(\\displaystyle \\verb|fibonacci_ite(| 96 \\verb|)|\\verb| |\\verb|=| 51680708854858323072\\)</html>"
      ],
      "text/latex": [
       "$\\displaystyle \\verb|fibonacci_ite(| 96 \\verb|)|\\verb| |\\verb|=| 51680708854858323072$"
      ],
      "text/plain": [
       "'fibonacci_ite(' 96 ') = ' 51680708854858323072"
      ]
     },
     "metadata": {},
     "output_type": "display_data"
    },
    {
     "data": {
      "text/html": [
       "<html>\\(\\displaystyle \\verb|fibonacci_ite(| 97 \\verb|)|\\verb| |\\verb|=| 83621143489848422977\\)</html>"
      ],
      "text/latex": [
       "$\\displaystyle \\verb|fibonacci_ite(| 97 \\verb|)|\\verb| |\\verb|=| 83621143489848422977$"
      ],
      "text/plain": [
       "'fibonacci_ite(' 97 ') = ' 83621143489848422977"
      ]
     },
     "metadata": {},
     "output_type": "display_data"
    },
    {
     "data": {
      "text/html": [
       "<html>\\(\\displaystyle \\verb|fibonacci_ite(| 98 \\verb|)|\\verb| |\\verb|=| 135301852344706746049\\)</html>"
      ],
      "text/latex": [
       "$\\displaystyle \\verb|fibonacci_ite(| 98 \\verb|)|\\verb| |\\verb|=| 135301852344706746049$"
      ],
      "text/plain": [
       "'fibonacci_ite(' 98 ') = ' 135301852344706746049"
      ]
     },
     "metadata": {},
     "output_type": "display_data"
    },
    {
     "data": {
      "text/html": [
       "<html>\\(\\displaystyle \\verb|fibonacci_ite(| 99 \\verb|)|\\verb| |\\verb|=| 218922995834555169026\\)</html>"
      ],
      "text/latex": [
       "$\\displaystyle \\verb|fibonacci_ite(| 99 \\verb|)|\\verb| |\\verb|=| 218922995834555169026$"
      ],
      "text/plain": [
       "'fibonacci_ite(' 99 ') = ' 218922995834555169026"
      ]
     },
     "metadata": {},
     "output_type": "display_data"
    },
    {
     "data": {
      "text/html": [
       "<html>\\(\\displaystyle \\verb|fibonacci_ite(| 100 \\verb|)|\\verb| |\\verb|=| 354224848179261915075\\)</html>"
      ],
      "text/latex": [
       "$\\displaystyle \\verb|fibonacci_ite(| 100 \\verb|)|\\verb| |\\verb|=| 354224848179261915075$"
      ],
      "text/plain": [
       "'fibonacci_ite(' 100 ') = ' 354224848179261915075"
      ]
     },
     "metadata": {},
     "output_type": "display_data"
    }
   ],
   "source": [
    "n = 101\n",
    "for i in range(n):\n",
    "    show(\"fibonacci_ite(\",i,\") = \",fibonacci_ite(i))"
   ]
  },
  {
   "cell_type": "code",
   "execution_count": 7,
   "metadata": {},
   "outputs": [
    {
     "name": "stdout",
     "output_type": "stream",
     "text": [
      "CPU times: user 990 ms, sys: 11.6 ms, total: 1 s\n",
      "Wall time: 1 s\n"
     ]
    }
   ],
   "source": [
    "%time L = fibonacci_ite(710000)\n",
    "### Trouvé expérimentalement"
   ]
  },
  {
   "cell_type": "markdown",
   "metadata": {
    "deletable": false,
    "editable": false,
    "run_control": {
     "frozen": true
    }
   },
   "source": [
    "### Question\n",
    "1. Écrire une fonction `liste_fibonacci` qui prend en entrée $n$ et calcule la liste des $F_k$ pour tout $k < n$. _**Ne pas** utiliser la fonction `fibonacci` !_\n",
    "1. En utilisant `list_plot`, représenter les 100 premiers termes de la suite de Fibonacci."
   ]
  },
  {
   "cell_type": "code",
   "execution_count": 8,
   "metadata": {},
   "outputs": [],
   "source": [
    "def liste_fibonacci(n):\n",
    "    termes = [0,1]\n",
    "    for i in range(2,n):\n",
    "        termes.append(termes[-1] + termes[-2])\n",
    "    return termes"
   ]
  },
  {
   "cell_type": "code",
   "execution_count": 9,
   "metadata": {},
   "outputs": [
    {
     "data": {
      "image/png": "[encoded data removed]",
      "text/plain": [
       "Graphics object consisting of 1 graphics primitive"
      ]
     },
     "execution_count": 9,
     "metadata": {},
     "output_type": "execute_result"
    }
   ],
   "source": [
    "n = 100\n",
    "FK = liste_fibonacci(n)\n",
    "list_plot(FK)"
   ]
  },
  {
   "cell_type": "markdown",
   "metadata": {
    "deletable": false,
    "editable": false,
    "run_control": {
     "frozen": true
    }
   },
   "source": [
    "### Question\n",
    "1. Calculer la liste des valeurs $L_k = \\log_2(F_k)$ pour $0 < k < 1000$. **Attention** pensez bien à enlever le premier élément de la suite  car $\\log_2(F_0)$ n'est pas défini. \n",
    "1. Représenter graphiquement ces valeurs. Que peut-on conjecturer sur la fonction associée: $x \\mapsto \\log_2(Fibonacci(x))$"
   ]
  },
  {
   "cell_type": "code",
   "execution_count": 10,
   "metadata": {},
   "outputs": [],
   "source": [
    "n = 1000\n",
    "LK = list()\n",
    "FK = liste_fibonacci(n)\n",
    "FK.pop(0)\n",
    "for x in FK:\n",
    "    LK.append(log(x,2))"
   ]
  },
  {
   "cell_type": "code",
   "execution_count": 11,
   "metadata": {},
   "outputs": [
    {
     "data": {
      "image/png": "[encoded data removed]",
      "text/plain": [
       "Graphics object consisting of 1 graphics primitive"
      ]
     },
     "execution_count": 11,
     "metadata": {},
     "output_type": "execute_result"
    }
   ],
   "source": [
    "list_plot(LK)"
   ]
  },
  {
   "cell_type": "code",
   "execution_count": 12,
   "metadata": {},
   "outputs": [],
   "source": [
    "### On peut conjecturer que c'est une fonction affine"
   ]
  },
  {
   "cell_type": "markdown",
   "metadata": {
    "deletable": false,
    "editable": false,
    "run_control": {
     "frozen": true
    }
   },
   "source": [
    "### Question\n",
    "La fonction `find_fit` permet de calculer (une approximation de) la fonction définie par les valeurs calculées. Pour cela, on définit un *modèle*, qui est la forme de la fonction voulue : ici on prend une fonction linéaire $f(x) = ax+b$ où $a$ et $b$ sont des inconnues. Ensuite on fournit un ensemble de couples $(x_i,y_i)$ et le modèle à `find_fit`, qui cherche alors les valeurs de $a$ et $b$ qui fournissent la meilleure solution aux équations $y_i = f(x_i)$, dans notre cas $y_i= ax_i+b$.\n",
    "1. Définir les variables symboliques `x`, `a` et `b` et la fonction symbolique $f(x) = ax+b$. \n",
    "1. Définir la liste $E=[ (x, \\log_2(Fibonacci(x))]$ pour $x$ de 1 à 1000.\n",
    "1. Appliquer la fonction `find_fit` à $E$ et $f$ pour trouver les valeurs de $a$ et $b$. Vous devriez obtenir quelques chose de l'odre de `a=0.69424`, `b=-1.1598`.\n",
    "\n"
   ]
  },
  {
   "cell_type": "code",
   "execution_count": 13,
   "metadata": {},
   "outputs": [],
   "source": [
    "x = var('x')\n",
    "a = var('a')\n",
    "b = var('b')\n",
    "f(x) = a*x + b"
   ]
  },
  {
   "cell_type": "code",
   "execution_count": 14,
   "metadata": {},
   "outputs": [],
   "source": [
    "E = list()\n",
    "cpt = 1\n",
    "for x in LK:\n",
    "    E.append((cpt,x))\n",
    "    cpt += 1"
   ]
  },
  {
   "cell_type": "code",
   "execution_count": 15,
   "metadata": {
    "scrolled": false
   },
   "outputs": [
    {
     "data": {
      "text/html": [
       "<html>\\(\\displaystyle \\left[a = 0.6942401412703323, b = \\left(-1.1597827403044478\\right)\\right]\\)</html>"
      ],
      "text/latex": [
       "$\\displaystyle \\left[a = 0.6942401412703323, b = \\left(-1.1597827403044478\\right)\\right]$"
      ],
      "text/plain": [
       "[a == 0.6942401412703323, b == -1.1597827403044478]"
      ]
     },
     "metadata": {},
     "output_type": "display_data"
    }
   ],
   "source": [
    "sols = find_fit(E,f)\n",
    "show(sols)"
   ]
  },
  {
   "cell_type": "markdown",
   "metadata": {
    "deletable": false,
    "editable": false,
    "run_control": {
     "frozen": true
    }
   },
   "source": [
    "### Question\n",
    "1. Récupérer les valeurs des coefficients `a` et `b` calculés : `expr.rhs()` fournit le terme de droite d'une égalité (*right-hand side*).\n",
    "2. Définir une fonction symbolique $F(x)$ qui approche la suite de Fibonacci pour les valeurs entières de $x$. *Chercher à donner l'expression la plus simple possible pour $F$. Attention: a et b ont été calculés à partir du logarithme des valeurs de Fibonacci.* Vous vérifierez votre fonction sur les 15 premières valeurs:\n",
    "`[F(n).round() for n in range(1,15)] == liste_fibonacci(15)[1:]` \n",
    "\n",
    "3. Représenter graphiquement $F$ et la suite de Fibonacci pour comparer de manière plus visible. *Utiliser des couleurs différentes.* Normalement, les points doivent apparaitre sur la courbe."
   ]
  },
  {
   "cell_type": "code",
   "execution_count": 16,
   "metadata": {},
   "outputs": [],
   "source": [
    "a = sols[0].rhs()\n",
    "b = sols[1].rhs()"
   ]
  },
  {
   "cell_type": "code",
   "execution_count": 17,
   "metadata": {},
   "outputs": [
    {
     "data": {
      "text/plain": [
       "True"
      ]
     },
     "execution_count": 17,
     "metadata": {},
     "output_type": "execute_result"
    }
   ],
   "source": [
    "F(x) = 2^(a*x + b)\n",
    "[F(n).round() for n in range(1,15)] == liste_fibonacci(15)[1:]"
   ]
  },
  {
   "cell_type": "code",
   "execution_count": 18,
   "metadata": {},
   "outputs": [
    {
     "data": {
      "image/png": "[encoded data removed]",
      "text/plain": [
       "Graphics object consisting of 2 graphics primitives"
      ]
     },
     "execution_count": 18,
     "metadata": {},
     "output_type": "execute_result"
    }
   ],
   "source": [
    "n = 15\n",
    "plot(F,color='red',xmax=n) + list_plot(liste_fibonacci(n),color='blue')"
   ]
  },
  {
   "cell_type": "markdown",
   "metadata": {
    "deletable": false,
    "editable": false,
    "run_control": {
     "frozen": true
    }
   },
   "source": [
    "## Calcul exact de la suite de Fibonacci\n",
    "Dans la première partie, on a vu comment trouver une fonction qui permettait d'approcher très finement la suite de Fibonacci. On cherche maintenant une expression la plus exacte possible de $F_n$ en fonction de $n$, toujours en utilisant les capacités de calcul de SageMath."
   ]
  },
  {
   "cell_type": "markdown",
   "metadata": {
    "deletable": false,
    "editable": false,
    "run_control": {
     "frozen": true
    }
   },
   "source": [
    "### Question\n",
    "On a vu que $F_n$ a une croissance exponentielle. Pour trouver une formule pour $F_n$, on commence par chercher les valeurs de $\\alpha$ telles que $\\alpha^n$ satisfasse l'équation de récurrence de $F_n$, sans s'occuper des cas de base.\n",
    "1. Définir les variables $n$ et $\\alpha$, et définir l'équation, que vous nommerez `eq`, qu'on souhaite résoudre sur $\\alpha$.\n",
    "2. Utiliser `solve` pour trouver les solutions de l'équation `eq` en fonction de $\\alpha$. *Si nécessaire, aider SageMath en écrivant l'équation sous la forme `... == 0`, et en factorisant l'équation à l'aide de `factor` avant de demander la résolution.*\n",
    "3. Vérifier de manière symbolique que $\\alpha^n$ satisfait bien l'équation de récurrence, pour chacune des solutions $\\alpha$ trouvées (il y en a 3). *Pour forcer SageMath à vérifier une équation, on peut utiliser `bool(...)`.*"
   ]
  },
  {
   "cell_type": "code",
   "execution_count": 19,
   "metadata": {},
   "outputs": [],
   "source": [
    "n = var('n')\n",
    "a = var('a',latex_name='\\\\alpha')"
   ]
  },
  {
   "cell_type": "code",
   "execution_count": 20,
   "metadata": {},
   "outputs": [
    {
     "data": {
      "text/html": [
       "<html>\\(\\displaystyle {\\alpha}^{n + 2} - {\\alpha}^{n + 1} - {\\alpha}^{n} = 0\\)</html>"
      ],
      "text/latex": [
       "$\\displaystyle {\\alpha}^{n + 2} - {\\alpha}^{n + 1} - {\\alpha}^{n} = 0$"
      ],
      "text/plain": [
       "a^(n + 2) - a^(n + 1) - a^n == 0"
      ]
     },
     "metadata": {},
     "output_type": "display_data"
    }
   ],
   "source": [
    "eq = a^(n+2) - a^(n+1) - a^n == 0\n",
    "show(eq)"
   ]
  },
  {
   "cell_type": "code",
   "execution_count": 21,
   "metadata": {},
   "outputs": [
    {
     "data": {
      "text/html": [
       "<html>\\(\\displaystyle \\left[{\\alpha} = -\\frac{1}{2} \\, \\sqrt{5} + \\frac{1}{2}, {\\alpha} = \\frac{1}{2} \\, \\sqrt{5} + \\frac{1}{2}, {\\alpha} = 0\\right]\\)</html>"
      ],
      "text/latex": [
       "$\\displaystyle \\left[{\\alpha} = -\\frac{1}{2} \\, \\sqrt{5} + \\frac{1}{2}, {\\alpha} = \\frac{1}{2} \\, \\sqrt{5} + \\frac{1}{2}, {\\alpha} = 0\\right]$"
      ],
      "text/plain": [
       "[a == -1/2*sqrt(5) + 1/2, a == 1/2*sqrt(5) + 1/2, a == 0]"
      ]
     },
     "metadata": {},
     "output_type": "display_data"
    }
   ],
   "source": [
    "lsol = solve(eq.factor(),a)\n",
    "show(lsol)\n",
    "a1 = lsol[0].rhs()\n",
    "a2 = lsol[1].rhs()\n",
    "a3 = lsol[2].rhs()"
   ]
  },
  {
   "cell_type": "code",
   "execution_count": 22,
   "metadata": {},
   "outputs": [
    {
     "data": {
      "text/html": [
       "<html>\\(\\displaystyle \\mathrm{True}\\)</html>"
      ],
      "text/latex": [
       "$\\displaystyle \\mathrm{True}$"
      ],
      "text/plain": [
       "True"
      ]
     },
     "metadata": {},
     "output_type": "display_data"
    },
    {
     "data": {
      "text/html": [
       "<html>\\(\\displaystyle \\mathrm{True}\\)</html>"
      ],
      "text/latex": [
       "$\\displaystyle \\mathrm{True}$"
      ],
      "text/plain": [
       "True"
      ]
     },
     "metadata": {},
     "output_type": "display_data"
    },
    {
     "data": {
      "text/html": [
       "<html>\\(\\displaystyle \\mathrm{True}\\)</html>"
      ],
      "text/latex": [
       "$\\displaystyle \\mathrm{True}$"
      ],
      "text/plain": [
       "True"
      ]
     },
     "metadata": {},
     "output_type": "display_data"
    }
   ],
   "source": [
    "show(bool(eq.subs(a=a1)))\n",
    "show(bool(eq.subs(a=a2)))\n",
    "show(bool(eq.subs(a=a3)))"
   ]
  },
  {
   "cell_type": "markdown",
   "metadata": {
    "deletable": false,
    "editable": false,
    "run_control": {
     "frozen": true
    }
   },
   "source": [
    "### Question\n",
    "On a trouvé trois solutions $\\alpha_i$ qui satisfont l'équation de récurrence, mais sans faire attention aux conditions initiales. En effet, les $\\alpha_i$ vérifient tous l'équation de récurrence ($\\alpha_i^{n+2} = \\alpha_i^{n+1}+\\alpha_i^{n})$ mais on doit vérfier si ces $\\alpha_i$ valident aussi les valeurs initiales de la suite, i.e. $F_0=\\alpha_i^0=0$ et $F_1=\\alpha_i^1=1$.\n",
    "1. Est-ce que l'une des solutions $\\alpha_i$ satisfait les conditions initiales de la suite de Fibonacci ?\n",
    "2. Vérifier que si on a deux solutions $\\alpha_1^n$ et $\\alpha_2^n$, alors toute *combinaison linéaire* de ces deux solutions satisfait l'équation de récurrence. *Pour cela, définir des variables symboliques $c_1$ et $c_2$ et vérifier que $c_1\\alpha_1^n+c_2\\alpha_2^n$ satisfait la récurrence.*\n",
    "3. On cherche $c_1$ et $c_2$ telles que $c_1\\alpha_1^n+c_2\\alpha_2^n$ satisfasse les conditions initiales. Écrire l'équation correspondante et la résoudre à l'aide de `solve`. **Attention** les inconnus à trouver sont $c_1$ et $c_2$."
   ]
  },
  {
   "cell_type": "code",
   "execution_count": 23,
   "metadata": {},
   "outputs": [
    {
     "data": {
      "text/html": [
       "<html>\\(\\displaystyle \\mathrm{False}\\)</html>"
      ],
      "text/latex": [
       "$\\displaystyle \\mathrm{False}$"
      ],
      "text/plain": [
       "False"
      ]
     },
     "metadata": {},
     "output_type": "display_data"
    },
    {
     "data": {
      "text/html": [
       "<html>\\(\\displaystyle \\mathrm{False}\\)</html>"
      ],
      "text/latex": [
       "$\\displaystyle \\mathrm{False}$"
      ],
      "text/plain": [
       "False"
      ]
     },
     "metadata": {},
     "output_type": "display_data"
    },
    {
     "data": {
      "text/html": [
       "<html>\\(\\displaystyle \\mathrm{False}\\)</html>"
      ],
      "text/latex": [
       "$\\displaystyle \\mathrm{False}$"
      ],
      "text/plain": [
       "False"
      ]
     },
     "metadata": {},
     "output_type": "display_data"
    }
   ],
   "source": [
    "eqF1 = a**0 == 0\n",
    "eqF2 = a**1 == 1\n",
    "show(bool(eqF1.subs(a=a1) and bool(eqF2.subs(a=a1))))\n",
    "show(bool(eqF1.subs(a=a2) and bool(eqF2.subs(a=a2))))\n",
    "show(bool(eqF1.subs(a=a3)) and bool(eqF1.subs(a=a3)))"
   ]
  },
  {
   "cell_type": "code",
   "execution_count": 24,
   "metadata": {
    "scrolled": true
   },
   "outputs": [
    {
     "data": {
      "text/plain": [
       "True"
      ]
     },
     "execution_count": 24,
     "metadata": {},
     "output_type": "execute_result"
    }
   ],
   "source": [
    "var('c1 c2')\n",
    "expr = (c1*(a1^(n+2)) + c2*(a2^(n+2))) - (c1*(a1^(n+1)) + c2*(a2^(n+1))) - (c1*(a1^n) + c2*(a2^n))\n",
    "eq = expr == 0\n",
    "bool(eq)"
   ]
  },
  {
   "cell_type": "code",
   "execution_count": 25,
   "metadata": {},
   "outputs": [
    {
     "data": {
      "text/html": [
       "<html>\\(\\displaystyle \\left[\\left[c_{1} = -\\frac{1}{5} \\, \\sqrt{5}, c_{2} = \\frac{1}{5} \\, \\sqrt{5}\\right]\\right]\\)</html>"
      ],
      "text/latex": [
       "$\\displaystyle \\left[\\left[c_{1} = -\\frac{1}{5} \\, \\sqrt{5}, c_{2} = \\frac{1}{5} \\, \\sqrt{5}\\right]\\right]$"
      ],
      "text/plain": [
       "[[c1 == -1/5*sqrt(5), c2 == 1/5*sqrt(5)]]"
      ]
     },
     "metadata": {},
     "output_type": "display_data"
    }
   ],
   "source": [
    "eq0 = c1 + c2 == 0\n",
    "eq1 = c1*a1 + c2*a2 == 1\n",
    "lsol2 = solve([eq0,eq1],c1,c2)\n",
    "show(lsol2)\n",
    "c1r = lsol2[0][0].rhs()\n",
    "c2r = lsol2[0][1].rhs()"
   ]
  },
  {
   "cell_type": "markdown",
   "metadata": {
    "deletable": false,
    "editable": false,
    "run_control": {
     "frozen": true
    }
   },
   "source": [
    "### Question\n",
    "1. D'après les résultats précédents, définir une fonction $G$ telle que $G(n) = F_n$ pour tout $n\\ge 0$.\n",
    "2. Vérifier que la fonction trouvée est correcte, pour tout $0\\leq n < 100$.\n",
    "2. Définir la liste des valeurs $F(n)/G(n)$ pour $n = 1$ à $100$, où $F$ est la fonction numérique définie à la question **1.6.**. Utiliser la fonction `list_plot` pour afficher les points et valider que la fonction $F$ était à peu près correcte."
   ]
  },
  {
   "cell_type": "code",
   "execution_count": 26,
   "metadata": {},
   "outputs": [
    {
     "data": {
      "text/plain": [
       "1.00000000000000"
      ]
     },
     "execution_count": 26,
     "metadata": {},
     "output_type": "execute_result"
    }
   ],
   "source": [
    "var('n')\n",
    "G(n) = (c1r*(a1^n) + c2r*(a2^n))\n",
    "G(1).n()"
   ]
  },
  {
   "cell_type": "code",
   "execution_count": 27,
   "metadata": {},
   "outputs": [
    {
     "data": {
      "text/plain": [
       "True"
      ]
     },
     "execution_count": 27,
     "metadata": {},
     "output_type": "execute_result"
    }
   ],
   "source": [
    "[G(n).round() for n in range(1,100)] == liste_fibonacci(100)[1:]"
   ]
  },
  {
   "cell_type": "code",
   "execution_count": 28,
   "metadata": {},
   "outputs": [
    {
     "data": {
      "image/png": "[encoded data removed]",
      "text/plain": [
       "Graphics object consisting of 1 graphics primitive"
      ]
     },
     "execution_count": 28,
     "metadata": {},
     "output_type": "execute_result"
    }
   ],
   "source": [
    "n = 100\n",
    "R = list()\n",
    "for i in range(1,n):\n",
    "    R.append(F(i)/G(i))\n",
    "list_plot(R)"
   ]
  },
  {
   "cell_type": "markdown",
   "metadata": {
    "deletable": false,
    "editable": false,
    "run_control": {
     "frozen": true
    }
   },
   "source": [
    "## Suites récurrentes linéaires à coefficients constants\n",
    "\n",
    "Dans cette partie, on essaie de répéter les mêmes étapes que celles effectuées pour la suite de Fibonacci, mais avec une suite récurrente linéaire quelconque. De manière générale, une telle suite $(u_n)_{n\\ge 0}$ est définie par $k$ valeurs $u_0$, ..., $u_{k-1}$ et une récurrence d'*ordre $k$* de la forme\n",
    "$$u_{n+k} = a_0u_{n}+a_1u_{n+1}+\\dotsb +a_{k-1}u_{n+k-1}$$\n",
    "pour $n\\ge 0$. Ainsi la suite récurrente $(u_n)$ d'*ordre $k$* est définie par \n",
    "- les $k$ *conditions initiales* $u_0=val_0$, ..., $u_{k-1}=val_{k-1}$;\n",
    "- les $k$ coefficients de l'*équation de récurrence* $a_0$, ..., $a_{k-1}$.\n"
   ]
  },
  {
   "cell_type": "markdown",
   "metadata": {
    "deletable": false,
    "editable": false,
    "run_control": {
     "frozen": true
    }
   },
   "source": [
    "### Question\n",
    "Identifier l'ordre $k$, les conditions initiales et les coefficients de l'équation de récurrence, dans le cas de la suite de Fibonacci."
   ]
  },
  {
   "cell_type": "code",
   "execution_count": 29,
   "metadata": {},
   "outputs": [],
   "source": [
    "### Ordre de Fibonacci = 2\n",
    "### Conditions initiales : Fib(0) = 0 et Fib(1) = 1\n",
    "### Coefficients : a0 = 1 et a1 = 1"
   ]
  },
  {
   "cell_type": "markdown",
   "metadata": {
    "deletable": false,
    "editable": false,
    "run_control": {
     "frozen": true
    }
   },
   "source": [
    "### Question\n",
    "1. Écrire une fonction `suivant`, qui prend en entrée une liste de $k$ termes $u_n$, ..., $u_{n+k-1}$ et la liste des $k$ coefficients $a_0$, ..., $a_{k-1}$, et renvoie le terme $u_{n+k}$. *Vous devez vérifier que les deux listes sont de même taille.*\n",
    "2. En déduire une fonction `liste_termes` qui prend en entrée des conditions initiales et les coefficients de l'équation de récurrence d'une suite $(u_n)$, ainsi qu'un entier $N$, et renvoie la liste $[u_0, ..., u_N]$.\n",
    "3. Vérifier votre fonction en l'appliquant à la suite de Fibonacci et comparant au résultat renvoyé par `liste_fibonacci`."
   ]
  },
  {
   "cell_type": "code",
   "execution_count": 30,
   "metadata": {},
   "outputs": [],
   "source": [
    "def suivant(termes,coeffs):\n",
    "    if(len(termes) != len(coeffs)):\n",
    "        raise ValueError(\"Les deux listes ne sont pas de même tailles\")\n",
    "    R = 0\n",
    "    for i in range(len(termes)):\n",
    "        R += termes[i]*coeffs[i]\n",
    "    return R"
   ]
  },
  {
   "cell_type": "code",
   "execution_count": 31,
   "metadata": {},
   "outputs": [],
   "source": [
    "def liste_termes(conds,coeffs,N):\n",
    "    R = conds[0:min(len(conds),N+1)]\n",
    "    if N < len(conds):\n",
    "        return R\n",
    "    else:\n",
    "        for i in range(len(conds),N+1):\n",
    "            R.append(suivant(R[len(R)-len(coeffs):len(R)], coeffs))\n",
    "    return R"
   ]
  },
  {
   "cell_type": "code",
   "execution_count": 32,
   "metadata": {},
   "outputs": [
    {
     "data": {
      "text/html": [
       "<html>\\(\\displaystyle \\left[0, 1, 1, 2, 3, 5, 8, 13, 21, 34, 55, 89, 144, 233, 377, 610\\right]\\)</html>"
      ],
      "text/latex": [
       "$\\displaystyle \\left[0, 1, 1, 2, 3, 5, 8, 13, 21, 34, 55, 89, 144, 233, 377, 610\\right]$"
      ],
      "text/plain": [
       "[0, 1, 1, 2, 3, 5, 8, 13, 21, 34, 55, 89, 144, 233, 377, 610]"
      ]
     },
     "metadata": {},
     "output_type": "display_data"
    },
    {
     "data": {
      "text/html": [
       "<html>\\(\\displaystyle \\left[0, 1, 1, 2, 3, 5, 8, 13, 21, 34, 55, 89, 144, 233, 377, 610\\right]\\)</html>"
      ],
      "text/latex": [
       "$\\displaystyle \\left[0, 1, 1, 2, 3, 5, 8, 13, 21, 34, 55, 89, 144, 233, 377, 610\\right]$"
      ],
      "text/plain": [
       "[0, 1, 1, 2, 3, 5, 8, 13, 21, 34, 55, 89, 144, 233, 377, 610]"
      ]
     },
     "metadata": {},
     "output_type": "display_data"
    }
   ],
   "source": [
    "LT = liste_termes([0,1],[1,1],15)\n",
    "LF = liste_fibonacci(16)\n",
    "show(LT)\n",
    "show(LF)"
   ]
  },
  {
   "cell_type": "markdown",
   "metadata": {
    "deletable": false,
    "editable": false,
    "run_control": {
     "frozen": true
    }
   },
   "source": [
    "### Question\n",
    "Soit $(u_n)$ définie par $u_{n+5} = 3u_{n+2} + u_n$, avec $u_0 = u_1 = u_2 = u_3 = u_4 = 1$.\n",
    "1. Calculer les 100 premiers termes de la suite $(u_n)$. Les 20 premiers doivents être:\n",
    "\n",
    "`[1, 1, 1, 1, 1, 4, 4, 4, 13, 13, 16, 43, 43, 61, 142, 145, 226, 469, 496, 820]`\n",
    "\n",
    "1. Représenter graphiquement ces points ainsi que leur logarithme en base 2.\n",
    "1. Déterminer numériquement, comme on l'a fait pour la suite de Fibonacci, deux constantes $c$ et $\\alpha$ telles que $u_n$ soit environ égal à $c \\alpha^n$. *Utiliser le graphique, puis `find_fit`*. \n",
    "1. Superposer le tracé de la fonction $f(n) = c\\alpha^n$ avec les points calculés, pour vérifier que le résultat est  peu près correct."
   ]
  },
  {
   "cell_type": "code",
   "execution_count": 33,
   "metadata": {},
   "outputs": [],
   "source": [
    "L = liste_termes([1,1,1,1,1],[1,0,3,0,0],99)"
   ]
  },
  {
   "cell_type": "code",
   "execution_count": 34,
   "metadata": {},
   "outputs": [
    {
     "data": {
      "image/png": "[encoded data removed]",
      "text/plain": [
       "Graphics object consisting of 1 graphics primitive"
      ]
     },
     "metadata": {},
     "output_type": "display_data"
    },
    {
     "data": {
      "image/png": "[encoded data removed]",
      "text/plain": [
       "Graphics object consisting of 1 graphics primitive"
      ]
     },
     "metadata": {},
     "output_type": "display_data"
    }
   ],
   "source": [
    "show(list_plot(L,color='red'))\n",
    "show(list_plot([log(x,2) for x in L],color='blue'))"
   ]
  },
  {
   "cell_type": "code",
   "execution_count": 35,
   "metadata": {},
   "outputs": [
    {
     "data": {
      "text/html": [
       "<html>\\(\\displaystyle 1.5084441841606042\\)</html>"
      ],
      "text/latex": [
       "$\\displaystyle 1.5084441841606042$"
      ],
      "text/plain": [
       "1.5084441841606042"
      ]
     },
     "metadata": {},
     "output_type": "display_data"
    },
    {
     "data": {
      "text/html": [
       "<html>\\(\\displaystyle 0.3633348223264962\\)</html>"
      ],
      "text/latex": [
       "$\\displaystyle 0.3633348223264962$"
      ],
      "text/plain": [
       "0.3633348223264962"
      ]
     },
     "metadata": {},
     "output_type": "display_data"
    }
   ],
   "source": [
    "var('a',latex_name='\\\\alpha')\n",
    "var('c n')\n",
    "\n",
    "L = liste_termes([1,1,1,1,1],[1,0,3,0,0],100)\n",
    "\n",
    "Llog = [log(x,2) for x in L]\n",
    "\n",
    "E = list()\n",
    "cpt = 0\n",
    "for x in Llog:\n",
    "    E.append((cpt,x))\n",
    "    cpt += 1\n",
    "    \n",
    "r(n) = a*n+c\n",
    "sol = find_fit(E,r)\n",
    "\n",
    "a = 2^(sol[0].rhs())\n",
    "c = 2^(sol[1].rhs())\n",
    "\n",
    "show(a)\n",
    "show(c)\n",
    "\n",
    "R(n) = c*(a^n)"
   ]
  },
  {
   "cell_type": "code",
   "execution_count": 36,
   "metadata": {},
   "outputs": [
    {
     "data": {
      "image/png": "[encoded data removed]",
      "text/plain": [
       "Graphics object consisting of 2 graphics primitives"
      ]
     },
     "execution_count": 36,
     "metadata": {},
     "output_type": "execute_result"
    }
   ],
   "source": [
    "plot(R,color='red',xmax=100) + list_plot(L,color='blue')"
   ]
  },
  {
   "cell_type": "markdown",
   "metadata": {
    "deletable": false,
    "editable": false,
    "run_control": {
     "frozen": true
    }
   },
   "source": [
    "## Calcul exact de suites récurrentes linéaires à coefficients constants\n",
    "Mathématiquement, on sait résoudre complètement les suites récurrentes à coefficients constants. Si $(u_n)$ vérifie $u_{n+k} = a_0u_{n}+a_1u_{n+1}+\\dotsb +a_{k-1}u_{n+k-1}$, on définit le *polynôme caractéristique* de $(u_n)$ par $P_u(X) = X^k - (a_{k-1} X^{k-1} + a_{k-2} X^{k-2} + \\dotsb a_1 X + a_0)$. Les racines de ce polynôme $P_u(X)$ permettent de trouver le terme général de la suite, vous verrez comment un peu plus loin."
   ]
  },
  {
   "cell_type": "markdown",
   "metadata": {
    "deletable": false,
    "editable": false,
    "run_control": {
     "frozen": true
    }
   },
   "source": [
    "### Question\n",
    "1. Définir l'anneau des polynômes en une variable à coefficients rationnels, avec la commande `R.<X> = QQ[]`.\n",
    "1. Écrire une fonction `poly_car` qui, étant donné les coefficients $a_0$, …, $a_{k-1}$ d'une suite récurrente linéaire, renvoie le polynôme caractéristique de cette suite. Le polynôme aura des coefficients rationnels\n",
    "1. Calculer le polynôme caractéristique $P_F$ de la suite de Fibonacci. Calculer ses racines. *Remarque : le polynôme n'a pas de racines rationnelles, il faut donc calculer ses racines dans un ensemble plus grand avec `P_F.roots(...)`, où les `...` doivent être remplacés par le bon ensemble.*\n",
    "1. Calculer de même le polynôme caractéristique de la suite de la question précédente ($u_{n+5} = 3u_{n+2}+u_n$) ainsi que ses racines (de manière approchée). Quelle valeur calculée précédemment retrouvez-vous approximativement ?"
   ]
  },
  {
   "cell_type": "code",
   "execution_count": 37,
   "metadata": {},
   "outputs": [],
   "source": [
    "R.<X> = QQ[]\n",
    "### On définit la variable X comme l’indéterminée de l’anneau de poly-nômes"
   ]
  },
  {
   "cell_type": "code",
   "execution_count": 38,
   "metadata": {},
   "outputs": [],
   "source": [
    "def poly_car(coeffs):\n",
    "    k = len(coeffs)\n",
    "    res = 0\n",
    "    for i in range(k):\n",
    "        res += coeffs[i] * X^(i)\n",
    "    return X^(k) - res"
   ]
  },
  {
   "cell_type": "code",
   "execution_count": 39,
   "metadata": {},
   "outputs": [
    {
     "data": {
      "text/plain": [
       "[(-0.618033988749895, 1), (1.61803398874989, 1)]"
      ]
     },
     "execution_count": 39,
     "metadata": {},
     "output_type": "execute_result"
    }
   ],
   "source": [
    "PF = poly_car([1,1])\n",
    "PF.roots(RR)\n",
    "### Je ne trouve pas comment avoir l'expression symbolique des racines"
   ]
  },
  {
   "cell_type": "code",
   "execution_count": 40,
   "metadata": {},
   "outputs": [
    {
     "data": {
      "text/html": [
       "<html>\\(\\displaystyle \\left[\\left(1.50941045653627, 1\\right), \\left(-0.772719230787847 - 1.18582984362829i, 1\\right), \\left(-0.772719230787847 + 1.18582984362829i, 1\\right), \\left(0.0180140025197116 - 0.574793057566951i, 1\\right), \\left(0.0180140025197116 + 0.574793057566951i, 1\\right)\\right]\\)</html>"
      ],
      "text/latex": [
       "$\\displaystyle \\left[\\left(1.50941045653627, 1\\right), \\left(-0.772719230787847 - 1.18582984362829i, 1\\right), \\left(-0.772719230787847 + 1.18582984362829i, 1\\right), \\left(0.0180140025197116 - 0.574793057566951i, 1\\right), \\left(0.0180140025197116 + 0.574793057566951i, 1\\right)\\right]$"
      ],
      "text/plain": [
       "[(1.50941045653627, 1),\n",
       " (-0.772719230787847 - 1.18582984362829*I, 1),\n",
       " (-0.772719230787847 + 1.18582984362829*I, 1),\n",
       " (0.0180140025197116 - 0.574793057566951*I, 1),\n",
       " (0.0180140025197116 + 0.574793057566951*I, 1)]"
      ]
     },
     "metadata": {},
     "output_type": "display_data"
    }
   ],
   "source": [
    "PS = poly_car([1,0,3,0,0])\n",
    "show(PS.roots(CC))\n",
    "### On retrouve approximativement a ≈ 1.508, que l'on a calculé à la question 3.3)"
   ]
  },
  {
   "cell_type": "markdown",
   "metadata": {
    "deletable": false,
    "editable": false,
    "run_control": {
     "frozen": true
    }
   },
   "source": [
    "### Question\n",
    "La théorie des suites récurrentes linéaires à coefficients constants fournit la valeur de $u_n$ en fonction des racines de son polynôme caractéristique $P$. Si le polynôme possède $k$ racines distintes $r_1$, …, $r_k$, alors $u_n = c_1 r_1^n + c_2 r_2^n + \\dotsb + c_kr_k^n$. On dit que $c_1 r_1^n + c_2 r_2^n + \\dotsb + c_kr_k^n$ est le terme général de la suite car on ne connait que les valeurs des $r_i$.\n",
    "Les coefficients $c_i$ devront être déterminés à partir des valeurs initiales de la suite, $u_0$ à $u_{k-1}$.\n",
    "\n",
    "1. Écrire une fonction `terme_general` qui prend en entrée les coefficients $a_0$, …, $a_{k-1}$ d'une suite récurrente linéaire, et renvoie le terme général de la suite *si toutes les racines de son polynôme caractéristique sont distinctes* (c'est-à-dire de multiplicité $1$). Si le polynôme caractéristique n'a pas que des racines simples, on soulèvera une exception avec `raise ValueError(\"le polynôme a des racines multiples\")`. Vous chercherez les racines de $P$ dans les nombres complexes.\n",
    "_**Remarque importante.** La fonction ne prend pas en entrée les valeurs initiales : elle doit donc renvoyer une expression avec des variables symboliques $c_i$. Pour en définir $k$ d'un coup (ici $4$), il faut créer une chaîne de caractère `\"c0 c1 c2 c3\"` puis appeler `c = var(\"c0 c1 c2 c3\")` : on obtient `c3` avec `c[3]` par exemple._\n",
    "1. Tester la fonction avec la suite de Fibonacci, et la suite $u_{n+5} = 3u_{n+2} + u_n$."
   ]
  },
  {
   "cell_type": "code",
   "execution_count": 41,
   "metadata": {},
   "outputs": [],
   "source": [
    "def terme_general(coeffs):\n",
    "    k = len(coeffs)\n",
    "    racines = []\n",
    "    str = \"c0\"\n",
    "    res = 0\n",
    "    \n",
    "    for i in range(1,k):\n",
    "        str += \" c{}\".format(i)\n",
    "    c = var(str)\n",
    "    var('n')\n",
    "    symbole = 0\n",
    "    \n",
    "    poly = poly_car(coeffs)\n",
    "    if len(poly.roots(CC)) > len(poly.roots(RR)): ### Disjonction de cas car Sage se permet trop de transformations si l'on cherche d'office dans les complexes\n",
    "        for x in poly.roots(CC):\n",
    "            if x[1] > 1:\n",
    "                raise ValueError(\"Le polynôme a des racines multiples\")\n",
    "            res += c[symbole] * x[0]^n\n",
    "            symbole += 1\n",
    "\n",
    "    else:\n",
    "        for x in poly.roots(RR):\n",
    "            if x[1] > 1:\n",
    "                raise ValueError(\"Le polynôme a des racines multiples\")\n",
    "            res += c[symbole] * x[0]^n\n",
    "            symbole += 1\n",
    "            \n",
    "    return res"
   ]
  },
  {
   "cell_type": "code",
   "execution_count": 42,
   "metadata": {},
   "outputs": [
    {
     "data": {
      "text/html": [
       "<html>\\(\\displaystyle \\left(-0.618033988749895\\right)^{n} c_{0} + 1.61803398874989^{n} c_{1}\\)</html>"
      ],
      "text/latex": [
       "$\\displaystyle \\left(-0.618033988749895\\right)^{n} c_{0} + 1.61803398874989^{n} c_{1}$"
      ],
      "text/plain": [
       "(-0.618033988749895)^n*c0 + 1.61803398874989^n*c1"
      ]
     },
     "metadata": {},
     "output_type": "display_data"
    },
    {
     "data": {
      "text/html": [
       "<html>\\(\\displaystyle c_{0} e^{\\left(0.411719148455786 \\, n\\right)} + c_{2} e^{\\left(\\left(0.347394772487646 + 2.14831474661924i\\right) \\, n\\right)} + c_{1} e^{\\left(\\left(0.347394772487646 - 2.14831474661924i\\right) \\, n\\right)} + c_{4} e^{\\left(-\\left(0.553254346715540 - 1.53946660211288i\\right) \\, n\\right)} + c_{3} e^{\\left(-\\left(0.553254346715540 + 1.53946660211288i\\right) \\, n\\right)}\\)</html>"
      ],
      "text/latex": [
       "$\\displaystyle c_{0} e^{\\left(0.411719148455786 \\, n\\right)} + c_{2} e^{\\left(\\left(0.347394772487646 + 2.14831474661924i\\right) \\, n\\right)} + c_{1} e^{\\left(\\left(0.347394772487646 - 2.14831474661924i\\right) \\, n\\right)} + c_{4} e^{\\left(-\\left(0.553254346715540 - 1.53946660211288i\\right) \\, n\\right)} + c_{3} e^{\\left(-\\left(0.553254346715540 + 1.53946660211288i\\right) \\, n\\right)}$"
      ],
      "text/plain": [
       "c0*e^(0.411719148455786*n) + c2*e^((0.347394772487646 + 2.14831474661924*I)*n) + c1*e^((0.347394772487646 - 2.14831474661924*I)*n) + c4*e^(-(0.553254346715540 - 1.53946660211288*I)*n) + c3*e^(-(0.553254346715540 + 1.53946660211288*I)*n)"
      ]
     },
     "metadata": {},
     "output_type": "display_data"
    }
   ],
   "source": [
    "FB = terme_general([1,1])\n",
    "FS = terme_general([1,0,3,0,0])\n",
    "show(FB)\n",
    "show(FS)\n",
    "### On se retrouve avec des exp car a^n = exp(n*ln(a)) et car on cherche les racines dans C"
   ]
  },
  {
   "cell_type": "markdown",
   "metadata": {
    "deletable": false,
    "editable": false,
    "run_control": {
     "frozen": true
    }
   },
   "source": [
    "### Question\n",
    "Afin d'obtenir la valeur finale de $u_n$, il faut prendre en compte les conditions initiales $u_0$, …, $u_{k-1}$. Pour cela, si on a trouvé une fonction $U(n)$ avec des variables symboliques $c_i$, il faut résoudre $U(i) = u_i$ pour $i =0$ à $k-1$ pour trouver les valeurs des $c_i$.\n",
    "1. À la main, résoudre les équations pour la suite de Fibonacci, et trouver l'expression de $F_n$. L'évaluer sur $n=0$ à $10$ pour vérifier que c'est correct.\n",
    "1. Écrire une fonction `conditions_initiales` qui prend en entrée l'expression renvoyée par `terme_general` et la liste $[u_0, \\dots, u_{k-1}]$ des conditions initiales, et renvoie l'expression modifiée en remplaçant les $c_i$ par leurs valeurs. *On peut obtenir la liste des variables d'une expression avec `expr.variables()`.*\n",
    "1. Appliquer la fonction sur le terme général de Fibonacci et de la suite $u_{n+5} = 3u_{n+2} + u_n$ avec $u_k = 1$ pour $k < 5$.\n",
    "1. Vérifiez qu'on retrouve bien (environ) les bonnes valeurs des suites. Comment expliquer que les valeurs ne soient pas tout à fait correctes ?"
   ]
  },
  {
   "cell_type": "code",
   "execution_count": 43,
   "metadata": {},
   "outputs": [
    {
     "data": {
      "text/html": [
       "<html>\\(\\displaystyle \\left[c_{0} + c_{1} = 0, -0.618033988749895 \\, c_{0} + 1.61803398874989 \\, c_{1} = 1\\right]\\)</html>"
      ],
      "text/latex": [
       "$\\displaystyle \\left[c_{0} + c_{1} = 0, -0.618033988749895 \\, c_{0} + 1.61803398874989 \\, c_{1} = 1\\right]$"
      ],
      "text/plain": [
       "[c0 + c1 == 0, -0.618033988749895*c0 + 1.61803398874989*c1 == 1]"
      ]
     },
     "metadata": {},
     "output_type": "display_data"
    },
    {
     "data": {
      "text/html": [
       "<html>\\(\\displaystyle 0\\)</html>"
      ],
      "text/latex": [
       "$\\displaystyle 0$"
      ],
      "text/plain": [
       "0"
      ]
     },
     "metadata": {},
     "output_type": "display_data"
    },
    {
     "data": {
      "text/html": [
       "<html>\\(\\displaystyle 1.00000000000000\\)</html>"
      ],
      "text/latex": [
       "$\\displaystyle 1.00000000000000$"
      ],
      "text/plain": [
       "1.00000000000000"
      ]
     },
     "metadata": {},
     "output_type": "display_data"
    },
    {
     "data": {
      "text/html": [
       "<html>\\(\\displaystyle 1.00000000000000\\)</html>"
      ],
      "text/latex": [
       "$\\displaystyle 1.00000000000000$"
      ],
      "text/plain": [
       "1.00000000000000"
      ]
     },
     "metadata": {},
     "output_type": "display_data"
    },
    {
     "data": {
      "text/html": [
       "<html>\\(\\displaystyle 2.00000000000000\\)</html>"
      ],
      "text/latex": [
       "$\\displaystyle 2.00000000000000$"
      ],
      "text/plain": [
       "2.00000000000000"
      ]
     },
     "metadata": {},
     "output_type": "display_data"
    },
    {
     "data": {
      "text/html": [
       "<html>\\(\\displaystyle 3.00000000000000\\)</html>"
      ],
      "text/latex": [
       "$\\displaystyle 3.00000000000000$"
      ],
      "text/plain": [
       "3.00000000000000"
      ]
     },
     "metadata": {},
     "output_type": "display_data"
    },
    {
     "data": {
      "text/html": [
       "<html>\\(\\displaystyle 5.00000000000000\\)</html>"
      ],
      "text/latex": [
       "$\\displaystyle 5.00000000000000$"
      ],
      "text/plain": [
       "5.00000000000000"
      ]
     },
     "metadata": {},
     "output_type": "display_data"
    },
    {
     "data": {
      "text/html": [
       "<html>\\(\\displaystyle 8.00000000000000\\)</html>"
      ],
      "text/latex": [
       "$\\displaystyle 8.00000000000000$"
      ],
      "text/plain": [
       "8.00000000000000"
      ]
     },
     "metadata": {},
     "output_type": "display_data"
    },
    {
     "data": {
      "text/html": [
       "<html>\\(\\displaystyle 13.0000000000000\\)</html>"
      ],
      "text/latex": [
       "$\\displaystyle 13.0000000000000$"
      ],
      "text/plain": [
       "13.0000000000000"
      ]
     },
     "metadata": {},
     "output_type": "display_data"
    },
    {
     "data": {
      "text/html": [
       "<html>\\(\\displaystyle 21.0000000000000\\)</html>"
      ],
      "text/latex": [
       "$\\displaystyle 21.0000000000000$"
      ],
      "text/plain": [
       "21.0000000000000"
      ]
     },
     "metadata": {},
     "output_type": "display_data"
    },
    {
     "data": {
      "text/html": [
       "<html>\\(\\displaystyle 34.0000000000000\\)</html>"
      ],
      "text/latex": [
       "$\\displaystyle 34.0000000000000$"
      ],
      "text/plain": [
       "34.0000000000000"
      ]
     },
     "metadata": {},
     "output_type": "display_data"
    }
   ],
   "source": [
    "FB = terme_general([1,1])\n",
    "eq0 = FB.subs(n=0) == 0\n",
    "eq1 = FB.subs(n=1) == 1\n",
    "show([eq0,eq1])\n",
    "sols = solve([eq0,eq1],(c0,c1))\n",
    "c0 = sols[0][0].rhs()\n",
    "c1 = sols[0][1].rhs()\n",
    "F(n) = FB.subs(c0=c0,c1=c1)\n",
    "for i in range(10):\n",
    "    show(F(i))\n",
    "### On retrouve bien les valeurs de la suite de Fibonacci"
   ]
  },
  {
   "cell_type": "code",
   "execution_count": 44,
   "metadata": {},
   "outputs": [],
   "source": [
    "def conditions_initiales(terme_general,conds):\n",
    "    variables_tuples = terme_general.variables()\n",
    "    variables = list(variables_tuples)\n",
    "    variables.remove(n)\n",
    "    \n",
    "    liste_equations = list()\n",
    "    for i in range(len(conds)):\n",
    "        liste_equations.append(terme_general.subs(n=i) == conds[i])\n",
    "    \n",
    "    sols = solve(liste_equations,variables)\n",
    "    \n",
    "    return terme_general.subs(sols)"
   ]
  },
  {
   "cell_type": "code",
   "execution_count": 45,
   "metadata": {},
   "outputs": [
    {
     "data": {
      "text/html": [
       "<html>\\(\\displaystyle \\verb|FB(| 0 \\verb|)|\\verb| |\\verb|=| 0\\)</html>"
      ],
      "text/latex": [
       "$\\displaystyle \\verb|FB(| 0 \\verb|)|\\verb| |\\verb|=| 0$"
      ],
      "text/plain": [
       "'FB(' 0 ') =' 0"
      ]
     },
     "metadata": {},
     "output_type": "display_data"
    },
    {
     "data": {
      "text/html": [
       "<html>\\(\\displaystyle \\verb|FB(| 1 \\verb|)|\\verb| |\\verb|=| 1.00000000000000\\)</html>"
      ],
      "text/latex": [
       "$\\displaystyle \\verb|FB(| 1 \\verb|)|\\verb| |\\verb|=| 1.00000000000000$"
      ],
      "text/plain": [
       "'FB(' 1 ') =' 1.00000000000000"
      ]
     },
     "metadata": {},
     "output_type": "display_data"
    },
    {
     "data": {
      "text/html": [
       "<html>\\(\\displaystyle \\verb|FB(| 2 \\verb|)|\\verb| |\\verb|=| 1.00000000000000\\)</html>"
      ],
      "text/latex": [
       "$\\displaystyle \\verb|FB(| 2 \\verb|)|\\verb| |\\verb|=| 1.00000000000000$"
      ],
      "text/plain": [
       "'FB(' 2 ') =' 1.00000000000000"
      ]
     },
     "metadata": {},
     "output_type": "display_data"
    },
    {
     "data": {
      "text/html": [
       "<html>\\(\\displaystyle \\verb|FB(| 3 \\verb|)|\\verb| |\\verb|=| 2.00000000000000\\)</html>"
      ],
      "text/latex": [
       "$\\displaystyle \\verb|FB(| 3 \\verb|)|\\verb| |\\verb|=| 2.00000000000000$"
      ],
      "text/plain": [
       "'FB(' 3 ') =' 2.00000000000000"
      ]
     },
     "metadata": {},
     "output_type": "display_data"
    },
    {
     "data": {
      "text/html": [
       "<html>\\(\\displaystyle \\verb|FB(| 4 \\verb|)|\\verb| |\\verb|=| 3.00000000000000\\)</html>"
      ],
      "text/latex": [
       "$\\displaystyle \\verb|FB(| 4 \\verb|)|\\verb| |\\verb|=| 3.00000000000000$"
      ],
      "text/plain": [
       "'FB(' 4 ') =' 3.00000000000000"
      ]
     },
     "metadata": {},
     "output_type": "display_data"
    },
    {
     "data": {
      "text/html": [
       "<html>\\(\\displaystyle \\verb|FB(| 5 \\verb|)|\\verb| |\\verb|=| 5.00000000000000\\)</html>"
      ],
      "text/latex": [
       "$\\displaystyle \\verb|FB(| 5 \\verb|)|\\verb| |\\verb|=| 5.00000000000000$"
      ],
      "text/plain": [
       "'FB(' 5 ') =' 5.00000000000000"
      ]
     },
     "metadata": {},
     "output_type": "display_data"
    },
    {
     "data": {
      "text/html": [
       "<html>\\(\\displaystyle \\verb|FB(| 6 \\verb|)|\\verb| |\\verb|=| 8.00000000000000\\)</html>"
      ],
      "text/latex": [
       "$\\displaystyle \\verb|FB(| 6 \\verb|)|\\verb| |\\verb|=| 8.00000000000000$"
      ],
      "text/plain": [
       "'FB(' 6 ') =' 8.00000000000000"
      ]
     },
     "metadata": {},
     "output_type": "display_data"
    },
    {
     "data": {
      "text/html": [
       "<html>\\(\\displaystyle \\verb|FB(| 7 \\verb|)|\\verb| |\\verb|=| 13.0000000000000\\)</html>"
      ],
      "text/latex": [
       "$\\displaystyle \\verb|FB(| 7 \\verb|)|\\verb| |\\verb|=| 13.0000000000000$"
      ],
      "text/plain": [
       "'FB(' 7 ') =' 13.0000000000000"
      ]
     },
     "metadata": {},
     "output_type": "display_data"
    },
    {
     "data": {
      "text/html": [
       "<html>\\(\\displaystyle \\verb|FB(| 8 \\verb|)|\\verb| |\\verb|=| 21.0000000000000\\)</html>"
      ],
      "text/latex": [
       "$\\displaystyle \\verb|FB(| 8 \\verb|)|\\verb| |\\verb|=| 21.0000000000000$"
      ],
      "text/plain": [
       "'FB(' 8 ') =' 21.0000000000000"
      ]
     },
     "metadata": {},
     "output_type": "display_data"
    },
    {
     "data": {
      "text/html": [
       "<html>\\(\\displaystyle \\verb|FB(| 9 \\verb|)|\\verb| |\\verb|=| 34.0000000000000\\)</html>"
      ],
      "text/latex": [
       "$\\displaystyle \\verb|FB(| 9 \\verb|)|\\verb| |\\verb|=| 34.0000000000000$"
      ],
      "text/plain": [
       "'FB(' 9 ') =' 34.0000000000000"
      ]
     },
     "metadata": {},
     "output_type": "display_data"
    },
    {
     "data": {
      "text/html": [
       "<html>\\(\\displaystyle \\verb|FS(| 0 \\verb|)|\\verb| |\\verb|=| 1\\)</html>"
      ],
      "text/latex": [
       "$\\displaystyle \\verb|FS(| 0 \\verb|)|\\verb| |\\verb|=| 1$"
      ],
      "text/plain": [
       "'FS(' 0 ') =' 1"
      ]
     },
     "metadata": {},
     "output_type": "display_data"
    },
    {
     "data": {
      "text/html": [
       "<html>\\(\\displaystyle \\verb|FS(| 1 \\verb|)|\\verb| |\\verb|=| 1.00000000000000\\)</html>"
      ],
      "text/latex": [
       "$\\displaystyle \\verb|FS(| 1 \\verb|)|\\verb| |\\verb|=| 1.00000000000000$"
      ],
      "text/plain": [
       "'FS(' 1 ') =' 1.00000000000000"
      ]
     },
     "metadata": {},
     "output_type": "display_data"
    },
    {
     "data": {
      "text/html": [
       "<html>\\(\\displaystyle \\verb|FS(| 2 \\verb|)|\\verb| |\\verb|=| 0.999999999999999\\)</html>"
      ],
      "text/latex": [
       "$\\displaystyle \\verb|FS(| 2 \\verb|)|\\verb| |\\verb|=| 0.999999999999999$"
      ],
      "text/plain": [
       "'FS(' 2 ') =' 0.999999999999999"
      ]
     },
     "metadata": {},
     "output_type": "display_data"
    },
    {
     "data": {
      "text/html": [
       "<html>\\(\\displaystyle \\verb|FS(| 3 \\verb|)|\\verb| |\\verb|=| 1.00000000000000 - 6.93889390390723 \\times 10^{-18}i\\)</html>"
      ],
      "text/latex": [
       "$\\displaystyle \\verb|FS(| 3 \\verb|)|\\verb| |\\verb|=| 1.00000000000000 - 6.93889390390723 \\times 10^{-18}i$"
      ],
      "text/plain": [
       "'FS(' 3 ') =' 1.00000000000000 - 6.93889390390723e-18*I"
      ]
     },
     "metadata": {},
     "output_type": "display_data"
    },
    {
     "data": {
      "text/html": [
       "<html>\\(\\displaystyle \\verb|FS(| 4 \\verb|)|\\verb| |\\verb|=| 0.999999999999999 + 1.38777878078145 \\times 10^{-17}i\\)</html>"
      ],
      "text/latex": [
       "$\\displaystyle \\verb|FS(| 4 \\verb|)|\\verb| |\\verb|=| 0.999999999999999 + 1.38777878078145 \\times 10^{-17}i$"
      ],
      "text/plain": [
       "'FS(' 4 ') =' 0.999999999999999 + 1.38777878078145e-17*I"
      ]
     },
     "metadata": {},
     "output_type": "display_data"
    },
    {
     "data": {
      "text/html": [
       "<html>\\(\\displaystyle \\verb|FS(| 5 \\verb|)|\\verb| |\\verb|=| 4.00000000000000 + 1.04083408558608 \\times 10^{-17}i\\)</html>"
      ],
      "text/latex": [
       "$\\displaystyle \\verb|FS(| 5 \\verb|)|\\verb| |\\verb|=| 4.00000000000000 + 1.04083408558608 \\times 10^{-17}i$"
      ],
      "text/plain": [
       "'FS(' 5 ') =' 4.00000000000000 + 1.04083408558608e-17*I"
      ]
     },
     "metadata": {},
     "output_type": "display_data"
    },
    {
     "data": {
      "text/html": [
       "<html>\\(\\displaystyle \\verb|FS(| 6 \\verb|)|\\verb| |\\verb|=| 4.00000000000000 - 3.12250225675825 \\times 10^{-17}i\\)</html>"
      ],
      "text/latex": [
       "$\\displaystyle \\verb|FS(| 6 \\verb|)|\\verb| |\\verb|=| 4.00000000000000 - 3.12250225675825 \\times 10^{-17}i$"
      ],
      "text/plain": [
       "'FS(' 6 ') =' 4.00000000000000 - 3.12250225675825e-17*I"
      ]
     },
     "metadata": {},
     "output_type": "display_data"
    },
    {
     "data": {
      "text/html": [
       "<html>\\(\\displaystyle \\verb|FS(| 7 \\verb|)|\\verb| |\\verb|=| 4.00000000000000 + 4.81385764583564 \\times 10^{-17}i\\)</html>"
      ],
      "text/latex": [
       "$\\displaystyle \\verb|FS(| 7 \\verb|)|\\verb| |\\verb|=| 4.00000000000000 + 4.81385764583564 \\times 10^{-17}i$"
      ],
      "text/plain": [
       "'FS(' 7 ') =' 4.00000000000000 + 4.81385764583564e-17*I"
      ]
     },
     "metadata": {},
     "output_type": "display_data"
    },
    {
     "data": {
      "text/html": [
       "<html>\\(\\displaystyle \\verb|FS(| 8 \\verb|)|\\verb| |\\verb|=| 13.0000000000000 + 3.29597460435593 \\times 10^{-17}i\\)</html>"
      ],
      "text/latex": [
       "$\\displaystyle \\verb|FS(| 8 \\verb|)|\\verb| |\\verb|=| 13.0000000000000 + 3.29597460435593 \\times 10^{-17}i$"
      ],
      "text/plain": [
       "'FS(' 8 ') =' 13.0000000000000 + 3.29597460435593e-17*I"
      ]
     },
     "metadata": {},
     "output_type": "display_data"
    },
    {
     "data": {
      "text/html": [
       "<html>\\(\\displaystyle \\verb|FS(| 9 \\verb|)|\\verb| |\\verb|=| 13.0000000000000 + 1.43331527202584 \\times 10^{-16}i\\)</html>"
      ],
      "text/latex": [
       "$\\displaystyle \\verb|FS(| 9 \\verb|)|\\verb| |\\verb|=| 13.0000000000000 + 1.43331527202584 \\times 10^{-16}i$"
      ],
      "text/plain": [
       "'FS(' 9 ') =' 13.0000000000000 + 1.43331527202584e-16*I"
      ]
     },
     "metadata": {},
     "output_type": "display_data"
    },
    {
     "data": {
      "text/html": [
       "<html>\\(\\displaystyle \\verb|FS(| 10 \\verb|)|\\verb| |\\verb|=| 16.0000000000000 - 5.11743425413158 \\times 10^{-17}i\\)</html>"
      ],
      "text/latex": [
       "$\\displaystyle \\verb|FS(| 10 \\verb|)|\\verb| |\\verb|=| 16.0000000000000 - 5.11743425413158 \\times 10^{-17}i$"
      ],
      "text/plain": [
       "'FS(' 10 ') =' 16.0000000000000 - 5.11743425413158e-17*I"
      ]
     },
     "metadata": {},
     "output_type": "display_data"
    },
    {
     "data": {
      "text/html": [
       "<html>\\(\\displaystyle \\verb|FS(| 11 \\verb|)|\\verb| |\\verb|=| 43.0000000000000 + 5.32343266690383 \\times 10^{-17}i\\)</html>"
      ],
      "text/latex": [
       "$\\displaystyle \\verb|FS(| 11 \\verb|)|\\verb| |\\verb|=| 43.0000000000000 + 5.32343266690383 \\times 10^{-17}i$"
      ],
      "text/plain": [
       "'FS(' 11 ') =' 43.0000000000000 + 5.32343266690383e-17*I"
      ]
     },
     "metadata": {},
     "output_type": "display_data"
    },
    {
     "data": {
      "text/html": [
       "<html>\\(\\displaystyle \\verb|FS(| 12 \\verb|)|\\verb| |\\verb|=| 43.0000000000000 - 3.11816544806831 \\times 10^{-16}i\\)</html>"
      ],
      "text/latex": [
       "$\\displaystyle \\verb|FS(| 12 \\verb|)|\\verb| |\\verb|=| 43.0000000000000 - 3.11816544806831 \\times 10^{-16}i$"
      ],
      "text/plain": [
       "'FS(' 12 ') =' 43.0000000000000 - 3.11816544806831e-16*I"
      ]
     },
     "metadata": {},
     "output_type": "display_data"
    },
    {
     "data": {
      "text/html": [
       "<html>\\(\\displaystyle \\verb|FS(| 13 \\verb|)|\\verb| |\\verb|=| 60.9999999999999 - 4.49212065115057 \\times 10^{-16}i\\)</html>"
      ],
      "text/latex": [
       "$\\displaystyle \\verb|FS(| 13 \\verb|)|\\verb| |\\verb|=| 60.9999999999999 - 4.49212065115057 \\times 10^{-16}i$"
      ],
      "text/plain": [
       "'FS(' 13 ') =' 60.9999999999999 - 4.49212065115057e-16*I"
      ]
     },
     "metadata": {},
     "output_type": "display_data"
    },
    {
     "data": {
      "text/html": [
       "<html>\\(\\displaystyle \\verb|FS(| 14 \\verb|)|\\verb| |\\verb|=| 142.000000000000 - 3.46402594109119 \\times 10^{-17}i\\)</html>"
      ],
      "text/latex": [
       "$\\displaystyle \\verb|FS(| 14 \\verb|)|\\verb| |\\verb|=| 142.000000000000 - 3.46402594109119 \\times 10^{-17}i$"
      ],
      "text/plain": [
       "'FS(' 14 ') =' 142.000000000000 - 3.46402594109119e-17*I"
      ]
     },
     "metadata": {},
     "output_type": "display_data"
    },
    {
     "data": {
      "text/html": [
       "<html>\\(\\displaystyle \\verb|FS(| 15 \\verb|)|\\verb| |\\verb|=| 145.000000000000 + 7.91088115154048 \\times 10^{-16}i\\)</html>"
      ],
      "text/latex": [
       "$\\displaystyle \\verb|FS(| 15 \\verb|)|\\verb| |\\verb|=| 145.000000000000 + 7.91088115154048 \\times 10^{-16}i$"
      ],
      "text/plain": [
       "'FS(' 15 ') =' 145.000000000000 + 7.91088115154048e-16*I"
      ]
     },
     "metadata": {},
     "output_type": "display_data"
    },
    {
     "data": {
      "text/html": [
       "<html>\\(\\displaystyle \\verb|FS(| 16 \\verb|)|\\verb| |\\verb|=| 225.999999999999 - 6.29758831888205 \\times 10^{-16}i\\)</html>"
      ],
      "text/latex": [
       "$\\displaystyle \\verb|FS(| 16 \\verb|)|\\verb| |\\verb|=| 225.999999999999 - 6.29758831888205 \\times 10^{-16}i$"
      ],
      "text/plain": [
       "'FS(' 16 ') =' 225.999999999999 - 6.29758831888205e-16*I"
      ]
     },
     "metadata": {},
     "output_type": "display_data"
    },
    {
     "data": {
      "text/html": [
       "<html>\\(\\displaystyle \\verb|FS(| 17 \\verb|)|\\verb| |\\verb|=| 468.999999999999 - 8.22807804962827 \\times 10^{-17}i\\)</html>"
      ],
      "text/latex": [
       "$\\displaystyle \\verb|FS(| 17 \\verb|)|\\verb| |\\verb|=| 468.999999999999 - 8.22807804962827 \\times 10^{-17}i$"
      ],
      "text/plain": [
       "'FS(' 17 ') =' 468.999999999999 - 8.22807804962827e-17*I"
      ]
     },
     "metadata": {},
     "output_type": "display_data"
    },
    {
     "data": {
      "text/html": [
       "<html>\\(\\displaystyle \\verb|FS(| 18 \\verb|)|\\verb| |\\verb|=| 495.999999999999 + 1.92453339506113 \\times 10^{-15}i\\)</html>"
      ],
      "text/latex": [
       "$\\displaystyle \\verb|FS(| 18 \\verb|)|\\verb| |\\verb|=| 495.999999999999 + 1.92453339506113 \\times 10^{-15}i$"
      ],
      "text/plain": [
       "'FS(' 18 ') =' 495.999999999999 + 1.92453339506113e-15*I"
      ]
     },
     "metadata": {},
     "output_type": "display_data"
    },
    {
     "data": {
      "text/html": [
       "<html>\\(\\displaystyle \\verb|FS(| 19 \\verb|)|\\verb| |\\verb|=| 819.999999999998 - 4.47751356797517 \\times 10^{-15}i\\)</html>"
      ],
      "text/latex": [
       "$\\displaystyle \\verb|FS(| 19 \\verb|)|\\verb| |\\verb|=| 819.999999999998 - 4.47751356797517 \\times 10^{-15}i$"
      ],
      "text/plain": [
       "'FS(' 19 ') =' 819.999999999998 - 4.47751356797517e-15*I"
      ]
     },
     "metadata": {},
     "output_type": "display_data"
    }
   ],
   "source": [
    "FB = terme_general([1,1])\n",
    "FS = terme_general([1,0,3,0,0])\n",
    "FB(n) = conditions_initiales(FB,[0,1])\n",
    "FS(n) = conditions_initiales(FS,[1,1,1,1,1])\n",
    "for i in range(10):\n",
    "    show(\"FB(\",i,\") =\",FB(i))\n",
    "for j in range(20):\n",
    "    show(\"FS(\",j,\") =\",FS(j))\n",
    "### Les valeurs ne sont pas tout à fait correctes car les racines ne sont pas calculées de manière exacte, on retrouve donc ces petites incertitudes"
   ]
  },
  {
   "cell_type": "markdown",
   "metadata": {
    "deletable": false,
    "editable": false,
    "run_control": {
     "frozen": true
    }
   },
   "source": [
    "### Question\n",
    "Quand les racines du polynôme caractéristique d'une suite ne sont pas toutes distinctes, l'expression de $u_n$ est un peu différente. En supposant que le polynôme caractéristique $P$ de la suite $(u_n)$ admette $t$ racines $r_1$, …, $r_t$ de multiplicités $m_1$, …, $m_t$, alors $u_n = p_1(n) r_1^n + p_2(n) r_2^n + … + p_t(n) r_t^n$ où $p_i(n)$ est un polynôme de degré $< m_i$. Donc $p_i(n)$ peut s'écrire $c_0 + c_1 x + c_2 x^2 + \\dotsb + c_{m_i-1} x^{m_i-1}$.\n",
    "\n",
    "1. Reprendre la fonction `terme_général` pour qu'elle fonctionne avec des polynômes à racines multiples. *Remarque : le nombre de variables symboliques nécessaires reste toujours le même, à savoir $k$.*\n",
    "1. Vérifier qu'elle fonctionne toujours pour les deux suites étudiées.\n",
    "1. Tester la fonction avec la suite $(v_n)$ définie par $v_{n+2} = 2v_{n+1}-v_n$."
   ]
  },
  {
   "cell_type": "code",
   "execution_count": 46,
   "metadata": {},
   "outputs": [],
   "source": [
    "def terme_general_multiple(coeffs):\n",
    "    k = len(coeffs)\n",
    "    strC = \"c0\"\n",
    "    res = 0\n",
    "    var('n')\n",
    "    \n",
    "    for i in range(1,k):\n",
    "        strC += \" c{}\".format(i)\n",
    "    c = var(strC)\n",
    "    \n",
    "    poly = poly_car(coeffs)\n",
    "    symbole = 0\n",
    "    for x in poly.roots(CC):\n",
    "            poly = 0\n",
    "            for m in range(x[1]):\n",
    "                poly += c[symbole] * n^m\n",
    "                symbole+=1\n",
    "            res += poly * x[0]^n\n",
    "            \n",
    "    return res"
   ]
  },
  {
   "cell_type": "code",
   "execution_count": 47,
   "metadata": {},
   "outputs": [
    {
     "data": {
      "text/html": [
       "<html>\\(\\displaystyle c_{1} e^{\\left(0.481211825059603 \\, n\\right)} + c_{0} e^{\\left(-\\left(0.481211825059603 - 3.14159265358979i\\right) \\, n\\right)}\\)</html>"
      ],
      "text/latex": [
       "$\\displaystyle c_{1} e^{\\left(0.481211825059603 \\, n\\right)} + c_{0} e^{\\left(-\\left(0.481211825059603 - 3.14159265358979i\\right) \\, n\\right)}$"
      ],
      "text/plain": [
       "c1*e^(0.481211825059603*n) + c0*e^(-(0.481211825059603 - 3.14159265358979*I)*n)"
      ]
     },
     "metadata": {},
     "output_type": "display_data"
    },
    {
     "data": {
      "text/html": [
       "<html>\\(\\displaystyle c_{0} e^{\\left(0.411719148455786 \\, n\\right)} + c_{2} e^{\\left(\\left(0.347394772487646 + 2.14831474661924i\\right) \\, n\\right)} + c_{1} e^{\\left(\\left(0.347394772487646 - 2.14831474661924i\\right) \\, n\\right)} + c_{4} e^{\\left(-\\left(0.553254346715540 - 1.53946660211288i\\right) \\, n\\right)} + c_{3} e^{\\left(-\\left(0.553254346715540 + 1.53946660211288i\\right) \\, n\\right)}\\)</html>"
      ],
      "text/latex": [
       "$\\displaystyle c_{0} e^{\\left(0.411719148455786 \\, n\\right)} + c_{2} e^{\\left(\\left(0.347394772487646 + 2.14831474661924i\\right) \\, n\\right)} + c_{1} e^{\\left(\\left(0.347394772487646 - 2.14831474661924i\\right) \\, n\\right)} + c_{4} e^{\\left(-\\left(0.553254346715540 - 1.53946660211288i\\right) \\, n\\right)} + c_{3} e^{\\left(-\\left(0.553254346715540 + 1.53946660211288i\\right) \\, n\\right)}$"
      ],
      "text/plain": [
       "c0*e^(0.411719148455786*n) + c2*e^((0.347394772487646 + 2.14831474661924*I)*n) + c1*e^((0.347394772487646 - 2.14831474661924*I)*n) + c4*e^(-(0.553254346715540 - 1.53946660211288*I)*n) + c3*e^(-(0.553254346715540 + 1.53946660211288*I)*n)"
      ]
     },
     "metadata": {},
     "output_type": "display_data"
    },
    {
     "data": {
      "text/html": [
       "<html>\\(\\displaystyle c_{1} n + c_{0}\\)</html>"
      ],
      "text/latex": [
       "$\\displaystyle c_{1} n + c_{0}$"
      ],
      "text/plain": [
       "c1*n + c0"
      ]
     },
     "metadata": {},
     "output_type": "display_data"
    },
    {
     "data": {
      "text/html": [
       "<html>\\(\\displaystyle c_{2} e^{\\left(0.693147180559945 \\, n\\right)} + {\\left(c_{1} n + c_{0}\\right)} e^{\\left(3.14159265358979i \\, n\\right)}\\)</html>"
      ],
      "text/latex": [
       "$\\displaystyle c_{2} e^{\\left(0.693147180559945 \\, n\\right)} + {\\left(c_{1} n + c_{0}\\right)} e^{\\left(3.14159265358979i \\, n\\right)}$"
      ],
      "text/plain": [
       "c2*e^(0.693147180559945*n) + (c1*n + c0)*e^(3.14159265358979*I*n)"
      ]
     },
     "metadata": {},
     "output_type": "display_data"
    }
   ],
   "source": [
    "FB = terme_general_multiple([1,1])\n",
    "show(FB)\n",
    "FS = terme_general_multiple([1,0,3,0,0])\n",
    "show(FS)\n",
    "test = terme_general_multiple([-1,2])\n",
    "show(test)\n",
    "test2 = terme_general_multiple([2,3,0])\n",
    "show(test2)"
   ]
  },
  {
   "cell_type": "markdown",
   "metadata": {
    "deletable": false,
    "editable": false,
    "run_control": {
     "frozen": true
    }
   },
   "source": [
    "### Question\n",
    "1. En adaptant si besoin la fonction `conditions_initiales` pour qu'elle fonctionne quand les polynômes caractéristiques ont des racines multiples, écrire une fonction `resolution` qui prend en entrée les coefficients $a_0$, …, $a_k$ d'une suite récurrente linéaire et les conditions initiales $u_0$, …, $u_{k-1}$, et renvoie l'expression de $u_n$ en fonction de $n$.\n",
    "\n",
    "1. Appliquer la fonction `resolution` dans les cas suivants, et vérifier à chaque fois si l'expression produit bien les bonnes valeurs de la suite :\n",
    "    - suite de Fibonacci ;\n",
    "    - suite $u_{n+5} = 3u_{n+2} + u_n$ avec $u_k = 1$ pour $k < 4$ ;\n",
    "    - suite $v_{n+2} = 2v_{n+1}-v_n$ avec $v_0 = 1$ et $v_1 = -1$ ;\n",
    "    - suite $w_{n+3} = 3w_{n+1}+2w_n$ avec $w_k = k$ pour $k < 3$."
   ]
  },
  {
   "cell_type": "code",
   "execution_count": 48,
   "metadata": {},
   "outputs": [],
   "source": [
    "def conditions_initiales(terme_general,conds):\n",
    "    variables_tuples = terme_general.variables()\n",
    "    variables = list(variables_tuples)\n",
    "    variables.remove(n)\n",
    "    show(terme_general)\n",
    "    show(variables)\n",
    "    liste_equations = list()\n",
    "    for i in range(len(conds)):\n",
    "        liste_equations.append(terme_general.subs(n=i) == conds[i])\n",
    "    \n",
    "    sols = solve(liste_equations,variables)\n",
    "    \n",
    "    return terme_general.subs(sols)"
   ]
  },
  {
   "cell_type": "code",
   "execution_count": 49,
   "metadata": {},
   "outputs": [],
   "source": [
    "def resolution(coeffs,conds):\n",
    "    expr = terme_general_multiple(coeffs)\n",
    "    return conditions_initiales(expr,conds)"
   ]
  },
  {
   "cell_type": "code",
   "execution_count": 50,
   "metadata": {},
   "outputs": [
    {
     "data": {
      "text/html": [
       "<html>\\(\\displaystyle c_{1} e^{\\left(0.481211825059603 \\, n\\right)} + c_{0} e^{\\left(-\\left(0.481211825059603 - 3.14159265358979i\\right) \\, n\\right)}\\)</html>"
      ],
      "text/latex": [
       "$\\displaystyle c_{1} e^{\\left(0.481211825059603 \\, n\\right)} + c_{0} e^{\\left(-\\left(0.481211825059603 - 3.14159265358979i\\right) \\, n\\right)}$"
      ],
      "text/plain": [
       "c1*e^(0.481211825059603*n) + c0*e^(-(0.481211825059603 - 3.14159265358979*I)*n)"
      ]
     },
     "metadata": {},
     "output_type": "display_data"
    },
    {
     "data": {
      "text/html": [
       "<html>\\(\\displaystyle \\left[c_{0}, c_{1}\\right]\\)</html>"
      ],
      "text/latex": [
       "$\\displaystyle \\left[c_{0}, c_{1}\\right]$"
      ],
      "text/plain": [
       "[c0, c1]"
      ]
     },
     "metadata": {},
     "output_type": "display_data"
    },
    {
     "data": {
      "text/html": [
       "<html>\\(\\displaystyle 0\\)</html>"
      ],
      "text/latex": [
       "$\\displaystyle 0$"
      ],
      "text/plain": [
       "0"
      ]
     },
     "metadata": {},
     "output_type": "display_data"
    },
    {
     "data": {
      "text/html": [
       "<html>\\(\\displaystyle 1.00000000000000 - 1.84889274661175 \\times 10^{-32}i\\)</html>"
      ],
      "text/latex": [
       "$\\displaystyle 1.00000000000000 - 1.84889274661175 \\times 10^{-32}i$"
      ],
      "text/plain": [
       "1.00000000000000 - 1.84889274661175e-32*I"
      ]
     },
     "metadata": {},
     "output_type": "display_data"
    },
    {
     "data": {
      "text/html": [
       "<html>\\(\\displaystyle 1.00000000000000 + 7.56873346086829 \\times 10^{-17}i\\)</html>"
      ],
      "text/latex": [
       "$\\displaystyle 1.00000000000000 + 7.56873346086829 \\times 10^{-17}i$"
      ],
      "text/plain": [
       "1.00000000000000 + 7.56873346086829e-17*I"
      ]
     },
     "metadata": {},
     "output_type": "display_data"
    },
    {
     "data": {
      "text/html": [
       "<html>\\(\\displaystyle 2.00000000000000 + 2.89099893026306 \\times 10^{-17}i\\)</html>"
      ],
      "text/latex": [
       "$\\displaystyle 2.00000000000000 + 2.89099893026306 \\times 10^{-17}i$"
      ],
      "text/plain": [
       "2.00000000000000 + 2.89099893026306e-17*I"
      ]
     },
     "metadata": {},
     "output_type": "display_data"
    },
    {
     "data": {
      "text/html": [
       "<html>\\(\\displaystyle 3.00000000000000 + 1.33507313213944 \\times 10^{-16}i\\)</html>"
      ],
      "text/latex": [
       "$\\displaystyle 3.00000000000000 + 1.33507313213944 \\times 10^{-16}i$"
      ],
      "text/plain": [
       "3.00000000000000 + 1.33507313213944e-16*I"
      ]
     },
     "metadata": {},
     "output_type": "display_data"
    },
    {
     "data": {
      "text/html": [
       "<html>\\(\\displaystyle 5.00000000000000 + 1.44549946513153 \\times 10^{-16}i\\)</html>"
      ],
      "text/latex": [
       "$\\displaystyle 5.00000000000000 + 1.44549946513153 \\times 10^{-16}i$"
      ],
      "text/plain": [
       "5.00000000000000 + 1.44549946513153e-16*I"
      ]
     },
     "metadata": {},
     "output_type": "display_data"
    },
    {
     "data": {
      "text/html": [
       "<html>\\(\\displaystyle 8.00000000000000 + 2.89099893026307 \\times 10^{-16}i\\)</html>"
      ],
      "text/latex": [
       "$\\displaystyle 8.00000000000000 + 2.89099893026307 \\times 10^{-16}i$"
      ],
      "text/plain": [
       "8.00000000000000 + 2.89099893026307e-16*I"
      ]
     },
     "metadata": {},
     "output_type": "display_data"
    },
    {
     "data": {
      "text/html": [
       "<html>\\(\\displaystyle 13.0000000000000 + 4.26825116835247 \\times 10^{-16}i\\)</html>"
      ],
      "text/latex": [
       "$\\displaystyle 13.0000000000000 + 4.26825116835247 \\times 10^{-16}i$"
      ],
      "text/plain": [
       "13.0000000000000 + 4.26825116835247e-16*I"
      ]
     },
     "metadata": {},
     "output_type": "display_data"
    },
    {
     "data": {
      "text/html": [
       "<html>\\(\\displaystyle 21.0000000000000 + 7.20142920456550 \\times 10^{-16}i\\)</html>"
      ],
      "text/latex": [
       "$\\displaystyle 21.0000000000000 + 7.20142920456550 \\times 10^{-16}i$"
      ],
      "text/plain": [
       "21.0000000000000 + 7.20142920456550e-16*I"
      ]
     },
     "metadata": {},
     "output_type": "display_data"
    },
    {
     "data": {
      "text/html": [
       "<html>\\(\\displaystyle 34.0000000000000 + 1.14436122518258 \\times 10^{-15}i\\)</html>"
      ],
      "text/latex": [
       "$\\displaystyle 34.0000000000000 + 1.14436122518258 \\times 10^{-15}i$"
      ],
      "text/plain": [
       "34.0000000000000 + 1.14436122518258e-15*I"
      ]
     },
     "metadata": {},
     "output_type": "display_data"
    },
    {
     "data": {
      "text/html": [
       "<html>\\(\\displaystyle \\left[0, 1, 1, 2, 3, 5, 8, 13, 21, 34\\right]\\)</html>"
      ],
      "text/latex": [
       "$\\displaystyle \\left[0, 1, 1, 2, 3, 5, 8, 13, 21, 34\\right]$"
      ],
      "text/plain": [
       "[0, 1, 1, 2, 3, 5, 8, 13, 21, 34]"
      ]
     },
     "metadata": {},
     "output_type": "display_data"
    },
    {
     "data": {
      "text/html": [
       "<html>\\(\\displaystyle c_{0} e^{\\left(0.411719148455786 \\, n\\right)} + c_{2} e^{\\left(\\left(0.347394772487646 + 2.14831474661924i\\right) \\, n\\right)} + c_{1} e^{\\left(\\left(0.347394772487646 - 2.14831474661924i\\right) \\, n\\right)} + c_{4} e^{\\left(-\\left(0.553254346715540 - 1.53946660211288i\\right) \\, n\\right)} + c_{3} e^{\\left(-\\left(0.553254346715540 + 1.53946660211288i\\right) \\, n\\right)}\\)</html>"
      ],
      "text/latex": [
       "$\\displaystyle c_{0} e^{\\left(0.411719148455786 \\, n\\right)} + c_{2} e^{\\left(\\left(0.347394772487646 + 2.14831474661924i\\right) \\, n\\right)} + c_{1} e^{\\left(\\left(0.347394772487646 - 2.14831474661924i\\right) \\, n\\right)} + c_{4} e^{\\left(-\\left(0.553254346715540 - 1.53946660211288i\\right) \\, n\\right)} + c_{3} e^{\\left(-\\left(0.553254346715540 + 1.53946660211288i\\right) \\, n\\right)}$"
      ],
      "text/plain": [
       "c0*e^(0.411719148455786*n) + c2*e^((0.347394772487646 + 2.14831474661924*I)*n) + c1*e^((0.347394772487646 - 2.14831474661924*I)*n) + c4*e^(-(0.553254346715540 - 1.53946660211288*I)*n) + c3*e^(-(0.553254346715540 + 1.53946660211288*I)*n)"
      ]
     },
     "metadata": {},
     "output_type": "display_data"
    },
    {
     "data": {
      "text/html": [
       "<html>\\(\\displaystyle \\left[c_{0}, c_{1}, c_{2}, c_{3}, c_{4}\\right]\\)</html>"
      ],
      "text/latex": [
       "$\\displaystyle \\left[c_{0}, c_{1}, c_{2}, c_{3}, c_{4}\\right]$"
      ],
      "text/plain": [
       "[c0, c1, c2, c3, c4]"
      ]
     },
     "metadata": {},
     "output_type": "display_data"
    },
    {
     "data": {
      "text/html": [
       "<html>\\(\\displaystyle 1\\)</html>"
      ],
      "text/latex": [
       "$\\displaystyle 1$"
      ],
      "text/plain": [
       "1"
      ]
     },
     "metadata": {},
     "output_type": "display_data"
    },
    {
     "data": {
      "text/html": [
       "<html>\\(\\displaystyle 1.00000000000000\\)</html>"
      ],
      "text/latex": [
       "$\\displaystyle 1.00000000000000$"
      ],
      "text/plain": [
       "1.00000000000000"
      ]
     },
     "metadata": {},
     "output_type": "display_data"
    },
    {
     "data": {
      "text/html": [
       "<html>\\(\\displaystyle 0.999999999999999\\)</html>"
      ],
      "text/latex": [
       "$\\displaystyle 0.999999999999999$"
      ],
      "text/plain": [
       "0.999999999999999"
      ]
     },
     "metadata": {},
     "output_type": "display_data"
    },
    {
     "data": {
      "text/html": [
       "<html>\\(\\displaystyle 1.00000000000000 - 6.93889390390723 \\times 10^{-18}i\\)</html>"
      ],
      "text/latex": [
       "$\\displaystyle 1.00000000000000 - 6.93889390390723 \\times 10^{-18}i$"
      ],
      "text/plain": [
       "1.00000000000000 - 6.93889390390723e-18*I"
      ]
     },
     "metadata": {},
     "output_type": "display_data"
    },
    {
     "data": {
      "text/html": [
       "<html>\\(\\displaystyle 0.999999999999999 + 1.38777878078145 \\times 10^{-17}i\\)</html>"
      ],
      "text/latex": [
       "$\\displaystyle 0.999999999999999 + 1.38777878078145 \\times 10^{-17}i$"
      ],
      "text/plain": [
       "0.999999999999999 + 1.38777878078145e-17*I"
      ]
     },
     "metadata": {},
     "output_type": "display_data"
    },
    {
     "data": {
      "text/html": [
       "<html>\\(\\displaystyle 4.00000000000000 + 1.04083408558608 \\times 10^{-17}i\\)</html>"
      ],
      "text/latex": [
       "$\\displaystyle 4.00000000000000 + 1.04083408558608 \\times 10^{-17}i$"
      ],
      "text/plain": [
       "4.00000000000000 + 1.04083408558608e-17*I"
      ]
     },
     "metadata": {},
     "output_type": "display_data"
    },
    {
     "data": {
      "text/html": [
       "<html>\\(\\displaystyle 4.00000000000000 - 3.12250225675825 \\times 10^{-17}i\\)</html>"
      ],
      "text/latex": [
       "$\\displaystyle 4.00000000000000 - 3.12250225675825 \\times 10^{-17}i$"
      ],
      "text/plain": [
       "4.00000000000000 - 3.12250225675825e-17*I"
      ]
     },
     "metadata": {},
     "output_type": "display_data"
    },
    {
     "data": {
      "text/html": [
       "<html>\\(\\displaystyle 4.00000000000000 + 4.81385764583564 \\times 10^{-17}i\\)</html>"
      ],
      "text/latex": [
       "$\\displaystyle 4.00000000000000 + 4.81385764583564 \\times 10^{-17}i$"
      ],
      "text/plain": [
       "4.00000000000000 + 4.81385764583564e-17*I"
      ]
     },
     "metadata": {},
     "output_type": "display_data"
    },
    {
     "data": {
      "text/html": [
       "<html>\\(\\displaystyle 13.0000000000000 + 3.29597460435593 \\times 10^{-17}i\\)</html>"
      ],
      "text/latex": [
       "$\\displaystyle 13.0000000000000 + 3.29597460435593 \\times 10^{-17}i$"
      ],
      "text/plain": [
       "13.0000000000000 + 3.29597460435593e-17*I"
      ]
     },
     "metadata": {},
     "output_type": "display_data"
    },
    {
     "data": {
      "text/html": [
       "<html>\\(\\displaystyle 13.0000000000000 + 1.43331527202584 \\times 10^{-16}i\\)</html>"
      ],
      "text/latex": [
       "$\\displaystyle 13.0000000000000 + 1.43331527202584 \\times 10^{-16}i$"
      ],
      "text/plain": [
       "13.0000000000000 + 1.43331527202584e-16*I"
      ]
     },
     "metadata": {},
     "output_type": "display_data"
    },
    {
     "data": {
      "text/html": [
       "<html>\\(\\displaystyle 16.0000000000000 - 5.11743425413158 \\times 10^{-17}i\\)</html>"
      ],
      "text/latex": [
       "$\\displaystyle 16.0000000000000 - 5.11743425413158 \\times 10^{-17}i$"
      ],
      "text/plain": [
       "16.0000000000000 - 5.11743425413158e-17*I"
      ]
     },
     "metadata": {},
     "output_type": "display_data"
    },
    {
     "data": {
      "text/html": [
       "<html>\\(\\displaystyle \\left[1, 1, 1, 1, 1, 4, 4, 4, 13, 13, 16\\right]\\)</html>"
      ],
      "text/latex": [
       "$\\displaystyle \\left[1, 1, 1, 1, 1, 4, 4, 4, 13, 13, 16\\right]$"
      ],
      "text/plain": [
       "[1, 1, 1, 1, 1, 4, 4, 4, 13, 13, 16]"
      ]
     },
     "metadata": {},
     "output_type": "display_data"
    },
    {
     "data": {
      "text/html": [
       "<html>\\(\\displaystyle c_{1} n + c_{0}\\)</html>"
      ],
      "text/latex": [
       "$\\displaystyle c_{1} n + c_{0}$"
      ],
      "text/plain": [
       "c1*n + c0"
      ]
     },
     "metadata": {},
     "output_type": "display_data"
    },
    {
     "data": {
      "text/html": [
       "<html>\\(\\displaystyle \\left[c_{0}, c_{1}\\right]\\)</html>"
      ],
      "text/latex": [
       "$\\displaystyle \\left[c_{0}, c_{1}\\right]$"
      ],
      "text/plain": [
       "[c0, c1]"
      ]
     },
     "metadata": {},
     "output_type": "display_data"
    },
    {
     "data": {
      "text/html": [
       "<html>\\(\\displaystyle 1\\)</html>"
      ],
      "text/latex": [
       "$\\displaystyle 1$"
      ],
      "text/plain": [
       "1"
      ]
     },
     "metadata": {},
     "output_type": "display_data"
    },
    {
     "data": {
      "text/html": [
       "<html>\\(\\displaystyle -1\\)</html>"
      ],
      "text/latex": [
       "$\\displaystyle -1$"
      ],
      "text/plain": [
       "-1"
      ]
     },
     "metadata": {},
     "output_type": "display_data"
    },
    {
     "data": {
      "text/html": [
       "<html>\\(\\displaystyle -3\\)</html>"
      ],
      "text/latex": [
       "$\\displaystyle -3$"
      ],
      "text/plain": [
       "-3"
      ]
     },
     "metadata": {},
     "output_type": "display_data"
    },
    {
     "data": {
      "text/html": [
       "<html>\\(\\displaystyle -5\\)</html>"
      ],
      "text/latex": [
       "$\\displaystyle -5$"
      ],
      "text/plain": [
       "-5"
      ]
     },
     "metadata": {},
     "output_type": "display_data"
    },
    {
     "data": {
      "text/html": [
       "<html>\\(\\displaystyle -7\\)</html>"
      ],
      "text/latex": [
       "$\\displaystyle -7$"
      ],
      "text/plain": [
       "-7"
      ]
     },
     "metadata": {},
     "output_type": "display_data"
    },
    {
     "data": {
      "text/html": [
       "<html>\\(\\displaystyle -9\\)</html>"
      ],
      "text/latex": [
       "$\\displaystyle -9$"
      ],
      "text/plain": [
       "-9"
      ]
     },
     "metadata": {},
     "output_type": "display_data"
    },
    {
     "data": {
      "text/html": [
       "<html>\\(\\displaystyle -11\\)</html>"
      ],
      "text/latex": [
       "$\\displaystyle -11$"
      ],
      "text/plain": [
       "-11"
      ]
     },
     "metadata": {},
     "output_type": "display_data"
    },
    {
     "data": {
      "text/html": [
       "<html>\\(\\displaystyle -13\\)</html>"
      ],
      "text/latex": [
       "$\\displaystyle -13$"
      ],
      "text/plain": [
       "-13"
      ]
     },
     "metadata": {},
     "output_type": "display_data"
    },
    {
     "data": {
      "text/html": [
       "<html>\\(\\displaystyle -15\\)</html>"
      ],
      "text/latex": [
       "$\\displaystyle -15$"
      ],
      "text/plain": [
       "-15"
      ]
     },
     "metadata": {},
     "output_type": "display_data"
    },
    {
     "data": {
      "text/html": [
       "<html>\\(\\displaystyle -17\\)</html>"
      ],
      "text/latex": [
       "$\\displaystyle -17$"
      ],
      "text/plain": [
       "-17"
      ]
     },
     "metadata": {},
     "output_type": "display_data"
    },
    {
     "data": {
      "text/html": [
       "<html>\\(\\displaystyle -19\\)</html>"
      ],
      "text/latex": [
       "$\\displaystyle -19$"
      ],
      "text/plain": [
       "-19"
      ]
     },
     "metadata": {},
     "output_type": "display_data"
    },
    {
     "data": {
      "text/html": [
       "<html>\\(\\displaystyle \\left[1, -1, -3, -5, -7, -9, -11, -13, -15, -17, -19\\right]\\)</html>"
      ],
      "text/latex": [
       "$\\displaystyle \\left[1, -1, -3, -5, -7, -9, -11, -13, -15, -17, -19\\right]$"
      ],
      "text/plain": [
       "[1, -1, -3, -5, -7, -9, -11, -13, -15, -17, -19]"
      ]
     },
     "metadata": {},
     "output_type": "display_data"
    },
    {
     "data": {
      "text/html": [
       "<html>\\(\\displaystyle c_{2} e^{\\left(0.693147180559945 \\, n\\right)} + {\\left(c_{1} n + c_{0}\\right)} e^{\\left(3.14159265358979i \\, n\\right)}\\)</html>"
      ],
      "text/latex": [
       "$\\displaystyle c_{2} e^{\\left(0.693147180559945 \\, n\\right)} + {\\left(c_{1} n + c_{0}\\right)} e^{\\left(3.14159265358979i \\, n\\right)}$"
      ],
      "text/plain": [
       "c2*e^(0.693147180559945*n) + (c1*n + c0)*e^(3.14159265358979*I*n)"
      ]
     },
     "metadata": {},
     "output_type": "display_data"
    },
    {
     "data": {
      "text/html": [
       "<html>\\(\\displaystyle \\left[c_{0}, c_{1}, c_{2}\\right]\\)</html>"
      ],
      "text/latex": [
       "$\\displaystyle \\left[c_{0}, c_{1}, c_{2}\\right]$"
      ],
      "text/plain": [
       "[c0, c1, c2]"
      ]
     },
     "metadata": {},
     "output_type": "display_data"
    },
    {
     "data": {
      "text/html": [
       "<html>\\(\\displaystyle 0\\)</html>"
      ],
      "text/latex": [
       "$\\displaystyle 0$"
      ],
      "text/plain": [
       "0"
      ]
     },
     "metadata": {},
     "output_type": "display_data"
    },
    {
     "data": {
      "text/html": [
       "<html>\\(\\displaystyle 1.00000000000000 - 3.08148791101958 \\times 10^{-33}i\\)</html>"
      ],
      "text/latex": [
       "$\\displaystyle 1.00000000000000 - 3.08148791101958 \\times 10^{-33}i$"
      ],
      "text/plain": [
       "1.00000000000000 - 3.08148791101958e-33*I"
      ]
     },
     "metadata": {},
     "output_type": "display_data"
    },
    {
     "data": {
      "text/html": [
       "<html>\\(\\displaystyle 2.00000000000000\\)</html>"
      ],
      "text/latex": [
       "$\\displaystyle 2.00000000000000$"
      ],
      "text/plain": [
       "2.00000000000000"
      ]
     },
     "metadata": {},
     "output_type": "display_data"
    },
    {
     "data": {
      "text/html": [
       "<html>\\(\\displaystyle 3.00000000000000 + 2.44929359829471 \\times 10^{-16}i\\)</html>"
      ],
      "text/latex": [
       "$\\displaystyle 3.00000000000000 + 2.44929359829471 \\times 10^{-16}i$"
      ],
      "text/plain": [
       "3.00000000000000 + 2.44929359829471e-16*I"
      ]
     },
     "metadata": {},
     "output_type": "display_data"
    },
    {
     "data": {
      "text/html": [
       "<html>\\(\\displaystyle 8.00000000000000 - 2.44929359829471 \\times 10^{-16}i\\)</html>"
      ],
      "text/latex": [
       "$\\displaystyle 8.00000000000000 - 2.44929359829471 \\times 10^{-16}i$"
      ],
      "text/plain": [
       "8.00000000000000 - 2.44929359829471e-16*I"
      ]
     },
     "metadata": {},
     "output_type": "display_data"
    },
    {
     "data": {
      "text/html": [
       "<html>\\(\\displaystyle 13.0000000000000 + 9.79717439317883 \\times 10^{-16}i\\)</html>"
      ],
      "text/latex": [
       "$\\displaystyle 13.0000000000000 + 9.79717439317883 \\times 10^{-16}i$"
      ],
      "text/plain": [
       "13.0000000000000 + 9.79717439317883e-16*I"
      ]
     },
     "metadata": {},
     "output_type": "display_data"
    },
    {
     "data": {
      "text/html": [
       "<html>\\(\\displaystyle 30.0000000000000 - 4.89858719658941 \\times 10^{-16}i\\)</html>"
      ],
      "text/latex": [
       "$\\displaystyle 30.0000000000000 - 4.89858719658941 \\times 10^{-16}i$"
      ],
      "text/plain": [
       "30.0000000000000 - 4.89858719658941e-16*I"
      ]
     },
     "metadata": {},
     "output_type": "display_data"
    },
    {
     "data": {
      "text/html": [
       "<html>\\(\\displaystyle 55.0000000000000 + 2.69422295812418 \\times 10^{-15}i\\)</html>"
      ],
      "text/latex": [
       "$\\displaystyle 55.0000000000000 + 2.69422295812418 \\times 10^{-15}i$"
      ],
      "text/plain": [
       "55.0000000000000 + 2.69422295812418e-15*I"
      ]
     },
     "metadata": {},
     "output_type": "display_data"
    },
    {
     "data": {
      "text/html": [
       "<html>\\(\\displaystyle 116.000000000000 + 2.44929359829471 \\times 10^{-16}i\\)</html>"
      ],
      "text/latex": [
       "$\\displaystyle 116.000000000000 + 2.44929359829471 \\times 10^{-16}i$"
      ],
      "text/plain": [
       "116.000000000000 + 2.44929359829471e-16*I"
      ]
     },
     "metadata": {},
     "output_type": "display_data"
    },
    {
     "data": {
      "text/html": [
       "<html>\\(\\displaystyle 225.000000000000 + 7.34788079488412 \\times 10^{-15}i\\)</html>"
      ],
      "text/latex": [
       "$\\displaystyle 225.000000000000 + 7.34788079488412 \\times 10^{-15}i$"
      ],
      "text/plain": [
       "225.000000000000 + 7.34788079488412e-15*I"
      ]
     },
     "metadata": {},
     "output_type": "display_data"
    },
    {
     "data": {
      "text/html": [
       "<html>\\(\\displaystyle 458.000000000000 + 5.87830463590730 \\times 10^{-15}i\\)</html>"
      ],
      "text/latex": [
       "$\\displaystyle 458.000000000000 + 5.87830463590730 \\times 10^{-15}i$"
      ],
      "text/plain": [
       "458.000000000000 + 5.87830463590730e-15*I"
      ]
     },
     "metadata": {},
     "output_type": "display_data"
    },
    {
     "data": {
      "text/html": [
       "<html>\\(\\displaystyle \\left[0, 1, 2, 3, 8, 13, 30, 55, 116, 225, 458\\right]\\)</html>"
      ],
      "text/latex": [
       "$\\displaystyle \\left[0, 1, 2, 3, 8, 13, 30, 55, 116, 225, 458\\right]$"
      ],
      "text/plain": [
       "[0, 1, 2, 3, 8, 13, 30, 55, 116, 225, 458]"
      ]
     },
     "metadata": {},
     "output_type": "display_data"
    }
   ],
   "source": [
    "# Fibonacci\n",
    "F = resolution([1,1],[0,1])\n",
    "for i in range(10):\n",
    "    show(F.subs(n=i))\n",
    "show(liste_fibonacci(10))\n",
    "\n",
    "\n",
    "# Un\n",
    "F = resolution([1,0,3,0,0],[1,1,1,1,1])\n",
    "for i in range(11):\n",
    "    show(F.subs(n=i))\n",
    "show(liste_termes([1,1,1,1,1],[1,0,3,0,0],10))\n",
    "\n",
    "\n",
    "# Vn\n",
    "F = resolution([-1,2],[1,-1])\n",
    "for i in range(11):\n",
    "    show(F.subs(n=i))\n",
    "show(liste_termes([1,-1],[-1,2],10))\n",
    "\n",
    "# Wn\n",
    "F = resolution([2,3,0],[0,1,2])\n",
    "for i in range(11):\n",
    "    show(F.subs(n=i))\n",
    "show(liste_termes([0,1,2],[2,3,0],10))\n"
   ]
  },
  {
   "cell_type": "markdown",
   "metadata": {
    "deletable": false,
    "editable": false,
    "run_control": {
     "frozen": true
    }
   },
   "source": [
    "## Calcul rapide de suites récurrentes linéaires\n",
    "\n",
    "On a trouvé dans la partie **1.** la valeur maximale de $n$ pour laquelle on arrive à calculer le $n$^ème^ terme de la suite de Fibonacci. L'objectif de cette partie est d'accélérer ces calculs."
   ]
  },
  {
   "cell_type": "markdown",
   "metadata": {
    "deletable": false,
    "editable": false,
    "run_control": {
     "frozen": true
    }
   },
   "source": [
    "### Question\n",
    "Pour accélérer les calculs (pour une suite récurrente quelconque), on remarque que l'équation $u_{n+k} = a_0u_n+\\dotsb+a_{k-1}u_{n+k-1}$ s'écrit de la manière matricielle suivante :\n",
    "$$\\begin{pmatrix} u_{n+1}\\\\u_{n+2}\\\\\\vdots\\\\u_{n+k-1}\\\\u_{n+k}\\end{pmatrix} \n",
    " = \\begin{pmatrix}\n",
    "     0 & 1 & 0 & \\dots & 0 \\\\\n",
    "     0 & 0 & 1 & \\dots & 0 \\\\\n",
    "       &   &   & \\ddots\\\\\n",
    "     0 & 0 & 0 & \\dots & 1 \\\\\n",
    "     a_0 & a_1 & a_2 & \\dots & a_{k-1}\n",
    "   \\end{pmatrix}\n",
    " \\begin{pmatrix} u_{n}\\\\u_{n+1}\\\\\\vdots\\\\u_{n+k-2}\\\\u_{n+k-1}\\end{pmatrix} $$\n",
    " \n",
    " 1. Écrire une fonction `matrice` qui prend en entrée les coefficients d'une équation de récurrence et renvoie la matrice correspondante. *La construction `matrix(n,n)` construit une matrice de dimensions $n\\times n$ remplie de $0$.*\n",
    " 1. Utiliser la matrice pour calculer les 10 premiers termes de la suite de Fibonacci, et vérifier qu'on obtient bien le bon résultat. *Il faut faire un produit matrice-vecteur : pour cela, il faut transformer une liste de conditions initiales `U` en un vecteur avec `vector(U)`.*\n",
    " 2. Quelle matrice doit-on appliquer au vecteur pour passer directement de $[u_0,\\dots,u_{k-1}]$ à $[u_k,\\dots,u_{2k-1}]$ ? Vérifier sur l'exemple de Fibonacci, et sur la suite $v_{n+5} = 3v_{n+2}+v_n$ avec $v_k = 1$ pour $k < 5$."
   ]
  },
  {
   "cell_type": "code",
   "execution_count": 51,
   "metadata": {},
   "outputs": [],
   "source": [
    "def matrice(coeffs):\n",
    "    k = len(coeffs)\n",
    "    matrice = matrix(k,k)\n",
    "    for i in range(k):\n",
    "        matrice[i-1,i] = 1\n",
    "        matrice[k-1,i] = coeffs[i]\n",
    "    return matrice\n",
    "\n",
    "def suite_matrice(coeffs,conds,n):\n",
    "    k = len(coeffs)\n",
    "    mat = matrice(coeffs)\n",
    "    termes = []\n",
    "    for x in conds:\n",
    "        termes.append(x)\n",
    "    for j in range(n-len(conds)):\n",
    "        termes.append((mat*vector(conds))[1])\n",
    "        conds = mat*vector(conds)\n",
    "    return vector(termes).column()"
   ]
  },
  {
   "cell_type": "code",
   "execution_count": 52,
   "metadata": {},
   "outputs": [
    {
     "data": {
      "text/html": [
       "<html>\\(\\displaystyle \\left(\\begin{array}{rrrrr}\n",
       "0 & 1 & 0 & 0 & 0 \\\\\n",
       "0 & 0 & 1 & 0 & 0 \\\\\n",
       "0 & 0 & 0 & 1 & 0 \\\\\n",
       "0 & 0 & 0 & 0 & 1 \\\\\n",
       "1 & 0 & 3 & 0 & 0\n",
       "\\end{array}\\right)\\)</html>"
      ],
      "text/latex": [
       "$\\displaystyle \\left(\\begin{array}{rrrrr}\n",
       "0 & 1 & 0 & 0 & 0 \\\\\n",
       "0 & 0 & 1 & 0 & 0 \\\\\n",
       "0 & 0 & 0 & 1 & 0 \\\\\n",
       "0 & 0 & 0 & 0 & 1 \\\\\n",
       "1 & 0 & 3 & 0 & 0\n",
       "\\end{array}\\right)$"
      ],
      "text/plain": [
       "[0 1 0 0 0]\n",
       "[0 0 1 0 0]\n",
       "[0 0 0 1 0]\n",
       "[0 0 0 0 1]\n",
       "[1 0 3 0 0]"
      ]
     },
     "metadata": {},
     "output_type": "display_data"
    },
    {
     "data": {
      "text/html": [
       "<html>\\(\\displaystyle \\left(\\begin{array}{r}\n",
       "0 \\\\\n",
       "1 \\\\\n",
       "1 \\\\\n",
       "2 \\\\\n",
       "3 \\\\\n",
       "5 \\\\\n",
       "8 \\\\\n",
       "13 \\\\\n",
       "21 \\\\\n",
       "34\n",
       "\\end{array}\\right)\\)</html>"
      ],
      "text/latex": [
       "$\\displaystyle \\left(\\begin{array}{r}\n",
       "0 \\\\\n",
       "1 \\\\\n",
       "1 \\\\\n",
       "2 \\\\\n",
       "3 \\\\\n",
       "5 \\\\\n",
       "8 \\\\\n",
       "13 \\\\\n",
       "21 \\\\\n",
       "34\n",
       "\\end{array}\\right)$"
      ],
      "text/plain": [
       "[ 0]\n",
       "[ 1]\n",
       "[ 1]\n",
       "[ 2]\n",
       "[ 3]\n",
       "[ 5]\n",
       "[ 8]\n",
       "[13]\n",
       "[21]\n",
       "[34]"
      ]
     },
     "metadata": {},
     "output_type": "display_data"
    },
    {
     "data": {
      "text/html": [
       "<html>\\(\\displaystyle \\left[0, 1, 1, 2, 3, 5, 8, 13, 21, 34\\right]\\)</html>"
      ],
      "text/latex": [
       "$\\displaystyle \\left[0, 1, 1, 2, 3, 5, 8, 13, 21, 34\\right]$"
      ],
      "text/plain": [
       "[0, 1, 1, 2, 3, 5, 8, 13, 21, 34]"
      ]
     },
     "metadata": {},
     "output_type": "display_data"
    }
   ],
   "source": [
    "show(matrice([1,0,3,0,0]))\n",
    "show(suite_matrice([1,1],[0,1],10))\n",
    "show(liste_fibonacci(10))"
   ]
  },
  {
   "cell_type": "code",
   "execution_count": 53,
   "metadata": {},
   "outputs": [
    {
     "data": {
      "text/html": [
       "<html>\\(\\displaystyle \\left(13,\\,21\\right)\\)</html>"
      ],
      "text/latex": [
       "$\\displaystyle \\left(13,\\,21\\right)$"
      ],
      "text/plain": [
       "(13, 21)"
      ]
     },
     "metadata": {},
     "output_type": "display_data"
    },
    {
     "data": {
      "text/html": [
       "<html>\\(\\displaystyle \\left[0, 1, 1, 2, 3, 5, 8, 13, 21\\right]\\)</html>"
      ],
      "text/latex": [
       "$\\displaystyle \\left[0, 1, 1, 2, 3, 5, 8, 13, 21\\right]$"
      ],
      "text/plain": [
       "[0, 1, 1, 2, 3, 5, 8, 13, 21]"
      ]
     },
     "metadata": {},
     "output_type": "display_data"
    },
    {
     "data": {
      "text/html": [
       "<html>\\(\\displaystyle \\left(4,\\,13,\\,13,\\,16,\\,43\\right)\\)</html>"
      ],
      "text/latex": [
       "$\\displaystyle \\left(4,\\,13,\\,13,\\,16,\\,43\\right)$"
      ],
      "text/plain": [
       "(4, 13, 13, 16, 43)"
      ]
     },
     "metadata": {},
     "output_type": "display_data"
    },
    {
     "data": {
      "text/html": [
       "<html>\\(\\displaystyle \\left[1, 1, 1, 1, 1, 4, 4, 4, 13, 13, 16, 43\\right]\\)</html>"
      ],
      "text/latex": [
       "$\\displaystyle \\left[1, 1, 1, 1, 1, 4, 4, 4, 13, 13, 16, 43\\right]$"
      ],
      "text/plain": [
       "[1, 1, 1, 1, 1, 4, 4, 4, 13, 13, 16, 43]"
      ]
     },
     "metadata": {},
     "output_type": "display_data"
    }
   ],
   "source": [
    "### La matrice des coefficients à la puissance k\n",
    "### En incrémentant n, on passe de terme en terme\n",
    "\n",
    "n = 7\n",
    "calculFib = ((matrice([1,1])^n)*vector([0,1]))\n",
    "show(calculFib)\n",
    "### Ici, calculFib renvoie le tuple formé de (F7,F8)\n",
    "show(liste_fibonacci(9))\n",
    "\n",
    "calculV = ((matrice([1,0,3,0,0])^n)*vector([1,1,1,1,1]))\n",
    "show(calculV)\n",
    "### Ici, calculV renvoie le tuple formé de (v6,v7,v8,v9,v10)\n",
    "show(liste_termes([1,1,1,1,1],[1,0,3,0,0],11))\n"
   ]
  },
  {
   "cell_type": "markdown",
   "metadata": {
    "deletable": false,
    "editable": false,
    "run_control": {
     "frozen": true
    }
   },
   "source": [
    "### Question\n",
    "De manière générale, si on note $M$ la matrice associée à une récurrence $u_{n+k} = a_0u_n+\\dotsb+a_{k-1}u_{n+k-1}$, et $\\vec u_{[n,n+k[}$ le vecteur $(u_n,\\dotsc,u_{n+k-1})$, on a l'égalité $\\vec u_{[n+t,n+t+k[} = M^t \\vec u_{[n,n+k[}$.\n",
    "1. Utiliser la puissance de matrices proposée dans SageMath pour calculer $(F_{10000},F_{10001})$ où $F_k$ est le $k$-ème nombre de Fibonacci. *Comparer le temps de calcul avec votre fonction `fibonacci` à l'aide de la « commande magique » `%time`.*\n",
    "2. Si on suppose qu'on ne dispose pas de puissance de matrice, mais simplement du produit de matrices, quel algorithme peut-on utiliser pour faire le calcul rapidement ? *Coder l'algorithme et comparer le temps de calcul avec la question précédente.*"
   ]
  },
  {
   "cell_type": "code",
   "execution_count": 54,
   "metadata": {},
   "outputs": [
    {
     "name": "stdout",
     "output_type": "stream",
     "text": [
      "CPU times: user 113 µs, sys: 0 ns, total: 113 µs\n",
      "Wall time: 114 µs\n",
      "CPU times: user 1.3 ms, sys: 17 µs, total: 1.32 ms\n",
      "Wall time: 1.33 ms\n"
     ]
    }
   ],
   "source": [
    "%time calcul_matrice = (((matrice([1,1])^10000)*vector([0,1])))\n",
    "%time calcul_ite = fibonacci_ite(10000)"
   ]
  },
  {
   "cell_type": "code",
   "execution_count": 55,
   "metadata": {},
   "outputs": [
    {
     "name": "stdout",
     "output_type": "stream",
     "text": [
      "CPU times: user 126 ms, sys: 4.03 ms, total: 130 ms\n",
      "Wall time: 130 ms\n"
     ]
    },
    {
     "data": {
      "text/html": [
       "<html>\\(\\displaystyle \\left(33644764876431783266621612005107543310302148460680063906564769974680081442166662368155595513633734025582065332680836159373734790483865268263040892463056431887354544369559827491606602099884183933864652731300088830269235673613135117579297437854413752130520504347701602264758318906527890855154366159582987279682987510631200575428783453215515103870818298969791613127856265033195487140214287532698187962046936097879900350962302291026368131493195275630227837628441540360584402572114334961180023091208287046088923962328835461505776583271252546093591128203925285393434620904245248929403901706233888991085841065183173360437470737908552631764325733993712871937587746897479926305837065742830161637408969178426378624212835258112820516370298089332099905707920064367426202389783111470054074998459250360633560933883831923386783056136435351892133279732908133732642652633989763922723407882928177953580570993691049175470808931841056146322338217465637321248226383092103297701648054726243842374862411453093812206564914032751086643394517512161526545361333111314042436854805106765843493523836959653428071768775328348234345557366719731392746273629108210679280784718035329131176778924659089938635459327894523777674406192240337638674004021330343297496902028328145933418826817683893072003634795623117103101291953169794607632737589253530772552375943788434504067715555779056450443016640119462580972216729758615026968443146952034614932291105970676243268515992834709891284706740862008587135016260312071903172086094081298321581077282076353186624611278245537208532365305775956430072517744315051539600905168603220349163222640885248852433158051534849622434848299380905070483482449327453732624567755879089187190803662058009594743150052402532709746995318770724376825907419939632265984147498193609285223945039707165443156421328157688908058783183404917434556270520223564846495196112460268313970975069382648706613264507665074611512677522748621598642530711298441182622661057163515069260029861704945425047491378115154139941550671256271197133252763631939606902895650288268608362241082050562430701794976171121233066073310059947366875\\right)\\)</html>"
      ],
      "text/latex": [
       "$\\displaystyle \\left(33644764876431783266621612005107543310302148460680063906564769974680081442166662368155595513633734025582065332680836159373734790483865268263040892463056431887354544369559827491606602099884183933864652731300088830269235673613135117579297437854413752130520504347701602264758318906527890855154366159582987279682987510631200575428783453215515103870818298969791613127856265033195487140214287532698187962046936097879900350962302291026368131493195275630227837628441540360584402572114334961180023091208287046088923962328835461505776583271252546093591128203925285393434620904245248929403901706233888991085841065183173360437470737908552631764325733993712871937587746897479926305837065742830161637408969178426378624212835258112820516370298089332099905707920064367426202389783111470054074998459250360633560933883831923386783056136435351892133279732908133732642652633989763922723407882928177953580570993691049175470808931841056146322338217465637321248226383092103297701648054726243842374862411453093812206564914032751086643394517512161526545361333111314042436854805106765843493523836959653428071768775328348234345557366719731392746273629108210679280784718035329131176778924659089938635459327894523777674406192240337638674004021330343297496902028328145933418826817683893072003634795623117103101291953169794607632737589253530772552375943788434504067715555779056450443016640119462580972216729758615026968443146952034614932291105970676243268515992834709891284706740862008587135016260312071903172086094081298321581077282076353186624611278245537208532365305775956430072517744315051539600905168603220349163222640885248852433158051534849622434848299380905070483482449327453732624567755879089187190803662058009594743150052402532709746995318770724376825907419939632265984147498193609285223945039707165443156421328157688908058783183404917434556270520223564846495196112460268313970975069382648706613264507665074611512677522748621598642530711298441182622661057163515069260029861704945425047491378115154139941550671256271197133252763631939606902895650288268608362241082050562430701794976171121233066073310059947366875\\right)$"
      ],
      "text/plain": [
       "(33644764876431783266621612005107543310302148460680063906564769974680081442166662368155595513633734025582065332680836159373734790483865268263040892463056431887354544369559827491606602099884183933864652731300088830269235673613135117579297437854413752130520504347701602264758318906527890855154366159582987279682987510631200575428783453215515103870818298969791613127856265033195487140214287532698187962046936097879900350962302291026368131493195275630227837628441540360584402572114334961180023091208287046088923962328835461505776583271252546093591128203925285393434620904245248929403901706233888991085841065183173360437470737908552631764325733993712871937587746897479926305837065742830161637408969178426378624212835258112820516370298089332099905707920064367426202389783111470054074998459250360633560933883831923386783056136435351892133279732908133732642652633989763922723407882928177953580570993691049175470808931841056146322338217465637321248226383092103297701648054726243842374862411453093812206564914032751086643394517512161526545361333111314042436854805106765843493523836959653428071768775328348234345557366719731392746273629108210679280784718035329131176778924659089938635459327894523777674406192240337638674004021330343297496902028328145933418826817683893072003634795623117103101291953169794607632737589253530772552375943788434504067715555779056450443016640119462580972216729758615026968443146952034614932291105970676243268515992834709891284706740862008587135016260312071903172086094081298321581077282076353186624611278245537208532365305775956430072517744315051539600905168603220349163222640885248852433158051534849622434848299380905070483482449327453732624567755879089187190803662058009594743150052402532709746995318770724376825907419939632265984147498193609285223945039707165443156421328157688908058783183404917434556270520223564846495196112460268313970975069382648706613264507665074611512677522748621598642530711298441182622661057163515069260029861704945425047491378115154139941550671256271197133252763631939606902895650288268608362241082050562430701794976171121233066073310059947366875)"
      ]
     },
     "metadata": {},
     "output_type": "display_data"
    },
    {
     "name": "stdout",
     "output_type": "stream",
     "text": [
      "CPU times: user 117 µs, sys: 1e+03 ns, total: 118 µs\n",
      "Wall time: 118 µs\n"
     ]
    },
    {
     "data": {
      "text/html": [
       "<html>\\(\\displaystyle \\left(33644764876431783266621612005107543310302148460680063906564769974680081442166662368155595513633734025582065332680836159373734790483865268263040892463056431887354544369559827491606602099884183933864652731300088830269235673613135117579297437854413752130520504347701602264758318906527890855154366159582987279682987510631200575428783453215515103870818298969791613127856265033195487140214287532698187962046936097879900350962302291026368131493195275630227837628441540360584402572114334961180023091208287046088923962328835461505776583271252546093591128203925285393434620904245248929403901706233888991085841065183173360437470737908552631764325733993712871937587746897479926305837065742830161637408969178426378624212835258112820516370298089332099905707920064367426202389783111470054074998459250360633560933883831923386783056136435351892133279732908133732642652633989763922723407882928177953580570993691049175470808931841056146322338217465637321248226383092103297701648054726243842374862411453093812206564914032751086643394517512161526545361333111314042436854805106765843493523836959653428071768775328348234345557366719731392746273629108210679280784718035329131176778924659089938635459327894523777674406192240337638674004021330343297496902028328145933418826817683893072003634795623117103101291953169794607632737589253530772552375943788434504067715555779056450443016640119462580972216729758615026968443146952034614932291105970676243268515992834709891284706740862008587135016260312071903172086094081298321581077282076353186624611278245537208532365305775956430072517744315051539600905168603220349163222640885248852433158051534849622434848299380905070483482449327453732624567755879089187190803662058009594743150052402532709746995318770724376825907419939632265984147498193609285223945039707165443156421328157688908058783183404917434556270520223564846495196112460268313970975069382648706613264507665074611512677522748621598642530711298441182622661057163515069260029861704945425047491378115154139941550671256271197133252763631939606902895650288268608362241082050562430701794976171121233066073310059947366875,\\,54438373113565281338734260993750380135389184554695967026247715841208582865622349017083051547938960541173822675978026317384359584751116241439174702642959169925586334117906063048089793531476108466259072759367899150677960088306597966641965824937721800381441158841042480997984696487375337180028163763317781927941101369262750979509800713596718023814710669912644214775254478587674568963808002962265133111359929762726679441400101575800043510777465935805362502461707918059226414679005690752321895868142367849593880756423483754386342639635970733756260098962462668746112041739819404875062443709868654315626847186195620146126642232711815040367018825205314845875817193533529827837800351902529239517836689467661917953884712441028463935449484614450778762529520961887597272889220768537396475869543159172434537193611263743926337313005896167248051737986306368115003088396749587102619524631352447499505204198305187168321623283859794627245919771454628218399695789223798912199431775469705216131081096559950638297261253848242007897109054754028438149611930465061866170122983288964352733750792786069444761853525144421077928045979904561298129423809156055033032338919609162236698759922782923191896688017718575555520994653320128446502371153715141749290913104897203455577507196645425232862022019506091483585223882711016708433051169942115775151255510251655931888164048344129557038825477521111577395780115868397072602565614824956460538700280331311861485399805397031555727529693399586079850381581446276433858828529535803424850845426446471681531001533180479567436396815653326152509571127480411928196022148849148284389124178520174507305538928717857923509417743383331506898239354421988805429332440371194867215543576548565499134519271098919802665184564927827827212957649240235507595558205647569365394873317659000206373126570643509709482649710038733517477713403319028105575667931789470024118803094604034362953471997461392274791549730356412633074230824051999996101549784667340458326852960388301120765629245998136251652347093963049734046445106365304163630823669242257761468288461791843224793434406079917883360676846711185597501\\right)\\)</html>"
      ],
      "text/latex": [
       "$\\displaystyle \\left(33644764876431783266621612005107543310302148460680063906564769974680081442166662368155595513633734025582065332680836159373734790483865268263040892463056431887354544369559827491606602099884183933864652731300088830269235673613135117579297437854413752130520504347701602264758318906527890855154366159582987279682987510631200575428783453215515103870818298969791613127856265033195487140214287532698187962046936097879900350962302291026368131493195275630227837628441540360584402572114334961180023091208287046088923962328835461505776583271252546093591128203925285393434620904245248929403901706233888991085841065183173360437470737908552631764325733993712871937587746897479926305837065742830161637408969178426378624212835258112820516370298089332099905707920064367426202389783111470054074998459250360633560933883831923386783056136435351892133279732908133732642652633989763922723407882928177953580570993691049175470808931841056146322338217465637321248226383092103297701648054726243842374862411453093812206564914032751086643394517512161526545361333111314042436854805106765843493523836959653428071768775328348234345557366719731392746273629108210679280784718035329131176778924659089938635459327894523777674406192240337638674004021330343297496902028328145933418826817683893072003634795623117103101291953169794607632737589253530772552375943788434504067715555779056450443016640119462580972216729758615026968443146952034614932291105970676243268515992834709891284706740862008587135016260312071903172086094081298321581077282076353186624611278245537208532365305775956430072517744315051539600905168603220349163222640885248852433158051534849622434848299380905070483482449327453732624567755879089187190803662058009594743150052402532709746995318770724376825907419939632265984147498193609285223945039707165443156421328157688908058783183404917434556270520223564846495196112460268313970975069382648706613264507665074611512677522748621598642530711298441182622661057163515069260029861704945425047491378115154139941550671256271197133252763631939606902895650288268608362241082050562430701794976171121233066073310059947366875,\\,54438373113565281338734260993750380135389184554695967026247715841208582865622349017083051547938960541173822675978026317384359584751116241439174702642959169925586334117906063048089793531476108466259072759367899150677960088306597966641965824937721800381441158841042480997984696487375337180028163763317781927941101369262750979509800713596718023814710669912644214775254478587674568963808002962265133111359929762726679441400101575800043510777465935805362502461707918059226414679005690752321895868142367849593880756423483754386342639635970733756260098962462668746112041739819404875062443709868654315626847186195620146126642232711815040367018825205314845875817193533529827837800351902529239517836689467661917953884712441028463935449484614450778762529520961887597272889220768537396475869543159172434537193611263743926337313005896167248051737986306368115003088396749587102619524631352447499505204198305187168321623283859794627245919771454628218399695789223798912199431775469705216131081096559950638297261253848242007897109054754028438149611930465061866170122983288964352733750792786069444761853525144421077928045979904561298129423809156055033032338919609162236698759922782923191896688017718575555520994653320128446502371153715141749290913104897203455577507196645425232862022019506091483585223882711016708433051169942115775151255510251655931888164048344129557038825477521111577395780115868397072602565614824956460538700280331311861485399805397031555727529693399586079850381581446276433858828529535803424850845426446471681531001533180479567436396815653326152509571127480411928196022148849148284389124178520174507305538928717857923509417743383331506898239354421988805429332440371194867215543576548565499134519271098919802665184564927827827212957649240235507595558205647569365394873317659000206373126570643509709482649710038733517477713403319028105575667931789470024118803094604034362953471997461392274791549730356412633074230824051999996101549784667340458326852960388301120765629245998136251652347093963049734046445106365304163630823669242257761468288461791843224793434406079917883360676846711185597501\\right)$"
      ],
      "text/plain": [
       "(33644764876431783266621612005107543310302148460680063906564769974680081442166662368155595513633734025582065332680836159373734790483865268263040892463056431887354544369559827491606602099884183933864652731300088830269235673613135117579297437854413752130520504347701602264758318906527890855154366159582987279682987510631200575428783453215515103870818298969791613127856265033195487140214287532698187962046936097879900350962302291026368131493195275630227837628441540360584402572114334961180023091208287046088923962328835461505776583271252546093591128203925285393434620904245248929403901706233888991085841065183173360437470737908552631764325733993712871937587746897479926305837065742830161637408969178426378624212835258112820516370298089332099905707920064367426202389783111470054074998459250360633560933883831923386783056136435351892133279732908133732642652633989763922723407882928177953580570993691049175470808931841056146322338217465637321248226383092103297701648054726243842374862411453093812206564914032751086643394517512161526545361333111314042436854805106765843493523836959653428071768775328348234345557366719731392746273629108210679280784718035329131176778924659089938635459327894523777674406192240337638674004021330343297496902028328145933418826817683893072003634795623117103101291953169794607632737589253530772552375943788434504067715555779056450443016640119462580972216729758615026968443146952034614932291105970676243268515992834709891284706740862008587135016260312071903172086094081298321581077282076353186624611278245537208532365305775956430072517744315051539600905168603220349163222640885248852433158051534849622434848299380905070483482449327453732624567755879089187190803662058009594743150052402532709746995318770724376825907419939632265984147498193609285223945039707165443156421328157688908058783183404917434556270520223564846495196112460268313970975069382648706613264507665074611512677522748621598642530711298441182622661057163515069260029861704945425047491378115154139941550671256271197133252763631939606902895650288268608362241082050562430701794976171121233066073310059947366875, 54438373113565281338734260993750380135389184554695967026247715841208582865622349017083051547938960541173822675978026317384359584751116241439174702642959169925586334117906063048089793531476108466259072759367899150677960088306597966641965824937721800381441158841042480997984696487375337180028163763317781927941101369262750979509800713596718023814710669912644214775254478587674568963808002962265133111359929762726679441400101575800043510777465935805362502461707918059226414679005690752321895868142367849593880756423483754386342639635970733756260098962462668746112041739819404875062443709868654315626847186195620146126642232711815040367018825205314845875817193533529827837800351902529239517836689467661917953884712441028463935449484614450778762529520961887597272889220768537396475869543159172434537193611263743926337313005896167248051737986306368115003088396749587102619524631352447499505204198305187168321623283859794627245919771454628218399695789223798912199431775469705216131081096559950638297261253848242007897109054754028438149611930465061866170122983288964352733750792786069444761853525144421077928045979904561298129423809156055033032338919609162236698759922782923191896688017718575555520994653320128446502371153715141749290913104897203455577507196645425232862022019506091483585223882711016708433051169942115775151255510251655931888164048344129557038825477521111577395780115868397072602565614824956460538700280331311861485399805397031555727529693399586079850381581446276433858828529535803424850845426446471681531001533180479567436396815653326152509571127480411928196022148849148284389124178520174507305538928717857923509417743383331506898239354421988805429332440371194867215543576548565499134519271098919802665184564927827827212957649240235507595558205647569365394873317659000206373126570643509709482649710038733517477713403319028105575667931789470024118803094604034362953471997461392274791549730356412633074230824051999996101549784667340458326852960388301120765629245998136251652347093963049734046445106365304163630823669242257761468288461791843224793434406079917883360676846711185597501)"
      ]
     },
     "metadata": {},
     "output_type": "display_data"
    }
   ],
   "source": [
    "# Voir fonction suite_matrice\n",
    "\n",
    "%time suite_matrice([1,1],[0,1],10000)\n",
    "show(suite_matrice([1,1],[0,1],10001)[-1])\n",
    "%time calcul_matrice = (((matrice([1,1])^10000)*vector([0,1])))\n",
    "show((((matrice([1,1])^10000)*vector([0,1]))))"
   ]
  },
  {
   "cell_type": "code",
   "execution_count": null,
   "metadata": {},
   "outputs": [],
   "source": []
  }
 ],
 "metadata": {
  "celltoolbar": "Aucun(e)",
  "kernelspec": {
   "display_name": "SageMath 9.6",
   "language": "sage",
   "name": "sagemath-9.6"
  },
  "language_info": {
   "codemirror_mode": {
    "name": "ipython",
    "version": 3
   },
   "file_extension": ".py",
   "mimetype": "text/x-python",
   "name": "python",
   "nbconvert_exporter": "python",
   "pygments_lexer": "ipython3",
   "version": "3.10.3"
  },
  "toc": {
   "base_numbering": 1,
   "nav_menu": {},
   "number_sections": true,
   "sideBar": true,
   "skip_h1_title": true,
   "title_cell": "Table of Contents",
   "title_sidebar": "Contents",
   "toc_cell": false,
   "toc_position": {
    "height": "904.867px",
    "left": "0px",
    "right": "20px",
    "top": "111.133px",
    "width": "231px"
   },
   "toc_section_display": "block",
   "toc_window_display": true
  },
  "varInspector": {
   "cols": {
    "lenName": 16,
    "lenType": 16,
    "lenVar": 40
   },
   "kernels_config": {
    "python": {
     "delete_cmd_postfix": "",
     "delete_cmd_prefix": "del ",
     "library": "var_list.py",
     "varRefreshCmd": "print(var_dic_list())"
    },
    "r": {
     "delete_cmd_postfix": ") ",
     "delete_cmd_prefix": "rm(",
     "library": "var_list.r",
     "varRefreshCmd": "cat(var_dic_list()) "
    }
   },
   "types_to_exclude": [
    "module",
    "function",
    "builtin_function_or_method",
    "instance",
    "_Feature"
   ],
   "window_display": false
  }
 },
 "nbformat": 4,
 "nbformat_minor": 4
}
